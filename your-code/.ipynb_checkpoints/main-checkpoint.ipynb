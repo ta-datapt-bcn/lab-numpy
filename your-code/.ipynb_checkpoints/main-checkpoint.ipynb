{
 "cells": [
  {
   "cell_type": "markdown",
   "metadata": {},
   "source": [
    "# Intrduction to NumPy\n",
    "\n",
    "\n",
    "#### 1. Import NumPy under the name np."
   ]
  },
  {
   "cell_type": "code",
   "execution_count": 1,
   "metadata": {
    "ExecuteTime": {
     "end_time": "2020-01-27T20:14:32.164822Z",
     "start_time": "2020-01-27T20:14:31.971770Z"
    }
   },
   "outputs": [],
   "source": [
    "# your code here\n",
    "import numpy as np"
   ]
  },
  {
   "cell_type": "markdown",
   "metadata": {},
   "source": [
    "#### 2. Print your NumPy version."
   ]
  },
  {
   "cell_type": "code",
   "execution_count": 2,
   "metadata": {
    "ExecuteTime": {
     "end_time": "2020-01-27T20:14:32.170257Z",
     "start_time": "2020-01-27T20:14:32.166703Z"
    },
    "scrolled": true
   },
   "outputs": [
    {
     "name": "stdout",
     "output_type": "stream",
     "text": [
      "1.17.2\n"
     ]
    }
   ],
   "source": [
    "# your code here\n",
    "print(np.__version__)"
   ]
  },
  {
   "cell_type": "markdown",
   "metadata": {},
   "source": [
    "#### 3. Generate a 2x3x5 3-dimensional array with random values. Assign the array to variable *a*.\n",
    "**Challenge**: there are at least three easy ways that use numpy to generate random arrays. How many ways can you find?"
   ]
  },
  {
   "cell_type": "code",
   "execution_count": 3,
   "metadata": {
    "ExecuteTime": {
     "end_time": "2020-01-27T20:14:32.176960Z",
     "start_time": "2020-01-27T20:14:32.172764Z"
    }
   },
   "outputs": [
    {
     "name": "stdout",
     "output_type": "stream",
     "text": [
      "(2, 3, 5)\n",
      "[[[0.85486497 0.34203775 0.95127658 0.15284099 0.16261281]\n",
      "  [0.6361999  0.27476986 0.31232035 0.24791299 0.93172973]\n",
      "  [0.44337649 0.80195859 0.87881614 0.40154202 0.51046241]]\n",
      "\n",
      " [[0.36915742 0.58726984 0.94533656 0.12139431 0.55243152]\n",
      "  [0.08594203 0.092054   0.24220195 0.25468715 0.21861203]\n",
      "  [0.44723091 0.9311239  0.78839485 0.14371431 0.48534888]]]\n"
     ]
    }
   ],
   "source": [
    "# Method 1\n",
    "a = np.random.random((2,3,5))\n",
    "print(a.shape)\n",
    "print(a)"
   ]
  },
  {
   "cell_type": "code",
   "execution_count": 4,
   "metadata": {
    "ExecuteTime": {
     "end_time": "2020-01-27T20:14:32.183352Z",
     "start_time": "2020-01-27T20:14:32.178597Z"
    }
   },
   "outputs": [
    {
     "name": "stdout",
     "output_type": "stream",
     "text": [
      "(2, 3, 5)\n",
      "[[[0.37760157 0.48767573 0.039025   0.69259415 0.91971749]\n",
      "  [0.63586956 0.20050173 0.56020221 0.27246752 0.7668188 ]\n",
      "  [0.89325555 0.04451551 0.51625348 0.82879779 0.00272163]]\n",
      "\n",
      " [[0.85392212 0.31070025 0.7544946  0.17101857 0.74094333]\n",
      "  [0.39441106 0.74976192 0.92921792 0.01502561 0.14849991]\n",
      "  [0.93842693 0.42024613 0.70286505 0.87227108 0.70881235]]]\n"
     ]
    }
   ],
   "source": [
    "# Method 2\n",
    "lst = [[[np.random.random() for i in range(5)] for i in range(3)] for i in range(2)]\n",
    "b = np.array(lst)\n",
    "print(b.shape)\n",
    "print(b)"
   ]
  },
  {
   "cell_type": "code",
   "execution_count": 5,
   "metadata": {
    "ExecuteTime": {
     "end_time": "2020-01-27T20:14:32.186881Z",
     "start_time": "2020-01-27T20:14:32.184897Z"
    }
   },
   "outputs": [],
   "source": [
    "# Method 3"
   ]
  },
  {
   "cell_type": "markdown",
   "metadata": {},
   "source": [
    "#### 4. Print *a*.\n"
   ]
  },
  {
   "cell_type": "code",
   "execution_count": 6,
   "metadata": {
    "ExecuteTime": {
     "end_time": "2020-01-27T20:14:32.191541Z",
     "start_time": "2020-01-27T20:14:32.188397Z"
    }
   },
   "outputs": [
    {
     "name": "stdout",
     "output_type": "stream",
     "text": [
      "[[[0.85486497 0.34203775 0.95127658 0.15284099 0.16261281]\n",
      "  [0.6361999  0.27476986 0.31232035 0.24791299 0.93172973]\n",
      "  [0.44337649 0.80195859 0.87881614 0.40154202 0.51046241]]\n",
      "\n",
      " [[0.36915742 0.58726984 0.94533656 0.12139431 0.55243152]\n",
      "  [0.08594203 0.092054   0.24220195 0.25468715 0.21861203]\n",
      "  [0.44723091 0.9311239  0.78839485 0.14371431 0.48534888]]]\n"
     ]
    }
   ],
   "source": [
    "# your code here\n",
    "print(a)"
   ]
  },
  {
   "cell_type": "markdown",
   "metadata": {},
   "source": [
    "#### 5. Create a 5x2x3 3-dimensional array with all values equaling 1. Assign the array to variable *b*."
   ]
  },
  {
   "cell_type": "code",
   "execution_count": 7,
   "metadata": {
    "ExecuteTime": {
     "end_time": "2020-01-27T20:14:32.201969Z",
     "start_time": "2020-01-27T20:14:32.193079Z"
    }
   },
   "outputs": [
    {
     "data": {
      "text/plain": [
       "(5, 2, 3)"
      ]
     },
     "execution_count": 7,
     "metadata": {},
     "output_type": "execute_result"
    }
   ],
   "source": [
    "# your code here\n",
    "b = [[[1 for num in range(3)]for i in range(2)]for i in range(5)]\n",
    "b = np.array(b)\n",
    "b.shape"
   ]
  },
  {
   "cell_type": "markdown",
   "metadata": {},
   "source": [
    "#### 6. Print *b*.\n"
   ]
  },
  {
   "cell_type": "code",
   "execution_count": 8,
   "metadata": {
    "ExecuteTime": {
     "end_time": "2020-01-27T20:14:32.208621Z",
     "start_time": "2020-01-27T20:14:32.204907Z"
    }
   },
   "outputs": [
    {
     "name": "stdout",
     "output_type": "stream",
     "text": [
      "[[[1 1 1]\n",
      "  [1 1 1]]\n",
      "\n",
      " [[1 1 1]\n",
      "  [1 1 1]]\n",
      "\n",
      " [[1 1 1]\n",
      "  [1 1 1]]\n",
      "\n",
      " [[1 1 1]\n",
      "  [1 1 1]]\n",
      "\n",
      " [[1 1 1]\n",
      "  [1 1 1]]]\n"
     ]
    }
   ],
   "source": [
    "# your code here\n",
    "print(b)"
   ]
  },
  {
   "cell_type": "markdown",
   "metadata": {},
   "source": [
    "#### 7. Do *a* and *b* have the same size? How do you prove that in Python code?"
   ]
  },
  {
   "cell_type": "code",
   "execution_count": 9,
   "metadata": {
    "ExecuteTime": {
     "end_time": "2020-01-27T20:14:32.216144Z",
     "start_time": "2020-01-27T20:14:32.212057Z"
    }
   },
   "outputs": [
    {
     "data": {
      "text/plain": [
       "True"
      ]
     },
     "execution_count": 9,
     "metadata": {},
     "output_type": "execute_result"
    }
   ],
   "source": [
    "# your code here\n",
    "a.size == b.size"
   ]
  },
  {
   "cell_type": "markdown",
   "metadata": {},
   "source": [
    "#### 8. Are you able to add *a* and *b*? Why or why not?\n"
   ]
  },
  {
   "cell_type": "code",
   "execution_count": 10,
   "metadata": {
    "ExecuteTime": {
     "end_time": "2020-01-27T20:14:32.220091Z",
     "start_time": "2020-01-27T20:14:32.217699Z"
    }
   },
   "outputs": [],
   "source": [
    "# your answer here\n",
    "\n",
    "# We cannot add its values since arrays a and b have different shape"
   ]
  },
  {
   "cell_type": "markdown",
   "metadata": {},
   "source": [
    "#### 9. Transpose *b* so that it has the same structure of *a* (i.e. become a 2x3x5 array). Assign the transposed array to variable *c*."
   ]
  },
  {
   "cell_type": "code",
   "execution_count": 11,
   "metadata": {
    "ExecuteTime": {
     "end_time": "2020-01-27T20:14:32.225621Z",
     "start_time": "2020-01-27T20:14:32.221433Z"
    }
   },
   "outputs": [
    {
     "name": "stdout",
     "output_type": "stream",
     "text": [
      "(2, 3, 5)\n",
      "[[[1 1 1 1 1]\n",
      "  [1 1 1 1 1]\n",
      "  [1 1 1 1 1]]\n",
      "\n",
      " [[1 1 1 1 1]\n",
      "  [1 1 1 1 1]\n",
      "  [1 1 1 1 1]]]\n"
     ]
    }
   ],
   "source": [
    "# your code here\n",
    "\n",
    "c = b.reshape(2,3,5)\n",
    "print(c.shape)\n",
    "print(c)\n",
    "\n",
    "# couldn't do it with np.transpose(). Though a and b had the same size,\n",
    "# transpose() said: axis 3 is out of bounds for array of dimension 3"
   ]
  },
  {
   "cell_type": "markdown",
   "metadata": {},
   "source": [
    "#### 10. Try to add *a* and *c*. Now it should work. Assign the sum to variable *d*. But why does it work now?"
   ]
  },
  {
   "cell_type": "code",
   "execution_count": 12,
   "metadata": {
    "ExecuteTime": {
     "end_time": "2020-01-27T20:14:32.230229Z",
     "start_time": "2020-01-27T20:14:32.227827Z"
    }
   },
   "outputs": [],
   "source": [
    "# your code/answer here\n",
    "\n",
    "d = a + c\n",
    "\n",
    "# works because a and d have the same shape"
   ]
  },
  {
   "cell_type": "markdown",
   "metadata": {},
   "source": [
    "#### 11. Print *a* and *d*. Notice the difference and relation of the two array in terms of the values? Explain."
   ]
  },
  {
   "cell_type": "code",
   "execution_count": 13,
   "metadata": {
    "ExecuteTime": {
     "end_time": "2020-01-27T20:14:32.235629Z",
     "start_time": "2020-01-27T20:14:32.231803Z"
    }
   },
   "outputs": [
    {
     "name": "stdout",
     "output_type": "stream",
     "text": [
      "[[[0.85486497 0.34203775 0.95127658 0.15284099 0.16261281]\n",
      "  [0.6361999  0.27476986 0.31232035 0.24791299 0.93172973]\n",
      "  [0.44337649 0.80195859 0.87881614 0.40154202 0.51046241]]\n",
      "\n",
      " [[0.36915742 0.58726984 0.94533656 0.12139431 0.55243152]\n",
      "  [0.08594203 0.092054   0.24220195 0.25468715 0.21861203]\n",
      "  [0.44723091 0.9311239  0.78839485 0.14371431 0.48534888]]]\n",
      "[[[1.85486497 1.34203775 1.95127658 1.15284099 1.16261281]\n",
      "  [1.6361999  1.27476986 1.31232035 1.24791299 1.93172973]\n",
      "  [1.44337649 1.80195859 1.87881614 1.40154202 1.51046241]]\n",
      "\n",
      " [[1.36915742 1.58726984 1.94533656 1.12139431 1.55243152]\n",
      "  [1.08594203 1.092054   1.24220195 1.25468715 1.21861203]\n",
      "  [1.44723091 1.9311239  1.78839485 1.14371431 1.48534888]]]\n"
     ]
    }
   ],
   "source": [
    "# your code/answer here\n",
    "\n",
    "print(a)\n",
    "print(d)\n",
    "\n",
    "# d is all a values +1, because each number is summed in its corresponding index"
   ]
  },
  {
   "cell_type": "markdown",
   "metadata": {},
   "source": [
    "#### 12. Multiply *a* and *c*. Assign the result to *e*."
   ]
  },
  {
   "cell_type": "code",
   "execution_count": 14,
   "metadata": {
    "ExecuteTime": {
     "end_time": "2020-01-27T20:14:32.240501Z",
     "start_time": "2020-01-27T20:14:32.237077Z"
    }
   },
   "outputs": [
    {
     "name": "stdout",
     "output_type": "stream",
     "text": [
      "[[[0.85486497 0.34203775 0.95127658 0.15284099 0.16261281]\n",
      "  [0.6361999  0.27476986 0.31232035 0.24791299 0.93172973]\n",
      "  [0.44337649 0.80195859 0.87881614 0.40154202 0.51046241]]\n",
      "\n",
      " [[0.36915742 0.58726984 0.94533656 0.12139431 0.55243152]\n",
      "  [0.08594203 0.092054   0.24220195 0.25468715 0.21861203]\n",
      "  [0.44723091 0.9311239  0.78839485 0.14371431 0.48534888]]]\n"
     ]
    }
   ],
   "source": [
    "# your code here\n",
    "e = a * c\n",
    "print(e)"
   ]
  },
  {
   "cell_type": "markdown",
   "metadata": {},
   "source": [
    "#### 13. Does *e* equal to *a*? Why or why not?\n"
   ]
  },
  {
   "cell_type": "code",
   "execution_count": 15,
   "metadata": {
    "ExecuteTime": {
     "end_time": "2020-01-27T20:14:32.244764Z",
     "start_time": "2020-01-27T20:14:32.241931Z"
    }
   },
   "outputs": [
    {
     "name": "stdout",
     "output_type": "stream",
     "text": [
      "The equality is True because all items in a are multiplied by one\n"
     ]
    }
   ],
   "source": [
    "# your code/answer here\n",
    "e == a\n",
    "\n",
    "print(f'The equality is True because all items in a are multiplied by one')"
   ]
  },
  {
   "cell_type": "markdown",
   "metadata": {},
   "source": [
    "#### 14. Identify the max, min, and mean values in *d*. Assign those values to variables *d_max*, *d_min* and *d_mean*."
   ]
  },
  {
   "cell_type": "code",
   "execution_count": 16,
   "metadata": {
    "ExecuteTime": {
     "end_time": "2020-01-27T20:14:32.250292Z",
     "start_time": "2020-01-27T20:14:32.246254Z"
    }
   },
   "outputs": [
    {
     "name": "stdout",
     "output_type": "stream",
     "text": [
      "The max value in d array is: 1.9512765828716165, the min value is 1.085942029151913 and the mean is 1.472254041673526\n"
     ]
    }
   ],
   "source": [
    "# your code here\n",
    "\n",
    "d_max = d.max()\n",
    "d_min = d.min()\n",
    "d_mean = d.mean()\n",
    "\n",
    "\n",
    "print(f'The max value in d array is: {d_max}, the min value is {d_min} and the mean is {d_mean}')"
   ]
  },
  {
   "cell_type": "markdown",
   "metadata": {},
   "source": [
    "#### 15. Now we want to label the values in *d*. First create an empty array *f* with the same shape (i.e. 2x3x5) as *d* using `np.empty`.\n"
   ]
  },
  {
   "cell_type": "code",
   "execution_count": 27,
   "metadata": {
    "ExecuteTime": {
     "end_time": "2020-01-27T20:27:46.957930Z",
     "start_time": "2020-01-27T20:27:46.953083Z"
    }
   },
   "outputs": [
    {
     "name": "stdout",
     "output_type": "stream",
     "text": [
      "[[[0.85486497 0.34203775 0.95127658 0.15284099 0.16261281]\n",
      "  [0.6361999  0.27476986 0.31232035 0.24791299 0.93172973]\n",
      "  [0.44337649 0.80195859 0.87881614 0.40154202 0.51046241]]\n",
      "\n",
      " [[0.36915742 0.58726984 0.94533656 0.12139431 0.55243152]\n",
      "  [0.08594203 0.092054   0.24220195 0.25468715 0.21861203]\n",
      "  [0.44723091 0.9311239  0.78839485 0.14371431 0.48534888]]]\n",
      "1.1437143107888055\n"
     ]
    }
   ],
   "source": [
    "# your code here\n",
    "\n",
    "f = np.empty((2,3,5))\n",
    "print(f)\n",
    "\n",
    "print(d[1][2][3])"
   ]
  },
  {
   "cell_type": "markdown",
   "metadata": {},
   "source": [
    "#### 16. Populate the values in *f*. \n",
    "\n",
    "For each value in *d*, if it's larger than *d_min* but smaller than *d_mean*, assign 25 to the corresponding value in *f*. If a value in *d* is larger than *d_mean* but smaller than *d_max*, assign 75 to the corresponding value in *f*. If a value equals to *d_mean*, assign 50 to the corresponding value in *f*. Assign 0 to the corresponding value(s) in *f* for *d_min* in *d*. Assign 100 to the corresponding value(s) in *f* for *d_max* in *d*. In the end, f should have only the following values: 0, 25, 50, 75, and 100.\n",
    "\n",
    "**Note**: you don't have to use Numpy in this question."
   ]
  },
  {
   "cell_type": "code",
   "execution_count": 38,
   "metadata": {
    "ExecuteTime": {
     "end_time": "2020-01-27T20:57:43.765369Z",
     "start_time": "2020-01-27T20:57:43.758835Z"
    },
    "code_folding": []
   },
   "outputs": [],
   "source": [
    "# your code here\n",
    "\n",
    "for x in range(len(d)):\n",
    "    # first dimension\n",
    "    for y in range(len(d[x])):\n",
    "        # second dimension\n",
    "        for z in range(len(d[x][y])):\n",
    "            #third dimension\n",
    "            # identifying array num in index\n",
    "            num_d = d[x][y][z]\n",
    "            if num_d > d_min and num_d < d_mean:\n",
    "                f[x][y][z] = 25\n",
    "            elif num_d > d_mean and num_d < d_max:\n",
    "                f[x][y][z] = 75\n",
    "            elif num_d == d_mean:\n",
    "                f[x][y][z] = 50\n",
    "            elif num_d == d_min:              \n",
    "                f[x][y][z] = 0\n",
    "            elif num_d == d_max:\n",
    "                f[x][y][z] = 100\n",
    "                \n",
    "\n",
    "\n"
   ]
  },
  {
   "cell_type": "markdown",
   "metadata": {},
   "source": [
    "### 17. Print *d* and *f*. Do you have your expected *f*?\n",
    "For instance, if your *d* is:\n",
    "```python\n",
    "[[[1.85836099, 1.67064465, 1.62576044, 1.40243961, 1.88454931],\n",
    "[1.75354326, 1.69403643, 1.36729252, 1.61415071, 1.12104981],\n",
    "[1.72201435, 1.1862918 , 1.87078449, 1.7726778 , 1.88180042]],\n",
    "[[1.44747908, 1.31673383, 1.02000951, 1.52218947, 1.97066381],\n",
    "[1.79129243, 1.74983003, 1.96028037, 1.85166831, 1.65450881],\n",
    "[1.18068344, 1.9587381 , 1.00656599, 1.93402165, 1.73514584]]]\n",
    "```\n",
    "Your *f* should be:\n",
    "```python\n",
    "[[[ 75.,  75.,  75.,  25.,  75.],\n",
    "[ 75.,  75.,  25.,  25.,  25.],\n",
    "[ 75.,  25.,  75.,  75.,  75.]],\n",
    "[[ 25.,  25.,  25.,  25., 100.],\n",
    "[ 75.,  75.,  75.,  75.,  75.],\n",
    "[ 25.,  75.,   0.,  75.,  75.]]]\n",
    "```"
   ]
  },
  {
   "cell_type": "code",
   "execution_count": 39,
   "metadata": {
    "ExecuteTime": {
     "end_time": "2020-01-27T20:57:45.657500Z",
     "start_time": "2020-01-27T20:57:45.653523Z"
    }
   },
   "outputs": [
    {
     "name": "stdout",
     "output_type": "stream",
     "text": [
      "[[[ 75.  25. 100.  25.  25.]\n",
      "  [ 75.  25.  25.  25.  75.]\n",
      "  [ 25.  75.  75.  25.  75.]]\n",
      "\n",
      " [[ 25.  75.  75.  25.  75.]\n",
      "  [  0.  25.  25.  25.  25.]\n",
      "  [ 25.  75.  75.  25.  75.]]]\n"
     ]
    }
   ],
   "source": [
    "# your code here\n",
    "print(f)"
   ]
  },
  {
   "cell_type": "markdown",
   "metadata": {},
   "source": [
    "#### 18. Bonus question: instead of using numbers (i.e. 0, 25, 50, 75, and 100), use string values  (\"A\", \"B\", \"C\", \"D\", and \"E\") to label the array elements. For the example above, the expected result is:\n",
    "\n",
    "```python\n",
    "[[[ 'D',  'D',  'D',  'B',  'D'],\n",
    "[ 'D',  'D',  'B',  'B',  'B'],\n",
    "[ 'D',  'B',  'D',  'D',  'D']],\n",
    "[[ 'B',  'B',  'B',  'B',  'E'],\n",
    "[ 'D',  'D',  'D',  'D',  'D'],\n",
    "[ 'B',  'D',   'A',  'D', 'D']]]\n",
    "```\n",
    "**Note**: you don't have to use Numpy in this question."
   ]
  },
  {
   "cell_type": "code",
   "execution_count": 42,
   "metadata": {
    "ExecuteTime": {
     "end_time": "2020-01-27T20:59:17.130419Z",
     "start_time": "2020-01-27T20:59:17.122512Z"
    }
   },
   "outputs": [
    {
     "name": "stdout",
     "output_type": "stream",
     "text": [
      "[[['D' 'B' 'E' 'B' 'B']\n",
      "  ['D' 'B' 'B' 'B' 'D']\n",
      "  ['B' 'D' 'D' 'B' 'D']]\n",
      "\n",
      " [['B' 'D' 'D' 'B' 'D']\n",
      "  ['A' 'B' 'B' 'B' 'B']\n",
      "  ['B' 'D' 'D' 'B' 'D']]]\n"
     ]
    }
   ],
   "source": [
    "# your code here\n",
    "\n",
    "f = np.empty([2,3,5] , dtype = str)\n",
    "\n",
    "for x in range(len(d)):\n",
    "    # first dimension\n",
    "    for y in range(len(d[x])):\n",
    "        # second dimension\n",
    "        for z in range(len(d[x][y])):\n",
    "            #third dimension\n",
    "            # identifying array num in index\n",
    "            num_d = d[x][y][z]\n",
    "            if num_d > d_min and num_d < d_mean:\n",
    "                f[x][y][z] = 'B'\n",
    "            elif num_d > d_mean and num_d < d_max:\n",
    "                f[x][y][z] = 'D'\n",
    "            elif num_d == d_mean:\n",
    "                f[x][y][z] = 'C'\n",
    "            elif num_d == d_min:              \n",
    "                f[x][y][z] = 'A'\n",
    "            elif num_d == d_max:\n",
    "                f[x][y][z] = 'E'\n",
    "                \n",
    "print(f)"
   ]
  },
  {
   "cell_type": "code",
   "execution_count": null,
   "metadata": {},
   "outputs": [],
   "source": []
  }
 ],
 "metadata": {
  "kernelspec": {
   "display_name": "Python 3",
   "language": "python",
   "name": "python3"
  },
  "language_info": {
   "codemirror_mode": {
    "name": "ipython",
    "version": 3
   },
   "file_extension": ".py",
   "mimetype": "text/x-python",
   "name": "python",
   "nbconvert_exporter": "python",
   "pygments_lexer": "ipython3",
   "version": "3.7.4"
  },
  "toc": {
   "base_numbering": 1,
   "nav_menu": {},
   "number_sections": true,
   "sideBar": true,
   "skip_h1_title": false,
   "title_cell": "Table of Contents",
   "title_sidebar": "Contents",
   "toc_cell": false,
   "toc_position": {},
   "toc_section_display": true,
   "toc_window_display": false
  },
  "varInspector": {
   "cols": {
    "lenName": 16,
    "lenType": 16,
    "lenVar": 40
   },
   "kernels_config": {
    "python": {
     "delete_cmd_postfix": "",
     "delete_cmd_prefix": "del ",
     "library": "var_list.py",
     "varRefreshCmd": "print(var_dic_list())"
    },
    "r": {
     "delete_cmd_postfix": ") ",
     "delete_cmd_prefix": "rm(",
     "library": "var_list.r",
     "varRefreshCmd": "cat(var_dic_list()) "
    }
   },
   "types_to_exclude": [
    "module",
    "function",
    "builtin_function_or_method",
    "instance",
    "_Feature"
   ],
   "window_display": false
  }
 },
 "nbformat": 4,
 "nbformat_minor": 2
}
