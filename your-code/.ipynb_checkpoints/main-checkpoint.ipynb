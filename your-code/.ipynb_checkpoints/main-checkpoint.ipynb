{
 "cells": [
  {
   "cell_type": "markdown",
   "metadata": {},
   "source": [
    "# Intrduction to NumPy\n",
    "\n",
    "\n",
    "#### 1. Import NumPy under the name np."
   ]
  },
  {
   "cell_type": "code",
   "execution_count": 1,
   "metadata": {},
   "outputs": [],
   "source": [
    "import numpy as np"
   ]
  },
  {
   "cell_type": "markdown",
   "metadata": {},
   "source": [
    "#### 2. Print your NumPy version."
   ]
  },
  {
   "cell_type": "code",
   "execution_count": 2,
   "metadata": {},
   "outputs": [
    {
     "name": "stdout",
     "output_type": "stream",
     "text": [
      "1.19.2\n"
     ]
    }
   ],
   "source": [
    "print(np.__version__)"
   ]
  },
  {
   "cell_type": "markdown",
   "metadata": {},
   "source": [
    "#### 3. Generate a 2x3x5 3-dimensional array with random values. Assign the array to variable *a*.\n",
    "**Challenge**: there are at least three easy ways that use numpy to generate random arrays. How many ways can you find?"
   ]
  },
  {
   "cell_type": "code",
   "execution_count": 4,
   "metadata": {},
   "outputs": [
    {
     "data": {
      "text/plain": [
       "array([[[4, 2, 7, 9, 1],\n",
       "        [4, 7, 3, 5, 5],\n",
       "        [5, 3, 9, 9, 9]],\n",
       "\n",
       "       [[2, 4, 7, 2, 2],\n",
       "        [2, 3, 7, 4, 6],\n",
       "        [9, 2, 7, 6, 1]]])"
      ]
     },
     "execution_count": 4,
     "metadata": {},
     "output_type": "execute_result"
    }
   ],
   "source": [
    "# Method 1\n",
    "a = np.random.randint(0,10,(2,3,5))\n",
    "a"
   ]
  },
  {
   "cell_type": "code",
   "execution_count": 6,
   "metadata": {},
   "outputs": [
    {
     "data": {
      "text/plain": [
       "array([[[0.06751273, 0.37051446, 0.14155281, 0.9835938 , 0.74857271],\n",
       "        [0.21339784, 0.76676173, 0.04026253, 0.79399621, 0.71948218],\n",
       "        [0.42528751, 0.30532734, 0.52898517, 0.18967643, 0.68028959]],\n",
       "\n",
       "       [[0.96504297, 0.78178467, 0.70690815, 0.70540594, 0.23370819],\n",
       "        [0.86638169, 0.39027969, 0.24665436, 0.65840005, 0.36729979],\n",
       "        [0.00389586, 0.14093595, 0.47742146, 0.18107343, 0.30417913]]])"
      ]
     },
     "execution_count": 6,
     "metadata": {},
     "output_type": "execute_result"
    }
   ],
   "source": [
    "a = np.random.rand(2,3,5)\n",
    "a"
   ]
  },
  {
   "cell_type": "code",
   "execution_count": 49,
   "metadata": {},
   "outputs": [
    {
     "data": {
      "text/plain": [
       "array([[[ 7, 13,  8,  1,  2],\n",
       "        [14, 10, 11,  3,  9],\n",
       "        [ 4,  2,  6,  4,  7]],\n",
       "\n",
       "       [[11, 12,  9, 12,  5],\n",
       "        [ 3,  6,  1,  9,  3],\n",
       "        [14,  0,  3,  4,  7]]])"
      ]
     },
     "execution_count": 49,
     "metadata": {},
     "output_type": "execute_result"
    }
   ],
   "source": [
    "a = np.random.default_rng().integers(15, size=(2,3,5))\n",
    "a"
   ]
  },
  {
   "cell_type": "markdown",
   "metadata": {},
   "source": [
    "#### 4. Print *a*.\n"
   ]
  },
  {
   "cell_type": "code",
   "execution_count": 18,
   "metadata": {},
   "outputs": [
    {
     "name": "stdout",
     "output_type": "stream",
     "text": [
      "[[[ 8  9  5  5  8]\n",
      "  [ 6  2 14 13  6]\n",
      "  [ 3  8  4  5  9]]\n",
      "\n",
      " [[13 14  4  4 11]\n",
      "  [ 9  0 10 12  3]\n",
      "  [ 1 11  4 14  1]]]\n"
     ]
    }
   ],
   "source": [
    "print(a)"
   ]
  },
  {
   "cell_type": "markdown",
   "metadata": {},
   "source": [
    "#### 5. Create a 5x2x3 3-dimensional array with all values equaling 1. Assign the array to variable *b*."
   ]
  },
  {
   "cell_type": "code",
   "execution_count": 20,
   "metadata": {},
   "outputs": [],
   "source": [
    "b = np.ones((5,2,3))"
   ]
  },
  {
   "cell_type": "markdown",
   "metadata": {},
   "source": [
    "#### 6. Print *b*.\n"
   ]
  },
  {
   "cell_type": "code",
   "execution_count": 21,
   "metadata": {},
   "outputs": [
    {
     "name": "stdout",
     "output_type": "stream",
     "text": [
      "[[[1. 1. 1.]\n",
      "  [1. 1. 1.]]\n",
      "\n",
      " [[1. 1. 1.]\n",
      "  [1. 1. 1.]]\n",
      "\n",
      " [[1. 1. 1.]\n",
      "  [1. 1. 1.]]\n",
      "\n",
      " [[1. 1. 1.]\n",
      "  [1. 1. 1.]]\n",
      "\n",
      " [[1. 1. 1.]\n",
      "  [1. 1. 1.]]]\n"
     ]
    }
   ],
   "source": [
    "print(b)"
   ]
  },
  {
   "cell_type": "markdown",
   "metadata": {},
   "source": [
    "#### 7. Do *a* and *b* have the same size? How do you prove that in Python code?"
   ]
  },
  {
   "cell_type": "code",
   "execution_count": 31,
   "metadata": {},
   "outputs": [
    {
     "data": {
      "text/plain": [
       "False"
      ]
     },
     "execution_count": 31,
     "metadata": {},
     "output_type": "execute_result"
    }
   ],
   "source": [
    "# El sistema debería devolver True si tienen el mismo tamaño y False si no es así\n",
    "a.shape == b.shape"
   ]
  },
  {
   "cell_type": "markdown",
   "metadata": {},
   "source": [
    "#### 8. Are you able to add *a* and *b*? Why or why not?\n"
   ]
  },
  {
   "cell_type": "code",
   "execution_count": 32,
   "metadata": {},
   "outputs": [
    {
     "ename": "ValueError",
     "evalue": "operands could not be broadcast together with shapes (2,3,5) (5,2,3) ",
     "output_type": "error",
     "traceback": [
      "\u001b[0;31m---------------------------------------------------------------------------\u001b[0m",
      "\u001b[0;31mValueError\u001b[0m                                Traceback (most recent call last)",
      "\u001b[0;32m<ipython-input-32-1674f6151070>\u001b[0m in \u001b[0;36m<module>\u001b[0;34m\u001b[0m\n\u001b[0;32m----> 1\u001b[0;31m \u001b[0mc\u001b[0m \u001b[0;34m=\u001b[0m \u001b[0ma\u001b[0m \u001b[0;34m+\u001b[0m \u001b[0mb\u001b[0m\u001b[0;34m\u001b[0m\u001b[0;34m\u001b[0m\u001b[0m\n\u001b[0m",
      "\u001b[0;31mValueError\u001b[0m: operands could not be broadcast together with shapes (2,3,5) (5,2,3) "
     ]
    }
   ],
   "source": [
    "# No se pueden sumar porque no tienen las mismas dimensiones\n",
    "c = a + b"
   ]
  },
  {
   "cell_type": "markdown",
   "metadata": {},
   "source": [
    "#### 9. Transpose *b* so that it has the same structure of *a* (i.e. become a 2x3x5 array). Assign the transposed array to variable *c*."
   ]
  },
  {
   "cell_type": "code",
   "execution_count": 75,
   "metadata": {},
   "outputs": [
    {
     "data": {
      "text/plain": [
       "array([[[1., 1., 1., 1., 1.],\n",
       "        [1., 1., 1., 1., 1.],\n",
       "        [1., 1., 1., 1., 1.]],\n",
       "\n",
       "       [[1., 1., 1., 1., 1.],\n",
       "        [1., 1., 1., 1., 1.],\n",
       "        [1., 1., 1., 1., 1.]]])"
      ]
     },
     "execution_count": 75,
     "metadata": {},
     "output_type": "execute_result"
    }
   ],
   "source": [
    "# Usamos .transpose y le asignamos el nuevo orden de los ejes de la nueva matriz\n",
    "\n",
    "# Antes teníamos una matriz b de (5,2,3) y ahora la queremos de (2,3,5)\n",
    "\n",
    "# Las posiciones de los ejes se leen de 0 a n EN LA MATRIZ DESTINO: en este caso (0,1,2)\n",
    "\n",
    "# La primera posición de la función deseada es el eje 2. En la matriz origen, el eje 2 está en la posición 1, \n",
    "# luego el valor pasado a la primera posición de la función transpose debe ser el 1\n",
    "\n",
    "# La segunda posición de la función deseada es el eje 3. En la matriz origen, el eje 3 está en la posición 2, \n",
    "# luego el valor pasado a la segunda posición de la función transpose debe ser el 2\n",
    "\n",
    "# La tercera posición de la función deseada es el eje 5. En la matriz origen, el eje 5 está en la posición 0, \n",
    "# luego el valor pasado a la tercera posición de la función transpose debe ser el 0\n",
    "\n",
    "c = np.transpose(b,(1,2,0))\n",
    "c"
   ]
  },
  {
   "cell_type": "markdown",
   "metadata": {},
   "source": [
    "#### 10. Try to add *a* and *c*. Now it should work. Assign the sum to variable *d*. But why does it work now?"
   ]
  },
  {
   "cell_type": "code",
   "execution_count": 77,
   "metadata": {},
   "outputs": [
    {
     "data": {
      "text/plain": [
       "array([[[ 8., 14.,  9.,  2.,  3.],\n",
       "        [15., 11., 12.,  4., 10.],\n",
       "        [ 5.,  3.,  7.,  5.,  8.]],\n",
       "\n",
       "       [[12., 13., 10., 13.,  6.],\n",
       "        [ 4.,  7.,  2., 10.,  4.],\n",
       "        [15.,  1.,  4.,  5.,  8.]]])"
      ]
     },
     "execution_count": 77,
     "metadata": {},
     "output_type": "execute_result"
    }
   ],
   "source": [
    "# Ahora funciona porque las matrices tienen las mismas dimensiones\n",
    "\n",
    "d = a + c\n",
    "d"
   ]
  },
  {
   "cell_type": "markdown",
   "metadata": {},
   "source": [
    "#### 11. Print *a* and *d*. Notice the difference and relation of the two array in terms of the values? Explain."
   ]
  },
  {
   "cell_type": "code",
   "execution_count": 78,
   "metadata": {},
   "outputs": [
    {
     "name": "stdout",
     "output_type": "stream",
     "text": [
      "[[[ 7 13  8  1  2]\n",
      "  [14 10 11  3  9]\n",
      "  [ 4  2  6  4  7]]\n",
      "\n",
      " [[11 12  9 12  5]\n",
      "  [ 3  6  1  9  3]\n",
      "  [14  0  3  4  7]]]\n",
      "[[[ 8. 14.  9.  2.  3.]\n",
      "  [15. 11. 12.  4. 10.]\n",
      "  [ 5.  3.  7.  5.  8.]]\n",
      "\n",
      " [[12. 13. 10. 13.  6.]\n",
      "  [ 4.  7.  2. 10.  4.]\n",
      "  [15.  1.  4.  5.  8.]]]\n"
     ]
    }
   ],
   "source": [
    "# Se le ha sumado 1 a cada uno de los valores de a porque c es una matriz de 1s\n",
    "\n",
    "print(a)\n",
    "print(d)"
   ]
  },
  {
   "cell_type": "markdown",
   "metadata": {},
   "source": [
    "#### 12. Multiply *a* and *c*. Assign the result to *e*."
   ]
  },
  {
   "cell_type": "code",
   "execution_count": 80,
   "metadata": {},
   "outputs": [
    {
     "data": {
      "text/plain": [
       "array([[[ 7., 13.,  8.,  1.,  2.],\n",
       "        [14., 10., 11.,  3.,  9.],\n",
       "        [ 4.,  2.,  6.,  4.,  7.]],\n",
       "\n",
       "       [[11., 12.,  9., 12.,  5.],\n",
       "        [ 3.,  6.,  1.,  9.,  3.],\n",
       "        [14.,  0.,  3.,  4.,  7.]]])"
      ]
     },
     "execution_count": 80,
     "metadata": {},
     "output_type": "execute_result"
    }
   ],
   "source": [
    "e = a * c\n",
    "e"
   ]
  },
  {
   "cell_type": "markdown",
   "metadata": {},
   "source": [
    "#### 13. Does *e* equal to *a*? Why or why not?\n"
   ]
  },
  {
   "cell_type": "code",
   "execution_count": 81,
   "metadata": {},
   "outputs": [
    {
     "data": {
      "text/plain": [
       "array([[[ True,  True,  True,  True,  True],\n",
       "        [ True,  True,  True,  True,  True],\n",
       "        [ True,  True,  True,  True,  True]],\n",
       "\n",
       "       [[ True,  True,  True,  True,  True],\n",
       "        [ True,  True,  True,  True,  True],\n",
       "        [ True,  True,  True,  True,  True]]])"
      ]
     },
     "execution_count": 81,
     "metadata": {},
     "output_type": "execute_result"
    }
   ],
   "source": [
    "# Son iguales porque cada valor de a ha sido multiplicado por 1\n",
    "a == e"
   ]
  },
  {
   "cell_type": "markdown",
   "metadata": {},
   "source": [
    "#### 14. Identify the max, min, and mean values in *d*. Assign those values to variables *d_max*, *d_min* and *d_mean*."
   ]
  },
  {
   "cell_type": "code",
   "execution_count": 111,
   "metadata": {},
   "outputs": [
    {
     "name": "stdout",
     "output_type": "stream",
     "text": [
      "Max of d is 15.0\n",
      "Min of d is 1.0\n",
      "Mean of d is 7.666666666666667\n"
     ]
    }
   ],
   "source": [
    "d_max = d.max()\n",
    "d_min = d.min()\n",
    "d_mean = d.mean()\n",
    "print(f'Max of d is {d_max}\\nMin of d is {d_min}\\nMean of d is {d_mean}')"
   ]
  },
  {
   "cell_type": "markdown",
   "metadata": {},
   "source": [
    "#### 15. Now we want to label the values in *d*. First create an empty array *f* with the same shape (i.e. 2x3x5) as *d* using `np.empty`.\n"
   ]
  },
  {
   "cell_type": "code",
   "execution_count": 106,
   "metadata": {
    "scrolled": false
   },
   "outputs": [
    {
     "data": {
      "text/plain": [
       "array([[[1., 1., 1., 1., 1.],\n",
       "        [1., 1., 1., 1., 1.],\n",
       "        [1., 1., 1., 1., 1.]],\n",
       "\n",
       "       [[1., 1., 1., 1., 1.],\n",
       "        [1., 1., 1., 1., 1.],\n",
       "        [1., 1., 1., 1., 1.]]])"
      ]
     },
     "execution_count": 106,
     "metadata": {},
     "output_type": "execute_result"
    }
   ],
   "source": [
    "f = np.empty([2,3,5])\n",
    "f\n",
    "# En lugar de crearme la matriz con valores diferenciales como se muestra en help(np.empty), lo ha hecho con unos"
   ]
  },
  {
   "cell_type": "markdown",
   "metadata": {},
   "source": [
    "#### 16. Populate the values in *f*. \n",
    "\n",
    "For each value in *d*, if it's larger than *d_min* but smaller than *d_mean*, assign 25 to the corresponding value in *f*. If a value in *d* is larger than *d_mean* but smaller than *d_max*, assign 75 to the corresponding value in *f*. If a value equals to *d_mean*, assign 50 to the corresponding value in *f*. Assign 0 to the corresponding value(s) in *f* for *d_min* in *d*. Assign 100 to the corresponding value(s) in *f* for *d_max* in *d*. In the end, f should have only the following values: 0, 25, 50, 75, and 100.\n",
    "\n",
    "**Note**: you don't have to use Numpy in this question."
   ]
  },
  {
   "cell_type": "code",
   "execution_count": 112,
   "metadata": {},
   "outputs": [
    {
     "data": {
      "text/plain": [
       "array([[[ 8., 14.,  9.,  2.,  3.],\n",
       "        [15., 11., 12.,  4., 10.],\n",
       "        [ 5.,  3.,  7.,  5.,  8.]],\n",
       "\n",
       "       [[12., 13., 10., 13.,  6.],\n",
       "        [ 4.,  7.,  2., 10.,  4.],\n",
       "        [15.,  1.,  4.,  5.,  8.]]])"
      ]
     },
     "execution_count": 112,
     "metadata": {},
     "output_type": "execute_result"
    }
   ],
   "source": [
    "d"
   ]
  },
  {
   "cell_type": "code",
   "execution_count": 118,
   "metadata": {},
   "outputs": [],
   "source": [
    "for x in range(len(f)):\n",
    "    for y in range(len(f[0])):\n",
    "        for z in range(len(f[0][0])):\n",
    "            if d[x][y][z] > d_min and d[x][y][z] < d_mean:\n",
    "                f[x][y][z] = 25\n",
    "            elif d[x][y][z] > d_mean and d[x][y][z] < d_max:\n",
    "                f[x][y][z] = 75\n",
    "            elif d[x][y][z] == d_min:\n",
    "                f[x][y][z] = 0\n",
    "            elif d[x][y][z] == d_max:\n",
    "                f[x][y][z] = 100\n",
    "            elif d[x][y][z] == d_mean:\n",
    "                f[x][y][z] = 50"
   ]
  },
  {
   "cell_type": "markdown",
   "metadata": {},
   "source": [
    "#### 17. Print *d* and *f*. Do you have your expected *f*?\n",
    "For instance, if your *d* is:\n",
    "```python\n",
    "[[[1.85836099, 1.67064465, 1.62576044, 1.40243961, 1.88454931],\n",
    "[1.75354326, 1.69403643, 1.36729252, 1.61415071, 1.12104981],\n",
    "[1.72201435, 1.1862918 , 1.87078449, 1.7726778 , 1.88180042]],\n",
    "[[1.44747908, 1.31673383, 1.02000951, 1.52218947, 1.97066381],\n",
    "[1.79129243, 1.74983003, 1.96028037, 1.85166831, 1.65450881],\n",
    "[1.18068344, 1.9587381 , 1.00656599, 1.93402165, 1.73514584]]]\n",
    "```\n",
    "Your *f* should be:\n",
    "```python\n",
    "[[[ 75.,  75.,  75.,  25.,  75.],\n",
    "[ 75.,  75.,  25.,  25.,  25.],\n",
    "[ 75.,  25.,  75.,  75.,  75.]],\n",
    "[[ 25.,  25.,  25.,  25., 100.],\n",
    "[ 75.,  75.,  75.,  75.,  75.],\n",
    "[ 25.,  75.,   0.,  75.,  75.]]]\n",
    "```"
   ]
  },
  {
   "cell_type": "code",
   "execution_count": 125,
   "metadata": {},
   "outputs": [
    {
     "name": "stdout",
     "output_type": "stream",
     "text": [
      "d:\n",
      "[[[ 8. 14.  9.  2.  3.]\n",
      "  [15. 11. 12.  4. 10.]\n",
      "  [ 5.  3.  7.  5.  8.]]\n",
      "\n",
      " [[12. 13. 10. 13.  6.]\n",
      "  [ 4.  7.  2. 10.  4.]\n",
      "  [15.  1.  4.  5.  8.]]]\n",
      "\n",
      "f:\n",
      "[[[ 75.  75.  75.  25.  25.]\n",
      "  [100.  75.  75.  25.  75.]\n",
      "  [ 25.  25.  25.  25.  75.]]\n",
      "\n",
      " [[ 75.  75.  75.  75.  25.]\n",
      "  [ 25.  25.  25.  75.  25.]\n",
      "  [100.   0.  25.  25.  75.]]]\n"
     ]
    }
   ],
   "source": [
    "# Sí que aparecen los valores deseados\n",
    "print(f\"d:\\n{d}\\n\")\n",
    "print(f\"f:\\n{f}\")"
   ]
  },
  {
   "cell_type": "markdown",
   "metadata": {},
   "source": [
    "#### 18. Bonus question: instead of using numbers (i.e. 0, 25, 50, 75, and 100), use string values  (\"A\", \"B\", \"C\", \"D\", and \"E\") to label the array elements. For the example above, the expected result is:\n",
    "\n",
    "```python\n",
    "[[[ 'D',  'D',  'D',  'B',  'D'],\n",
    "[ 'D',  'D',  'B',  'B',  'B'],\n",
    "[ 'D',  'B',  'D',  'D',  'D']],\n",
    "[[ 'B',  'B',  'B',  'B',  'E'],\n",
    "[ 'D',  'D',  'D',  'D',  'D'],\n",
    "[ 'B',  'D',   'A',  'D', 'D']]]\n",
    "```\n",
    "**Note**: you don't have to use Numpy in this question."
   ]
  },
  {
   "cell_type": "code",
   "execution_count": 155,
   "metadata": {},
   "outputs": [
    {
     "data": {
      "text/plain": [
       "[[['D', 'D', 'D', 'B', 'B'],\n",
       "  ['E', 'D', 'D', 'B', 'D'],\n",
       "  ['B', 'B', 'B', 'B', 'D']],\n",
       " [['D', 'D', 'D', 'D', 'B'],\n",
       "  ['B', 'B', 'B', 'D', 'B'],\n",
       "  ['E', 'A', 'B', 'B', 'D']]]"
      ]
     },
     "execution_count": 155,
     "metadata": {},
     "output_type": "execute_result"
    }
   ],
   "source": [
    "# Al no usar numpy y usar caracteres, lo hago iterando a través de listas\n",
    "\n",
    "w = []\n",
    "\n",
    "for x in range(len(f)):\n",
    "    w1 = []\n",
    "    w.append(w1)\n",
    "    for y in range(len(f[0])):\n",
    "        w2 = []\n",
    "        w1.append(w2)\n",
    "        for z in range(len(f[0][0])):\n",
    "            if d[x][y][z] > d_min and d[x][y][z] < d_mean:\n",
    "                w2.append('B')\n",
    "            elif d[x][y][z] > d_mean and d[x][y][z] < d_max:\n",
    "                w2.append('D')\n",
    "            elif d[x][y][z] == d_min:\n",
    "                w2.append('A')\n",
    "            elif d[x][y][z] == d_max:\n",
    "                w2.append('E')\n",
    "            elif d[x][y][z] == d_mean:\n",
    "                w2.append('C')\n",
    "\n",
    "w"
   ]
  }
 ],
 "metadata": {
  "kernelspec": {
   "display_name": "Python 3",
   "language": "python",
   "name": "python3"
  },
  "language_info": {
   "codemirror_mode": {
    "name": "ipython",
    "version": 3
   },
   "file_extension": ".py",
   "mimetype": "text/x-python",
   "name": "python",
   "nbconvert_exporter": "python",
   "pygments_lexer": "ipython3",
   "version": "3.8.5"
  },
  "toc": {
   "base_numbering": 1,
   "nav_menu": {},
   "number_sections": true,
   "sideBar": true,
   "skip_h1_title": false,
   "title_cell": "Table of Contents",
   "title_sidebar": "Contents",
   "toc_cell": false,
   "toc_position": {},
   "toc_section_display": true,
   "toc_window_display": false
  },
  "varInspector": {
   "cols": {
    "lenName": 16,
    "lenType": 16,
    "lenVar": 40
   },
   "kernels_config": {
    "python": {
     "delete_cmd_postfix": "",
     "delete_cmd_prefix": "del ",
     "library": "var_list.py",
     "varRefreshCmd": "print(var_dic_list())"
    },
    "r": {
     "delete_cmd_postfix": ") ",
     "delete_cmd_prefix": "rm(",
     "library": "var_list.r",
     "varRefreshCmd": "cat(var_dic_list()) "
    }
   },
   "types_to_exclude": [
    "module",
    "function",
    "builtin_function_or_method",
    "instance",
    "_Feature"
   ],
   "window_display": false
  }
 },
 "nbformat": 4,
 "nbformat_minor": 2
}
