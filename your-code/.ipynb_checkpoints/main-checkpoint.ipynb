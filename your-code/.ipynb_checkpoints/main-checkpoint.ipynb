{
 "cells": [
  {
   "cell_type": "markdown",
   "metadata": {},
   "source": [
    "# Intrduction to NumPy\n",
    "\n",
    "\n",
    "#### 1. Import NumPy under the name np."
   ]
  },
  {
   "cell_type": "code",
   "execution_count": 2,
   "metadata": {
    "ExecuteTime": {
     "end_time": "2020-01-26T16:23:01.787686Z",
     "start_time": "2020-01-26T16:23:01.780916Z"
    }
   },
   "outputs": [],
   "source": [
    "# your code here\n",
    "import numpy as np"
   ]
  },
  {
   "cell_type": "markdown",
   "metadata": {},
   "source": [
    "#### 2. Print your NumPy version."
   ]
  },
  {
   "cell_type": "code",
   "execution_count": 3,
   "metadata": {
    "ExecuteTime": {
     "end_time": "2020-01-26T16:23:02.252078Z",
     "start_time": "2020-01-26T16:23:02.223770Z"
    }
   },
   "outputs": [
    {
     "name": "stdout",
     "output_type": "stream",
     "text": [
      "1.17.4\n"
     ]
    }
   ],
   "source": [
    "# your code here\n",
    "print(np.__version__)"
   ]
  },
  {
   "cell_type": "markdown",
   "metadata": {},
   "source": [
    "#### 3. Generate a 2x3x5 3-dimensional array with random values. Assign the array to variable *a*.\n",
    "**Challenge**: there are at least three easy ways that use numpy to generate random arrays. How many ways can you find?"
   ]
  },
  {
   "cell_type": "code",
   "execution_count": 4,
   "metadata": {
    "ExecuteTime": {
     "end_time": "2020-01-26T16:23:02.571116Z",
     "start_time": "2020-01-26T16:23:02.566060Z"
    }
   },
   "outputs": [],
   "source": [
    "# Method 1\n",
    "a=np.random.random((2,3,5))"
   ]
  },
  {
   "cell_type": "code",
   "execution_count": 5,
   "metadata": {
    "ExecuteTime": {
     "end_time": "2020-01-26T16:23:02.740715Z",
     "start_time": "2020-01-26T16:23:02.735999Z"
    }
   },
   "outputs": [],
   "source": [
    "# Method 2"
   ]
  },
  {
   "cell_type": "code",
   "execution_count": 6,
   "metadata": {
    "ExecuteTime": {
     "end_time": "2020-01-26T16:23:02.900939Z",
     "start_time": "2020-01-26T16:23:02.893203Z"
    }
   },
   "outputs": [],
   "source": [
    "# Method 3"
   ]
  },
  {
   "cell_type": "markdown",
   "metadata": {},
   "source": [
    "#### 4. Print *a*.\n"
   ]
  },
  {
   "cell_type": "code",
   "execution_count": 7,
   "metadata": {
    "ExecuteTime": {
     "end_time": "2020-01-26T16:23:03.240852Z",
     "start_time": "2020-01-26T16:23:03.234268Z"
    }
   },
   "outputs": [
    {
     "name": "stdout",
     "output_type": "stream",
     "text": [
      "[[[0.04069819 0.6367015  0.29755577 0.6804536  0.24088026]\n",
      "  [0.0789882  0.29836147 0.45873694 0.79401729 0.34707458]\n",
      "  [0.86501192 0.30746061 0.51136459 0.05017582 0.93953117]]\n",
      "\n",
      " [[0.03646864 0.69647588 0.63462841 0.01302442 0.27537627]\n",
      "  [0.90946182 0.17471054 0.74890423 0.74195511 0.05761679]\n",
      "  [0.12044431 0.14490355 0.2903094  0.92095915 0.52427207]]]\n"
     ]
    }
   ],
   "source": [
    "# your code here\n",
    "print(a)"
   ]
  },
  {
   "cell_type": "markdown",
   "metadata": {},
   "source": [
    "#### 5. Create a 5x2x3 3-dimensional array with all values equaling 1. Assign the array to variable *b*."
   ]
  },
  {
   "cell_type": "code",
   "execution_count": 8,
   "metadata": {
    "ExecuteTime": {
     "end_time": "2020-01-26T16:23:03.756661Z",
     "start_time": "2020-01-26T16:23:03.748756Z"
    }
   },
   "outputs": [],
   "source": [
    "# your code here\n",
    "b=np.ones((5,2,3))"
   ]
  },
  {
   "cell_type": "markdown",
   "metadata": {},
   "source": [
    "#### 6. Print *b*.\n"
   ]
  },
  {
   "cell_type": "code",
   "execution_count": 9,
   "metadata": {
    "ExecuteTime": {
     "end_time": "2020-01-26T16:23:04.190878Z",
     "start_time": "2020-01-26T16:23:04.184099Z"
    }
   },
   "outputs": [
    {
     "name": "stdout",
     "output_type": "stream",
     "text": [
      "[[[1. 1. 1.]\n",
      "  [1. 1. 1.]]\n",
      "\n",
      " [[1. 1. 1.]\n",
      "  [1. 1. 1.]]\n",
      "\n",
      " [[1. 1. 1.]\n",
      "  [1. 1. 1.]]\n",
      "\n",
      " [[1. 1. 1.]\n",
      "  [1. 1. 1.]]\n",
      "\n",
      " [[1. 1. 1.]\n",
      "  [1. 1. 1.]]]\n"
     ]
    }
   ],
   "source": [
    "# your code here\n",
    "print(b)"
   ]
  },
  {
   "cell_type": "markdown",
   "metadata": {},
   "source": [
    "#### 7. Do *a* and *b* have the same size? How do you prove that in Python code?"
   ]
  },
  {
   "cell_type": "code",
   "execution_count": 10,
   "metadata": {
    "ExecuteTime": {
     "end_time": "2020-01-26T16:23:04.633203Z",
     "start_time": "2020-01-26T16:23:04.602717Z"
    }
   },
   "outputs": [
    {
     "data": {
      "text/plain": [
       "False"
      ]
     },
     "execution_count": 10,
     "metadata": {},
     "output_type": "execute_result"
    }
   ],
   "source": [
    "# your code here\n",
    "np.shape(a)==np.shape(b)"
   ]
  },
  {
   "cell_type": "markdown",
   "metadata": {},
   "source": [
    "#### 8. Are you able to add *a* and *b*? Why or why not?\n"
   ]
  },
  {
   "cell_type": "code",
   "execution_count": 11,
   "metadata": {
    "ExecuteTime": {
     "end_time": "2020-01-26T16:23:05.352938Z",
     "start_time": "2020-01-26T16:23:05.312746Z"
    }
   },
   "outputs": [
    {
     "ename": "ValueError",
     "evalue": "operands could not be broadcast together with shapes (2,3,5) (5,2,3) ",
     "output_type": "error",
     "traceback": [
      "\u001b[0;31m---------------------------------------------------------------------------\u001b[0m",
      "\u001b[0;31mValueError\u001b[0m                                Traceback (most recent call last)",
      "\u001b[0;32m<ipython-input-11-d311a5fe6833>\u001b[0m in \u001b[0;36m<module>\u001b[0;34m\u001b[0m\n\u001b[1;32m      1\u001b[0m \u001b[0;31m# your answer here\u001b[0m\u001b[0;34m\u001b[0m\u001b[0;34m\u001b[0m\u001b[0;34m\u001b[0m\u001b[0m\n\u001b[0;32m----> 2\u001b[0;31m \u001b[0ma\u001b[0m\u001b[0;34m+\u001b[0m\u001b[0mb\u001b[0m\u001b[0;34m\u001b[0m\u001b[0;34m\u001b[0m\u001b[0m\n\u001b[0m\u001b[1;32m      3\u001b[0m \u001b[0;31m#matrix have different sizes\u001b[0m\u001b[0;34m\u001b[0m\u001b[0;34m\u001b[0m\u001b[0;34m\u001b[0m\u001b[0m\n",
      "\u001b[0;31mValueError\u001b[0m: operands could not be broadcast together with shapes (2,3,5) (5,2,3) "
     ]
    }
   ],
   "source": [
    "# your answer here\n",
    "a+b\n",
    "#matrix have different sizes"
   ]
  },
  {
   "cell_type": "markdown",
   "metadata": {},
   "source": [
    "#### 9. Transpose *b* so that it has the same structure of *a* (i.e. become a 2x3x5 array). Assign the transposed array to variable *c*."
   ]
  },
  {
   "cell_type": "code",
   "execution_count": 12,
   "metadata": {
    "ExecuteTime": {
     "end_time": "2020-01-26T16:23:06.247053Z",
     "start_time": "2020-01-26T16:23:06.233165Z"
    }
   },
   "outputs": [
    {
     "data": {
      "text/plain": [
       "(2, 3, 5)"
      ]
     },
     "execution_count": 12,
     "metadata": {},
     "output_type": "execute_result"
    }
   ],
   "source": [
    "# your code here\n",
    "c=b.transpose(1,2,0)\n",
    "np.shape(c)"
   ]
  },
  {
   "cell_type": "markdown",
   "metadata": {},
   "source": [
    "#### 10. Try to add *a* and *c*. Now it should work. Assign the sum to variable *d*. But why does it work now?"
   ]
  },
  {
   "cell_type": "code",
   "execution_count": 13,
   "metadata": {
    "ExecuteTime": {
     "end_time": "2020-01-26T16:23:06.998744Z",
     "start_time": "2020-01-26T16:23:06.985358Z"
    }
   },
   "outputs": [
    {
     "data": {
      "text/plain": [
       "array([[[1.04069819, 1.6367015 , 1.29755577, 1.6804536 , 1.24088026],\n",
       "        [1.0789882 , 1.29836147, 1.45873694, 1.79401729, 1.34707458],\n",
       "        [1.86501192, 1.30746061, 1.51136459, 1.05017582, 1.93953117]],\n",
       "\n",
       "       [[1.03646864, 1.69647588, 1.63462841, 1.01302442, 1.27537627],\n",
       "        [1.90946182, 1.17471054, 1.74890423, 1.74195511, 1.05761679],\n",
       "        [1.12044431, 1.14490355, 1.2903094 , 1.92095915, 1.52427207]]])"
      ]
     },
     "execution_count": 13,
     "metadata": {},
     "output_type": "execute_result"
    }
   ],
   "source": [
    "# your code/answer here\n",
    "d=a+c\n",
    "d"
   ]
  },
  {
   "cell_type": "markdown",
   "metadata": {},
   "source": [
    "#### 11. Print *a* and *d*. Notice the difference and relation of the two array in terms of the values? Explain."
   ]
  },
  {
   "cell_type": "code",
   "execution_count": 14,
   "metadata": {
    "ExecuteTime": {
     "end_time": "2020-01-26T16:23:07.828744Z",
     "start_time": "2020-01-26T16:23:07.817507Z"
    }
   },
   "outputs": [
    {
     "name": "stdout",
     "output_type": "stream",
     "text": [
      "[[[0.04069819 0.6367015  0.29755577 0.6804536  0.24088026]\n",
      "  [0.0789882  0.29836147 0.45873694 0.79401729 0.34707458]\n",
      "  [0.86501192 0.30746061 0.51136459 0.05017582 0.93953117]]\n",
      "\n",
      " [[0.03646864 0.69647588 0.63462841 0.01302442 0.27537627]\n",
      "  [0.90946182 0.17471054 0.74890423 0.74195511 0.05761679]\n",
      "  [0.12044431 0.14490355 0.2903094  0.92095915 0.52427207]]]\n",
      "[[[1.04069819 1.6367015  1.29755577 1.6804536  1.24088026]\n",
      "  [1.0789882  1.29836147 1.45873694 1.79401729 1.34707458]\n",
      "  [1.86501192 1.30746061 1.51136459 1.05017582 1.93953117]]\n",
      "\n",
      " [[1.03646864 1.69647588 1.63462841 1.01302442 1.27537627]\n",
      "  [1.90946182 1.17471054 1.74890423 1.74195511 1.05761679]\n",
      "  [1.12044431 1.14490355 1.2903094  1.92095915 1.52427207]]]\n"
     ]
    }
   ],
   "source": [
    "# your code/answer here\n",
    "print(a)\n",
    "\n",
    "print(d)"
   ]
  },
  {
   "cell_type": "markdown",
   "metadata": {},
   "source": [
    "#### 12. Multiply *a* and *c*. Assign the result to *e*."
   ]
  },
  {
   "cell_type": "code",
   "execution_count": 15,
   "metadata": {
    "ExecuteTime": {
     "end_time": "2020-01-26T16:23:08.550277Z",
     "start_time": "2020-01-26T16:23:08.542907Z"
    }
   },
   "outputs": [],
   "source": [
    "# your code here\n",
    "e=a*c"
   ]
  },
  {
   "cell_type": "markdown",
   "metadata": {},
   "source": [
    "#### 13. Does *e* equal to *a*? Why or why not?\n"
   ]
  },
  {
   "cell_type": "code",
   "execution_count": 16,
   "metadata": {
    "ExecuteTime": {
     "end_time": "2020-01-26T16:23:09.473017Z",
     "start_time": "2020-01-26T16:23:09.455528Z"
    }
   },
   "outputs": [
    {
     "data": {
      "text/plain": [
       "array([[[ True,  True,  True,  True,  True],\n",
       "        [ True,  True,  True,  True,  True],\n",
       "        [ True,  True,  True,  True,  True]],\n",
       "\n",
       "       [[ True,  True,  True,  True,  True],\n",
       "        [ True,  True,  True,  True,  True],\n",
       "        [ True,  True,  True,  True,  True]]])"
      ]
     },
     "execution_count": 16,
     "metadata": {},
     "output_type": "execute_result"
    }
   ],
   "source": [
    "# your code/answer here\n",
    "e == a"
   ]
  },
  {
   "cell_type": "markdown",
   "metadata": {},
   "source": [
    "#### 14. Identify the max, min, and mean values in *d*. Assign those values to variables *d_max*, *d_min* and *d_mean*."
   ]
  },
  {
   "cell_type": "code",
   "execution_count": 17,
   "metadata": {
    "ExecuteTime": {
     "end_time": "2020-01-26T16:23:10.455285Z",
     "start_time": "2020-01-26T16:23:10.442801Z"
    }
   },
   "outputs": [
    {
     "data": {
      "text/plain": [
       "1.9395311716106711"
      ]
     },
     "execution_count": 17,
     "metadata": {},
     "output_type": "execute_result"
    }
   ],
   "source": [
    "# your code here\n",
    "d_max=d.max()\n",
    "d_max"
   ]
  },
  {
   "cell_type": "code",
   "execution_count": 18,
   "metadata": {
    "ExecuteTime": {
     "end_time": "2020-01-26T16:23:10.859522Z",
     "start_time": "2020-01-26T16:23:10.842952Z"
    }
   },
   "outputs": [
    {
     "data": {
      "text/plain": [
       "1.013024423784602"
      ]
     },
     "execution_count": 18,
     "metadata": {},
     "output_type": "execute_result"
    }
   ],
   "source": [
    "d_min=d.min()\n",
    "d_min"
   ]
  },
  {
   "cell_type": "code",
   "execution_count": 19,
   "metadata": {
    "ExecuteTime": {
     "end_time": "2020-01-26T16:23:11.267365Z",
     "start_time": "2020-01-26T16:23:11.257800Z"
    }
   },
   "outputs": [
    {
     "data": {
      "text/plain": [
       "1.4278840837408326"
      ]
     },
     "execution_count": 19,
     "metadata": {},
     "output_type": "execute_result"
    }
   ],
   "source": [
    "d_mean=d.mean()\n",
    "d_mean"
   ]
  },
  {
   "cell_type": "markdown",
   "metadata": {},
   "source": [
    "#### 15. Now we want to label the values in *d*. First create an empty array *f* with the same shape (i.e. 2x3x5) as *d* using `np.empty`.\n"
   ]
  },
  {
   "cell_type": "code",
   "execution_count": 20,
   "metadata": {
    "ExecuteTime": {
     "end_time": "2020-01-26T16:23:12.121205Z",
     "start_time": "2020-01-26T16:23:12.109106Z"
    }
   },
   "outputs": [
    {
     "data": {
      "text/plain": [
       "array([[[0.04069819, 0.6367015 , 0.29755577, 0.6804536 , 0.24088026],\n",
       "        [0.0789882 , 0.29836147, 0.45873694, 0.79401729, 0.34707458],\n",
       "        [0.86501192, 0.30746061, 0.51136459, 0.05017582, 0.93953117]],\n",
       "\n",
       "       [[0.03646864, 0.69647588, 0.63462841, 0.01302442, 0.27537627],\n",
       "        [0.90946182, 0.17471054, 0.74890423, 0.74195511, 0.05761679],\n",
       "        [0.12044431, 0.14490355, 0.2903094 , 0.92095915, 0.52427207]]])"
      ]
     },
     "execution_count": 20,
     "metadata": {},
     "output_type": "execute_result"
    }
   ],
   "source": [
    "# your code here\n",
    "f=np.empty([2,3,5])\n",
    "f"
   ]
  },
  {
   "cell_type": "markdown",
   "metadata": {},
   "source": [
    "#### 16. Populate the values in *f*. \n",
    "\n",
    "For each value in *d*, if it's larger than *d_min* but smaller than *d_mean*, assign 25 to the corresponding value in *f*. If a value in *d* is larger than *d_mean* but smaller than *d_max*, assign 75 to the corresponding value in *f*. If a value equals to *d_mean*, assign 50 to the corresponding value in *f*. Assign 0 to the corresponding value(s) in *f* for *d_min* in *d*. Assign 100 to the corresponding value(s) in *f* for *d_max* in *d*. In the end, f should have only the following values: 0, 25, 50, 75, and 100.\n",
    "\n",
    "**Note**: you don't have to use Numpy in this question."
   ]
  },
  {
   "cell_type": "code",
   "execution_count": 21,
   "metadata": {
    "ExecuteTime": {
     "end_time": "2020-01-26T16:23:12.929533Z",
     "start_time": "2020-01-26T16:23:12.912659Z"
    },
    "code_folding": []
   },
   "outputs": [],
   "source": [
    "# your code here\n",
    "for i in range(len(d)):\n",
    "    for j in range(len(d[i])):\n",
    "        for k in range(len(d[i][j])):\n",
    "            if d[i][j][k]>d_min and d[i][j][k]<d_mean:\n",
    "                f[i][j][k]=25\n",
    "            elif d[i][j][k]>d_mean and d[i][j][k]<d_max:\n",
    "                f[i][j][k]=75\n",
    "            elif d[i][j][k]==d_mean :\n",
    "                f[i][j][k]=50\n",
    "            elif d[i][j][k]==d_min :\n",
    "                f[i][j][k]=0\n",
    "            elif d[i][j][k]==d_max :\n",
    "                f[i][j][k]=100  \n"
   ]
  },
  {
   "cell_type": "markdown",
   "metadata": {},
   "source": [
    "#### 17. Print *d* and *f*. Do you have your expected *f*?\n",
    "For instance, if your *d* is:\n",
    "```python\n",
    "[[[1.85836099, 1.67064465, 1.62576044, 1.40243961, 1.88454931],\n",
    "[1.75354326, 1.69403643, 1.36729252, 1.61415071, 1.12104981],\n",
    "[1.72201435, 1.1862918 , 1.87078449, 1.7726778 , 1.88180042]],\n",
    "[[1.44747908, 1.31673383, 1.02000951, 1.52218947, 1.97066381],\n",
    "[1.79129243, 1.74983003, 1.96028037, 1.85166831, 1.65450881],\n",
    "[1.18068344, 1.9587381 , 1.00656599, 1.93402165, 1.73514584]]]\n",
    "```\n",
    "Your *f* should be:\n",
    "```python\n",
    "[[[ 75.,  75.,  75.,  25.,  75.],\n",
    "[ 75.,  75.,  25.,  25.,  25.],\n",
    "[ 75.,  25.,  75.,  75.,  75.]],\n",
    "[[ 25.,  25.,  25.,  25., 100.],\n",
    "[ 75.,  75.,  75.,  75.,  75.],\n",
    "[ 25.,  75.,   0.,  75.,  75.]]]\n",
    "```"
   ]
  },
  {
   "cell_type": "code",
   "execution_count": 22,
   "metadata": {
    "ExecuteTime": {
     "end_time": "2020-01-26T16:23:13.908308Z",
     "start_time": "2020-01-26T16:23:13.894282Z"
    }
   },
   "outputs": [
    {
     "name": "stdout",
     "output_type": "stream",
     "text": [
      "[[[1.04069819 1.6367015  1.29755577 1.6804536  1.24088026]\n",
      "  [1.0789882  1.29836147 1.45873694 1.79401729 1.34707458]\n",
      "  [1.86501192 1.30746061 1.51136459 1.05017582 1.93953117]]\n",
      "\n",
      " [[1.03646864 1.69647588 1.63462841 1.01302442 1.27537627]\n",
      "  [1.90946182 1.17471054 1.74890423 1.74195511 1.05761679]\n",
      "  [1.12044431 1.14490355 1.2903094  1.92095915 1.52427207]]]\n",
      "[[[ 25.  75.  25.  75.  25.]\n",
      "  [ 25.  25.  75.  75.  25.]\n",
      "  [ 75.  25.  75.  25. 100.]]\n",
      "\n",
      " [[ 25.  75.  75.   0.  25.]\n",
      "  [ 75.  25.  75.  75.  25.]\n",
      "  [ 25.  25.  25.  75.  75.]]]\n"
     ]
    }
   ],
   "source": [
    "# your code here\n",
    "print(d)\n",
    "print(f)"
   ]
  },
  {
   "cell_type": "markdown",
   "metadata": {},
   "source": [
    "#### 18. Bonus question: instead of using numbers (i.e. 0, 25, 50, 75, and 100), use string values  (\"A\", \"B\", \"C\", \"D\", and \"E\") to label the array elements. For the example above, the expected result is:\n",
    "\n",
    "```python\n",
    "[[[ 'D',  'D',  'D',  'B',  'D'],\n",
    "[ 'D',  'D',  'B',  'B',  'B'],\n",
    "[ 'D',  'B',  'D',  'D',  'D']],\n",
    "[[ 'B',  'B',  'B',  'B',  'E'],\n",
    "[ 'D',  'D',  'D',  'D',  'D'],\n",
    "[ 'B',  'D',   'A',  'D', 'D']]]\n",
    "```\n",
    "**Note**: you don't have to use Numpy in this question."
   ]
  },
  {
   "cell_type": "code",
   "execution_count": 24,
   "metadata": {
    "ExecuteTime": {
     "end_time": "2020-01-26T16:23:59.632558Z",
     "start_time": "2020-01-26T16:23:59.601565Z"
    },
    "code_folding": []
   },
   "outputs": [
    {
     "data": {
      "text/plain": [
       "array([[['B', 'D', 'B', 'D', 'B'],\n",
       "        ['B', 'B', 'D', 'D', 'B'],\n",
       "        ['D', 'B', 'D', 'B', 'E']],\n",
       "\n",
       "       [['B', 'D', 'D', 'A', 'B'],\n",
       "        ['D', 'B', 'D', 'D', 'B'],\n",
       "        ['B', 'B', 'B', 'D', 'D']]], dtype='<U1')"
      ]
     },
     "execution_count": 24,
     "metadata": {},
     "output_type": "execute_result"
    }
   ],
   "source": [
    "# your code here\n",
    "p=np.empty([2,3,5],dtype=str)\n",
    "\n",
    "for i in range(len(d)):\n",
    "    for j in range(len(d[i])):\n",
    "        for k in range(len(d[i][j])):\n",
    "            if d[i][j][k]>d_min and d[i][j][k]<d_mean:\n",
    "                p[i][j][k]='B'\n",
    "            elif d[i][j][k]>d_mean and d[i][j][k]<d_max:\n",
    "                p[i][j][k]='D'\n",
    "            elif d[i][j][k]==d_mean :\n",
    "                p[i][j][k]='C'\n",
    "            elif d[i][j][k]==d_min :\n",
    "                p[i][j][k]='A'\n",
    "            elif d[i][j][k]==d_max :\n",
    "                p[i][j][k]='E'\n",
    "                \n",
    "p"
   ]
  },
  {
   "cell_type": "code",
   "execution_count": null,
   "metadata": {},
   "outputs": [],
   "source": []
  }
 ],
 "metadata": {
  "kernelspec": {
   "display_name": "Python 3",
   "language": "python",
   "name": "python3"
  },
  "language_info": {
   "codemirror_mode": {
    "name": "ipython",
    "version": 3
   },
   "file_extension": ".py",
   "mimetype": "text/x-python",
   "name": "python",
   "nbconvert_exporter": "python",
   "pygments_lexer": "ipython3",
   "version": "3.7.4"
  },
  "toc": {
   "base_numbering": 1,
   "nav_menu": {},
   "number_sections": true,
   "sideBar": true,
   "skip_h1_title": false,
   "title_cell": "Table of Contents",
   "title_sidebar": "Contents",
   "toc_cell": false,
   "toc_position": {},
   "toc_section_display": true,
   "toc_window_display": false
  },
  "varInspector": {
   "cols": {
    "lenName": 16,
    "lenType": 16,
    "lenVar": 40
   },
   "kernels_config": {
    "python": {
     "delete_cmd_postfix": "",
     "delete_cmd_prefix": "del ",
     "library": "var_list.py",
     "varRefreshCmd": "print(var_dic_list())"
    },
    "r": {
     "delete_cmd_postfix": ") ",
     "delete_cmd_prefix": "rm(",
     "library": "var_list.r",
     "varRefreshCmd": "cat(var_dic_list()) "
    }
   },
   "types_to_exclude": [
    "module",
    "function",
    "builtin_function_or_method",
    "instance",
    "_Feature"
   ],
   "window_display": false
  }
 },
 "nbformat": 4,
 "nbformat_minor": 2
}
