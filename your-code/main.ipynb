{
 "cells": [
  {
   "cell_type": "markdown",
   "metadata": {},
   "source": [
    "# Intrduction to NumPy\n",
    "\n",
    "\n",
    "#### 1. Import NumPy under the name np."
   ]
  },
  {
   "cell_type": "code",
   "execution_count": 249,
   "metadata": {
    "ExecuteTime": {
     "end_time": "2020-01-26T22:16:06.415363Z",
     "start_time": "2020-01-26T22:16:06.407458Z"
    }
   },
   "outputs": [],
   "source": [
    "# your code here\n",
    "\n",
    "import numpy as np"
   ]
  },
  {
   "cell_type": "markdown",
   "metadata": {},
   "source": [
    "#### 2. Print your NumPy version."
   ]
  },
  {
   "cell_type": "code",
   "execution_count": 250,
   "metadata": {
    "ExecuteTime": {
     "end_time": "2020-01-26T22:16:07.371862Z",
     "start_time": "2020-01-26T22:16:07.367691Z"
    }
   },
   "outputs": [
    {
     "name": "stdout",
     "output_type": "stream",
     "text": [
      "1.17.4\n"
     ]
    }
   ],
   "source": [
    "# your code here\n",
    "\n",
    "print(np.__version__)"
   ]
  },
  {
   "cell_type": "markdown",
   "metadata": {},
   "source": [
    "#### 3. Generate a 2x3x5 3-dimensional array with random values. Assign the array to variable *a*.\n",
    "**Challenge**: there are at least three easy ways that use numpy to generate random arrays. How many ways can you find?"
   ]
  },
  {
   "cell_type": "code",
   "execution_count": 251,
   "metadata": {
    "ExecuteTime": {
     "end_time": "2020-01-26T22:16:08.467219Z",
     "start_time": "2020-01-26T22:16:08.455055Z"
    }
   },
   "outputs": [
    {
     "name": "stdout",
     "output_type": "stream",
     "text": [
      "[[[0.01042386 0.60222484 0.13863902 0.78242599 0.66747235]\n",
      "  [0.99408251 0.01330262 0.56930953 0.53004968 0.77131408]\n",
      "  [0.7795981  0.37212895 0.8361423  0.21523804 0.19163755]]\n",
      "\n",
      " [[0.20523398 0.78108949 0.22851268 0.37358585 0.20732939]\n",
      "  [0.15271141 0.53981642 0.15132512 0.35939217 0.80886519]\n",
      "  [0.92256238 0.12795171 0.83543513 0.05591957 0.24453589]]]\n"
     ]
    }
   ],
   "source": [
    "# Method 1\n",
    "\n",
    "a = np.random.random((2, 3, 5))\n",
    "print(a)"
   ]
  },
  {
   "cell_type": "code",
   "execution_count": 252,
   "metadata": {
    "ExecuteTime": {
     "end_time": "2020-01-26T22:16:09.056254Z",
     "start_time": "2020-01-26T22:16:09.050557Z"
    }
   },
   "outputs": [
    {
     "name": "stdout",
     "output_type": "stream",
     "text": [
      "[[[0.40794193 0.15992697 0.35693156 0.94355267 0.48501645]\n",
      "  [0.44023198 0.40550351 0.54287109 0.51523687 0.61077106]\n",
      "  [0.54695587 0.70917603 0.34816724 0.14773209 0.11819416]]\n",
      "\n",
      " [[0.49291815 0.56661184 0.62687234 0.02793391 0.92448152]\n",
      "  [0.90486802 0.30738799 0.72900896 0.6238926  0.94439446]\n",
      "  [0.63145437 0.17192114 0.30634583 0.59521535 0.07138886]]]\n"
     ]
    }
   ],
   "source": [
    "# Method 2\n",
    "\n",
    "a2 = np.random.random_sample((2, 3, 5))\n",
    "\n",
    "print (a2)"
   ]
  },
  {
   "cell_type": "code",
   "execution_count": 253,
   "metadata": {
    "ExecuteTime": {
     "end_time": "2020-01-26T22:16:09.749848Z",
     "start_time": "2020-01-26T22:16:09.742909Z"
    }
   },
   "outputs": [
    {
     "name": "stdout",
     "output_type": "stream",
     "text": [
      "[[[0.59270568 0.49892367 0.2246331  0.77177916 0.40972398]\n",
      "  [0.78326065 0.62603052 0.44139674 0.86515703 0.35432997]\n",
      "  [0.59459555 0.54105491 0.95184464 0.49212464 0.83404627]]\n",
      "\n",
      " [[0.05242787 0.83877836 0.91761896 0.10011562 0.57492152]\n",
      "  [0.45616678 0.54246129 0.41046197 0.7513318  0.84107878]\n",
      "  [0.12294769 0.26662959 0.71573968 0.23298506 0.29057562]]]\n"
     ]
    }
   ],
   "source": [
    "# Method 3\n",
    "\n",
    "a3 = np.random.rand(2,3,5)\n",
    "\n",
    "print (a3)\n"
   ]
  },
  {
   "cell_type": "markdown",
   "metadata": {},
   "source": [
    "#### 4. Print *a*.\n"
   ]
  },
  {
   "cell_type": "code",
   "execution_count": 254,
   "metadata": {
    "ExecuteTime": {
     "end_time": "2020-01-26T22:16:11.871268Z",
     "start_time": "2020-01-26T22:16:11.863784Z"
    }
   },
   "outputs": [
    {
     "name": "stdout",
     "output_type": "stream",
     "text": [
      "[[[0.01042386 0.60222484 0.13863902 0.78242599 0.66747235]\n",
      "  [0.99408251 0.01330262 0.56930953 0.53004968 0.77131408]\n",
      "  [0.7795981  0.37212895 0.8361423  0.21523804 0.19163755]]\n",
      "\n",
      " [[0.20523398 0.78108949 0.22851268 0.37358585 0.20732939]\n",
      "  [0.15271141 0.53981642 0.15132512 0.35939217 0.80886519]\n",
      "  [0.92256238 0.12795171 0.83543513 0.05591957 0.24453589]]]\n",
      "\n",
      "Numero de dimensiones de a - 3\n",
      "\n",
      "Shape de a - (2, 3, 5)\n"
     ]
    }
   ],
   "source": [
    "# your code here\n",
    "\n",
    "print(a)\n",
    "print(\"\")\n",
    "print(\"Numero de dimensiones de a -\", a.ndim) # Para comprobar que es de 3 dimensiones\n",
    "print(\"\")\n",
    "print(\"Shape de a -\", a.shape) # Para comprobar el shape es correcto"
   ]
  },
  {
   "cell_type": "markdown",
   "metadata": {},
   "source": [
    "#### 5. Create a 5x2x3 3-dimensional array with all values equaling 1. Assign the array to variable *b*."
   ]
  },
  {
   "cell_type": "code",
   "execution_count": 255,
   "metadata": {
    "ExecuteTime": {
     "end_time": "2020-01-26T22:16:13.637064Z",
     "start_time": "2020-01-26T22:16:13.629577Z"
    }
   },
   "outputs": [
    {
     "name": "stdout",
     "output_type": "stream",
     "text": [
      "Numero de dimensiones de b - 3\n",
      "\n",
      "Shape de b - (5, 2, 3)\n"
     ]
    }
   ],
   "source": [
    "# your code here\n",
    "\n",
    "b = np.ones((5, 2, 3))\n",
    "\n",
    "print(\"Numero de dimensiones de b -\", b.ndim) # Para comprobar que es de 3 dimensiones\n",
    "print(\"\")\n",
    "print(\"Shape de b -\", b.shape) # Para comprobar el shape es correcto"
   ]
  },
  {
   "cell_type": "markdown",
   "metadata": {},
   "source": [
    "#### 6. Print *b*.\n"
   ]
  },
  {
   "cell_type": "code",
   "execution_count": 256,
   "metadata": {
    "ExecuteTime": {
     "end_time": "2020-01-26T22:16:15.123917Z",
     "start_time": "2020-01-26T22:16:15.119617Z"
    }
   },
   "outputs": [
    {
     "name": "stdout",
     "output_type": "stream",
     "text": [
      "[[[1. 1. 1.]\n",
      "  [1. 1. 1.]]\n",
      "\n",
      " [[1. 1. 1.]\n",
      "  [1. 1. 1.]]\n",
      "\n",
      " [[1. 1. 1.]\n",
      "  [1. 1. 1.]]\n",
      "\n",
      " [[1. 1. 1.]\n",
      "  [1. 1. 1.]]\n",
      "\n",
      " [[1. 1. 1.]\n",
      "  [1. 1. 1.]]]\n"
     ]
    }
   ],
   "source": [
    "# your code here\n",
    "\n",
    "print (b)"
   ]
  },
  {
   "cell_type": "markdown",
   "metadata": {},
   "source": [
    "#### 7. Do *a* and *b* have the same size? How do you prove that in Python code?"
   ]
  },
  {
   "cell_type": "code",
   "execution_count": 257,
   "metadata": {
    "ExecuteTime": {
     "end_time": "2020-01-26T22:16:17.021921Z",
     "start_time": "2020-01-26T22:16:17.013452Z"
    }
   },
   "outputs": [
    {
     "name": "stdout",
     "output_type": "stream",
     "text": [
      "True\n"
     ]
    }
   ],
   "source": [
    "# your code here\n",
    "\n",
    "# Llamaremos al size de cada una (número total de elementos de cada n-dimensional array) y los comparamos.\n",
    "\n",
    "if b.size == a.size:\n",
    "    print (\"True\")\n",
    "else:\n",
    "    print (\"False\")"
   ]
  },
  {
   "cell_type": "markdown",
   "metadata": {},
   "source": [
    "#### 8. Are you able to add *a* and *b*? Why or why not?\n"
   ]
  },
  {
   "cell_type": "code",
   "execution_count": 258,
   "metadata": {
    "ExecuteTime": {
     "end_time": "2020-01-26T22:16:19.426080Z",
     "start_time": "2020-01-26T22:16:19.418472Z"
    }
   },
   "outputs": [
    {
     "ename": "ValueError",
     "evalue": "operands could not be broadcast together with shapes (2,3,5) (5,2,3) ",
     "output_type": "error",
     "traceback": [
      "\u001b[0;31m---------------------------------------------------------------------------\u001b[0m",
      "\u001b[0;31mValueError\u001b[0m                                Traceback (most recent call last)",
      "\u001b[0;32m<ipython-input-258-62352ae62e3c>\u001b[0m in \u001b[0;36m<module>\u001b[0;34m\u001b[0m\n\u001b[1;32m      3\u001b[0m \u001b[0;31m# No permite add a y b porque no tienen el mismo shape.\u001b[0m\u001b[0;34m\u001b[0m\u001b[0;34m\u001b[0m\u001b[0;34m\u001b[0m\u001b[0m\n\u001b[1;32m      4\u001b[0m \u001b[0;34m\u001b[0m\u001b[0m\n\u001b[0;32m----> 5\u001b[0;31m \u001b[0mnp\u001b[0m\u001b[0;34m.\u001b[0m\u001b[0madd\u001b[0m\u001b[0;34m(\u001b[0m\u001b[0ma\u001b[0m\u001b[0;34m,\u001b[0m \u001b[0mb\u001b[0m\u001b[0;34m)\u001b[0m\u001b[0;34m\u001b[0m\u001b[0;34m\u001b[0m\u001b[0m\n\u001b[0m",
      "\u001b[0;31mValueError\u001b[0m: operands could not be broadcast together with shapes (2,3,5) (5,2,3) "
     ]
    }
   ],
   "source": [
    "# your answer here\n",
    "\n",
    "# No permite add a y b porque no tienen el mismo shape.\n",
    "\n",
    "np.add(a, b)"
   ]
  },
  {
   "cell_type": "markdown",
   "metadata": {},
   "source": [
    "#### 9. Transpose *b* so that it has the same structure of *a* (i.e. become a 2x3x5 array). Assign the transposed array to variable *c*."
   ]
  },
  {
   "cell_type": "code",
   "execution_count": 259,
   "metadata": {
    "ExecuteTime": {
     "end_time": "2020-01-26T22:16:22.167770Z",
     "start_time": "2020-01-26T22:16:22.159460Z"
    }
   },
   "outputs": [
    {
     "name": "stdout",
     "output_type": "stream",
     "text": [
      "[[[1. 1. 1. 1. 1.]\n",
      "  [1. 1. 1. 1. 1.]\n",
      "  [1. 1. 1. 1. 1.]]\n",
      "\n",
      " [[1. 1. 1. 1. 1.]\n",
      "  [1. 1. 1. 1. 1.]\n",
      "  [1. 1. 1. 1. 1.]]]\n"
     ]
    },
    {
     "data": {
      "text/plain": [
       "(2, 3, 5)"
      ]
     },
     "execution_count": 259,
     "metadata": {},
     "output_type": "execute_result"
    }
   ],
   "source": [
    "# your code here\n",
    "\n",
    "c = np.transpose(b,(1,2,0)) \n",
    "\n",
    "# Con (b,(1,2,0)) defino el orden en el que se colocarán los axes de b al hacer transpose.\n",
    "# Es decir, en la posición 0 queremos que el 2, que era la posición. \n",
    "# En la posición 1, queremos el 3, que era la posición 2.\n",
    "# En la posición 3, queremos el 5, que era la posición 0.\n",
    "\n",
    "print(c)\n",
    "\n",
    "c.shape"
   ]
  },
  {
   "cell_type": "markdown",
   "metadata": {},
   "source": [
    "#### 10. Try to add *a* and *c*. Now it should work. Assign the sum to variable *d*. But why does it work now?"
   ]
  },
  {
   "cell_type": "code",
   "execution_count": 260,
   "metadata": {
    "ExecuteTime": {
     "end_time": "2020-01-26T22:16:23.735659Z",
     "start_time": "2020-01-26T22:16:23.729778Z"
    }
   },
   "outputs": [
    {
     "name": "stdout",
     "output_type": "stream",
     "text": [
      "[[[1.01042386 1.60222484 1.13863902 1.78242599 1.66747235]\n",
      "  [1.99408251 1.01330262 1.56930953 1.53004968 1.77131408]\n",
      "  [1.7795981  1.37212895 1.8361423  1.21523804 1.19163755]]\n",
      "\n",
      " [[1.20523398 1.78108949 1.22851268 1.37358585 1.20732939]\n",
      "  [1.15271141 1.53981642 1.15132512 1.35939217 1.80886519]\n",
      "  [1.92256238 1.12795171 1.83543513 1.05591957 1.24453589]]]\n"
     ]
    }
   ],
   "source": [
    "# your code/answer here\n",
    "\n",
    "d = np.add(a, c)\n",
    "\n",
    "print(d)\n",
    "\n",
    "# Ahora funciona porque ambas matrices tienen tanto el mismo size como el mismo shape (2,3,5).\n",
    "# Los elementos están colocados de la misma manera, y por eso se pueden sumar."
   ]
  },
  {
   "cell_type": "markdown",
   "metadata": {},
   "source": [
    "#### 11. Print *a* and *d*. Notice the difference and relation of the two array in terms of the values? Explain."
   ]
  },
  {
   "cell_type": "code",
   "execution_count": 261,
   "metadata": {
    "ExecuteTime": {
     "end_time": "2020-01-26T22:16:25.269903Z",
     "start_time": "2020-01-26T22:16:25.263655Z"
    }
   },
   "outputs": [
    {
     "name": "stdout",
     "output_type": "stream",
     "text": [
      "[[[0.01042386 0.60222484 0.13863902 0.78242599 0.66747235]\n",
      "  [0.99408251 0.01330262 0.56930953 0.53004968 0.77131408]\n",
      "  [0.7795981  0.37212895 0.8361423  0.21523804 0.19163755]]\n",
      "\n",
      " [[0.20523398 0.78108949 0.22851268 0.37358585 0.20732939]\n",
      "  [0.15271141 0.53981642 0.15132512 0.35939217 0.80886519]\n",
      "  [0.92256238 0.12795171 0.83543513 0.05591957 0.24453589]]]\n"
     ]
    }
   ],
   "source": [
    "# your code/answer here\n",
    "\n",
    "print(a)"
   ]
  },
  {
   "cell_type": "code",
   "execution_count": 262,
   "metadata": {
    "ExecuteTime": {
     "end_time": "2020-01-26T22:16:26.281269Z",
     "start_time": "2020-01-26T22:16:26.273532Z"
    }
   },
   "outputs": [
    {
     "name": "stdout",
     "output_type": "stream",
     "text": [
      "[[[1.01042386 1.60222484 1.13863902 1.78242599 1.66747235]\n",
      "  [1.99408251 1.01330262 1.56930953 1.53004968 1.77131408]\n",
      "  [1.7795981  1.37212895 1.8361423  1.21523804 1.19163755]]\n",
      "\n",
      " [[1.20523398 1.78108949 1.22851268 1.37358585 1.20732939]\n",
      "  [1.15271141 1.53981642 1.15132512 1.35939217 1.80886519]\n",
      "  [1.92256238 1.12795171 1.83543513 1.05591957 1.24453589]]]\n"
     ]
    }
   ],
   "source": [
    "print(d)"
   ]
  },
  {
   "cell_type": "code",
   "execution_count": 263,
   "metadata": {
    "ExecuteTime": {
     "end_time": "2020-01-26T22:16:27.123272Z",
     "start_time": "2020-01-26T22:16:27.119580Z"
    }
   },
   "outputs": [],
   "source": [
    "# La matrix \"d\" es igual que la matriz \"a\" pero sumando 1 a cada elemento."
   ]
  },
  {
   "cell_type": "markdown",
   "metadata": {},
   "source": [
    "#### 12. Multiply *a* and *c*. Assign the result to *e*."
   ]
  },
  {
   "cell_type": "code",
   "execution_count": 264,
   "metadata": {
    "ExecuteTime": {
     "end_time": "2020-01-26T22:16:29.078486Z",
     "start_time": "2020-01-26T22:16:29.052178Z"
    }
   },
   "outputs": [
    {
     "name": "stdout",
     "output_type": "stream",
     "text": [
      "[[[0.01042386 0.60222484 0.13863902 0.78242599 0.66747235]\n",
      "  [0.99408251 0.01330262 0.56930953 0.53004968 0.77131408]\n",
      "  [0.7795981  0.37212895 0.8361423  0.21523804 0.19163755]]\n",
      "\n",
      " [[0.20523398 0.78108949 0.22851268 0.37358585 0.20732939]\n",
      "  [0.15271141 0.53981642 0.15132512 0.35939217 0.80886519]\n",
      "  [0.92256238 0.12795171 0.83543513 0.05591957 0.24453589]]]\n"
     ]
    }
   ],
   "source": [
    "# your code here\n",
    "\n",
    "e = np.multiply(a, c)\n",
    "\n",
    "print(e)"
   ]
  },
  {
   "cell_type": "markdown",
   "metadata": {},
   "source": [
    "#### 13. Does *e* equal to *a*? Why or why not?\n"
   ]
  },
  {
   "cell_type": "code",
   "execution_count": 265,
   "metadata": {
    "ExecuteTime": {
     "end_time": "2020-01-26T22:16:30.562967Z",
     "start_time": "2020-01-26T22:16:30.557789Z"
    }
   },
   "outputs": [
    {
     "data": {
      "text/plain": [
       "True"
      ]
     },
     "execution_count": 265,
     "metadata": {},
     "output_type": "execute_result"
    }
   ],
   "source": [
    "# your code/answer here\n",
    "\n",
    "np.array_equal(a,e) \n",
    "\n",
    "# Iguales porque estamos multiplicando todos los elementos de la matriz \"a\" por 1, que son los elementos de la matriz \"d\""
   ]
  },
  {
   "cell_type": "code",
   "execution_count": 266,
   "metadata": {
    "ExecuteTime": {
     "end_time": "2020-01-26T22:16:31.663226Z",
     "start_time": "2020-01-26T22:16:31.657652Z"
    }
   },
   "outputs": [
    {
     "data": {
      "text/plain": [
       "True"
      ]
     },
     "execution_count": 266,
     "metadata": {},
     "output_type": "execute_result"
    }
   ],
   "source": [
    "# Otra manera que he encontrado sería (a==e).all() - Comparada que todos los elementos de ambas matrices, sean iguales.\n",
    "\n",
    "(a==e).all()"
   ]
  },
  {
   "cell_type": "markdown",
   "metadata": {},
   "source": [
    "#### 14. Identify the max, min, and mean values in *d*. Assign those values to variables *d_max*, *d_min* and *d_mean*."
   ]
  },
  {
   "cell_type": "code",
   "execution_count": 267,
   "metadata": {
    "ExecuteTime": {
     "end_time": "2020-01-26T22:16:33.464973Z",
     "start_time": "2020-01-26T22:16:33.454943Z"
    }
   },
   "outputs": [
    {
     "name": "stdout",
     "output_type": "stream",
     "text": [
      "The max value in d is: 1.994082511354315\n",
      "The min value in d is: 1.0104238597673396\n",
      "The mean value in d is: 1.4489418598424342\n"
     ]
    }
   ],
   "source": [
    "# your code here\n",
    "\n",
    "d_max = np.max(d) # Otra forma d_max = d.max()\n",
    "print (\"The max value in d is:\", d_max)\n",
    "\n",
    "d_min = np.min(d) # Otra forma d_max = d.min()\n",
    "print (\"The min value in d is:\", d_min)\n",
    "\n",
    "d_mean = np.mean(d) # Otra forma d_max = d.mean()\n",
    "print (\"The mean value in d is:\", d_mean)"
   ]
  },
  {
   "cell_type": "markdown",
   "metadata": {},
   "source": [
    "#### 15. Now we want to label the values in *d*. First create an empty array *f* with the same shape (i.e. 2x3x5) as *d* using `np.empty`.\n"
   ]
  },
  {
   "cell_type": "code",
   "execution_count": 275,
   "metadata": {
    "ExecuteTime": {
     "end_time": "2020-01-26T22:18:53.409291Z",
     "start_time": "2020-01-26T22:18:53.404242Z"
    }
   },
   "outputs": [],
   "source": [
    "# your code here\n",
    "\n",
    "f = np.empty([2, 3, 5])\n"
   ]
  },
  {
   "cell_type": "markdown",
   "metadata": {},
   "source": [
    "#### 16. Populate the values in *f*. \n",
    "\n",
    "For each value in *d*, if it's larger than *d_min* but smaller than *d_mean*, assign 25 to the corresponding value in *f*. If a value in *d* is larger than *d_mean* but smaller than *d_max*, assign 75 to the corresponding value in *f*. If a value equals to *d_mean*, assign 50 to the corresponding value in *f*. Assign 0 to the corresponding value(s) in *f* for *d_min* in *d*. Assign 100 to the corresponding value(s) in *f* for *d_max* in *d*. In the end, f should have only the following values: 0, 25, 50, 75, and 100.\n",
    "\n",
    "**Note**: you don't have to use Numpy in this question."
   ]
  },
  {
   "cell_type": "code",
   "execution_count": 276,
   "metadata": {
    "ExecuteTime": {
     "end_time": "2020-01-26T22:18:55.864410Z",
     "start_time": "2020-01-26T22:18:55.854647Z"
    }
   },
   "outputs": [],
   "source": [
    "# your code here\n",
    "\n",
    "# No sé si el objetivo del ejercicio es que lo hiciéramos iterando, pero de esa manera no he sabido como plantearlo.\n",
    "# He encontrado esta forma en stackoverflow y me funciona.\n",
    "# Lo interpreto como reemplazar directamente los elementos de la función f por cada valor (según los criterios de d)\n",
    "\n",
    "f [(d > d_min) & (d < d_mean)] = 25 # d larger than d_min but smaller than d_mean\n",
    "f [(d > d_mean) & (d < d_max)] = 75 # d larger than d_mean but smaller than d_max\n",
    "f [(d == d_mean)] = 50 # d equals to d_mean\n",
    "f [(d == d_min)] = 0 # for d_min in d\n",
    "f [(d == d_max)] = 100 # for d_max in d\n"
   ]
  },
  {
   "cell_type": "markdown",
   "metadata": {},
   "source": [
    "#### 17. Print *d* and *f*. Do you have your expected *f*?\n",
    "For instance, if your *d* is:\n",
    "```python\n",
    "[[[1.85836099, 1.67064465, 1.62576044, 1.40243961, 1.88454931],\n",
    "[1.75354326, 1.69403643, 1.36729252, 1.61415071, 1.12104981],\n",
    "[1.72201435, 1.1862918 , 1.87078449, 1.7726778 , 1.88180042]],\n",
    "[[1.44747908, 1.31673383, 1.02000951, 1.52218947, 1.97066381],\n",
    "[1.79129243, 1.74983003, 1.96028037, 1.85166831, 1.65450881],\n",
    "[1.18068344, 1.9587381 , 1.00656599, 1.93402165, 1.73514584]]]\n",
    "```\n",
    "Your *f* should be:\n",
    "```python\n",
    "[[[ 75.,  75.,  75.,  25.,  75.],\n",
    "[ 75.,  75.,  25.,  25.,  25.],\n",
    "[ 75.,  25.,  75.,  75.,  75.]],\n",
    "[[ 25.,  25.,  25.,  25., 100.],\n",
    "[ 75.,  75.,  75.,  75.,  75.],\n",
    "[ 25.,  75.,   0.,  75.,  75.]]]\n",
    "```"
   ]
  },
  {
   "cell_type": "code",
   "execution_count": 277,
   "metadata": {
    "ExecuteTime": {
     "end_time": "2020-01-26T22:18:57.656040Z",
     "start_time": "2020-01-26T22:18:57.649413Z"
    }
   },
   "outputs": [
    {
     "name": "stdout",
     "output_type": "stream",
     "text": [
      "[[[1.01042386 1.60222484 1.13863902 1.78242599 1.66747235]\n",
      "  [1.99408251 1.01330262 1.56930953 1.53004968 1.77131408]\n",
      "  [1.7795981  1.37212895 1.8361423  1.21523804 1.19163755]]\n",
      "\n",
      " [[1.20523398 1.78108949 1.22851268 1.37358585 1.20732939]\n",
      "  [1.15271141 1.53981642 1.15132512 1.35939217 1.80886519]\n",
      "  [1.92256238 1.12795171 1.83543513 1.05591957 1.24453589]]]\n"
     ]
    }
   ],
   "source": [
    "# your code here\n",
    "\n",
    "print (d)"
   ]
  },
  {
   "cell_type": "code",
   "execution_count": 278,
   "metadata": {
    "ExecuteTime": {
     "end_time": "2020-01-26T22:18:59.424974Z",
     "start_time": "2020-01-26T22:18:59.415402Z"
    }
   },
   "outputs": [
    {
     "name": "stdout",
     "output_type": "stream",
     "text": [
      "[[[  0.  75.  25.  75.  75.]\n",
      "  [100.  25.  75.  75.  75.]\n",
      "  [ 75.  25.  75.  25.  25.]]\n",
      "\n",
      " [[ 25.  75.  25.  25.  25.]\n",
      "  [ 25.  75.  25.  25.  75.]\n",
      "  [ 75.  25.  75.  25.  25.]]]\n"
     ]
    }
   ],
   "source": [
    "print (f)"
   ]
  },
  {
   "cell_type": "markdown",
   "metadata": {},
   "source": [
    "#### 18. Bonus question: instead of using numbers (i.e. 0, 25, 50, 75, and 100), use string values  (\"A\", \"B\", \"C\", \"D\", and \"E\") to label the array elements. For the example above, the expected result is:\n",
    "\n",
    "```python\n",
    "[[[ 'D',  'D',  'D',  'B',  'D'],\n",
    "[ 'D',  'D',  'B',  'B',  'B'],\n",
    "[ 'D',  'B',  'D',  'D',  'D']],\n",
    "[[ 'B',  'B',  'B',  'B',  'E'],\n",
    "[ 'D',  'D',  'D',  'D',  'D'],\n",
    "[ 'B',  'D',   'A',  'D', 'D']]]\n",
    "```\n",
    "**Note**: you don't have to use Numpy in this question."
   ]
  },
  {
   "cell_type": "code",
   "execution_count": 280,
   "metadata": {
    "ExecuteTime": {
     "end_time": "2020-01-26T22:19:07.377894Z",
     "start_time": "2020-01-26T22:19:07.340584Z"
    }
   },
   "outputs": [
    {
     "ename": "ValueError",
     "evalue": "could not convert string to float: 'A'",
     "output_type": "error",
     "traceback": [
      "\u001b[0;31m---------------------------------------------------------------------------\u001b[0m",
      "\u001b[0;31mValueError\u001b[0m                                Traceback (most recent call last)",
      "\u001b[0;32m<ipython-input-280-fd50c7207524>\u001b[0m in \u001b[0;36m<module>\u001b[0;34m\u001b[0m\n\u001b[1;32m      3\u001b[0m \u001b[0mf_letters\u001b[0m \u001b[0;34m=\u001b[0m \u001b[0mnp\u001b[0m\u001b[0;34m.\u001b[0m\u001b[0mempty\u001b[0m\u001b[0;34m(\u001b[0m\u001b[0;34m[\u001b[0m\u001b[0;36m2\u001b[0m\u001b[0;34m,\u001b[0m \u001b[0;36m3\u001b[0m\u001b[0;34m,\u001b[0m \u001b[0;36m5\u001b[0m\u001b[0;34m]\u001b[0m\u001b[0;34m)\u001b[0m\u001b[0;34m\u001b[0m\u001b[0;34m\u001b[0m\u001b[0m\n\u001b[1;32m      4\u001b[0m \u001b[0;34m\u001b[0m\u001b[0m\n\u001b[0;32m----> 5\u001b[0;31m \u001b[0mf_letters\u001b[0m \u001b[0;34m[\u001b[0m\u001b[0;34m(\u001b[0m\u001b[0mf\u001b[0m \u001b[0;34m==\u001b[0m \u001b[0;36m0\u001b[0m\u001b[0;34m)\u001b[0m\u001b[0;34m]\u001b[0m \u001b[0;34m=\u001b[0m \u001b[0;34m\"A\"\u001b[0m\u001b[0;34m\u001b[0m\u001b[0;34m\u001b[0m\u001b[0m\n\u001b[0m\u001b[1;32m      6\u001b[0m \u001b[0mf_letters\u001b[0m \u001b[0;34m[\u001b[0m\u001b[0;34m(\u001b[0m\u001b[0mf\u001b[0m \u001b[0;34m==\u001b[0m \u001b[0;36m25\u001b[0m\u001b[0;34m)\u001b[0m\u001b[0;34m]\u001b[0m \u001b[0;34m=\u001b[0m \u001b[0;34m\"B\"\u001b[0m\u001b[0;34m\u001b[0m\u001b[0;34m\u001b[0m\u001b[0m\n\u001b[1;32m      7\u001b[0m \u001b[0mf_letters\u001b[0m \u001b[0;34m[\u001b[0m\u001b[0;34m(\u001b[0m\u001b[0mf\u001b[0m \u001b[0;34m==\u001b[0m \u001b[0;36m50\u001b[0m\u001b[0;34m)\u001b[0m\u001b[0;34m]\u001b[0m \u001b[0;34m=\u001b[0m \u001b[0;34m\"C\"\u001b[0m\u001b[0;34m\u001b[0m\u001b[0;34m\u001b[0m\u001b[0m\n",
      "\u001b[0;31mValueError\u001b[0m: could not convert string to float: 'A'"
     ]
    }
   ],
   "source": [
    "# your code here\n",
    "\n",
    "f_letters = np.empty([2, 3, 5])\n",
    "\n",
    "f_letters [(f == 0)] = \"A\"\n",
    "f_letters [(f == 25)] = \"B\"\n",
    "f_letters [(f == 50)] = \"C\"\n",
    "f_letters [(f == 75)] = \"D\"\n",
    "f_letters [(f == 100)] = \"E\"\n",
    "\n",
    "print(f_letters)\n",
    "\n",
    "# He seguido la misma lógica que en el ejercicio anterior, pero me da error que no sé solucionar.\n",
    "# ValueError: could not convert string to float: 'A'\n",
    "# Si hago print(f.dtype) me indica que es float64. No entiendo porque me dice que no puede convertir desde string.\n"
   ]
  }
 ],
 "metadata": {
  "kernelspec": {
   "display_name": "Python 3",
   "language": "python",
   "name": "python3"
  },
  "language_info": {
   "codemirror_mode": {
    "name": "ipython",
    "version": 3
   },
   "file_extension": ".py",
   "mimetype": "text/x-python",
   "name": "python",
   "nbconvert_exporter": "python",
   "pygments_lexer": "ipython3",
   "version": "3.8.0"
  },
  "toc": {
   "base_numbering": 1,
   "nav_menu": {},
   "number_sections": true,
   "sideBar": true,
   "skip_h1_title": false,
   "title_cell": "Table of Contents",
   "title_sidebar": "Contents",
   "toc_cell": false,
   "toc_position": {},
   "toc_section_display": true,
   "toc_window_display": false
  },
  "varInspector": {
   "cols": {
    "lenName": 16,
    "lenType": 16,
    "lenVar": 40
   },
   "kernels_config": {
    "python": {
     "delete_cmd_postfix": "",
     "delete_cmd_prefix": "del ",
     "library": "var_list.py",
     "varRefreshCmd": "print(var_dic_list())"
    },
    "r": {
     "delete_cmd_postfix": ") ",
     "delete_cmd_prefix": "rm(",
     "library": "var_list.r",
     "varRefreshCmd": "cat(var_dic_list()) "
    }
   },
   "types_to_exclude": [
    "module",
    "function",
    "builtin_function_or_method",
    "instance",
    "_Feature"
   ],
   "window_display": false
  }
 },
 "nbformat": 4,
 "nbformat_minor": 2
}
