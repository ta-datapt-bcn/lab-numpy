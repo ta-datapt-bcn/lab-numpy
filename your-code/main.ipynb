{
 "cells": [
  {
   "cell_type": "code",
   "execution_count": 4,
   "metadata": {
    "ExecuteTime": {
     "end_time": "2020-01-22T18:42:56.946320Z",
     "start_time": "2020-01-22T18:42:56.930539Z"
    }
   },
   "outputs": [],
   "source": [
    "from IPython.core.interactiveshell import InteractiveShell\n",
    "InteractiveShell.ast_node_interactivity = \"all\""
   ]
  },
  {
   "cell_type": "markdown",
   "metadata": {},
   "source": [
    "# Intrduction to NumPy\n",
    "\n",
    "\n",
    "#### 1. Import NumPy under the name np."
   ]
  },
  {
   "cell_type": "code",
   "execution_count": 5,
   "metadata": {
    "ExecuteTime": {
     "end_time": "2020-01-22T18:42:57.783279Z",
     "start_time": "2020-01-22T18:42:57.521300Z"
    }
   },
   "outputs": [],
   "source": [
    "# your code here\n",
    "import numpy as np"
   ]
  },
  {
   "cell_type": "markdown",
   "metadata": {},
   "source": [
    "#### 2. Print your NumPy version."
   ]
  },
  {
   "cell_type": "code",
   "execution_count": 8,
   "metadata": {
    "ExecuteTime": {
     "end_time": "2020-01-22T18:43:45.887501Z",
     "start_time": "2020-01-22T18:43:45.881986Z"
    }
   },
   "outputs": [
    {
     "data": {
      "text/plain": [
       "'1.17.4'"
      ]
     },
     "execution_count": 8,
     "metadata": {},
     "output_type": "execute_result"
    }
   ],
   "source": [
    "# your code here\n",
    "np.version.version"
   ]
  },
  {
   "cell_type": "markdown",
   "metadata": {},
   "source": [
    "#### 3. Generate a 2x3x5 3-dimensional array with random values. Assign the array to variable *a*.\n",
    "**Challenge**: there are at least three easy ways that use numpy to generate random arrays. How many ways can you find?"
   ]
  },
  {
   "cell_type": "code",
   "execution_count": 18,
   "metadata": {
    "ExecuteTime": {
     "end_time": "2020-01-22T18:49:39.276998Z",
     "start_time": "2020-01-22T18:49:39.270805Z"
    }
   },
   "outputs": [
    {
     "name": "stdout",
     "output_type": "stream",
     "text": [
      "[[[0.07929771 0.98465016 0.55760834 0.25093112 0.98898993]\n",
      "  [0.53899574 0.61753057 0.6921061  0.23668187 0.7921209 ]\n",
      "  [0.31454251 0.78667226 0.41396666 0.40840653 0.17402584]]\n",
      "\n",
      " [[0.26897995 0.26539128 0.32765379 0.93686523 0.86008989]\n",
      "  [0.50449452 0.36260011 0.70015601 0.49701694 0.93441008]\n",
      "  [0.32715568 0.70930469 0.47004171 0.21444193 0.7489525 ]]]\n"
     ]
    }
   ],
   "source": [
    "# Method 1\n",
    "a = np.random.random((2,3,5))\n",
    "print(a)"
   ]
  },
  {
   "cell_type": "code",
   "execution_count": 19,
   "metadata": {
    "ExecuteTime": {
     "end_time": "2020-01-22T18:49:48.134740Z",
     "start_time": "2020-01-22T18:49:48.128913Z"
    }
   },
   "outputs": [
    {
     "name": "stdout",
     "output_type": "stream",
     "text": [
      "[[[0.07929771 0.98465016 0.55760834 0.25093112 0.98898993]\n",
      "  [0.53899574 0.61753057 0.6921061  0.23668187 0.7921209 ]\n",
      "  [0.31454251 0.78667226 0.41396666 0.40840653 0.17402584]]\n",
      "\n",
      " [[0.26897995 0.26539128 0.32765379 0.93686523 0.86008989]\n",
      "  [0.50449452 0.36260011 0.70015601 0.49701694 0.93441008]\n",
      "  [0.32715568 0.70930469 0.47004171 0.21444193 0.7489525 ]]]\n"
     ]
    }
   ],
   "source": [
    "# Method 2\n",
    "b = np.array(a) \n",
    "print(b)"
   ]
  },
  {
   "cell_type": "code",
   "execution_count": 21,
   "metadata": {
    "ExecuteTime": {
     "end_time": "2020-01-22T18:50:10.541602Z",
     "start_time": "2020-01-22T18:50:10.533956Z"
    }
   },
   "outputs": [
    {
     "name": "stdout",
     "output_type": "stream",
     "text": [
      "[[[0. 0. 0. 0. 0.]\n",
      "  [0. 0. 0. 0. 0.]\n",
      "  [0. 0. 0. 0. 0.]]\n",
      "\n",
      " [[0. 0. 0. 0. 0.]\n",
      "  [0. 0. 0. 0. 0.]\n",
      "  [0. 0. 0. 0. 0.]]]\n",
      "[[[1. 1. 1. 1. 1.]\n",
      "  [1. 1. 1. 1. 1.]\n",
      "  [1. 1. 1. 1. 1.]]\n",
      "\n",
      " [[1. 1. 1. 1. 1.]\n",
      "  [1. 1. 1. 1. 1.]\n",
      "  [1. 1. 1. 1. 1.]]]\n",
      "[[[2 2 2 2 2]\n",
      "  [2 2 2 2 2]\n",
      "  [2 2 2 2 2]]\n",
      "\n",
      " [[2 2 2 2 2]\n",
      "  [2 2 2 2 2]\n",
      "  [2 2 2 2 2]]]\n"
     ]
    }
   ],
   "source": [
    "# Method 3\n",
    "print(np.zeros((2,3,5)))\n",
    "print(np.ones((2,3,5)))\n",
    "print(np.full((2,3,5), 2))"
   ]
  },
  {
   "cell_type": "markdown",
   "metadata": {},
   "source": [
    "#### 4. Print *a*.\n"
   ]
  },
  {
   "cell_type": "code",
   "execution_count": 22,
   "metadata": {
    "ExecuteTime": {
     "end_time": "2020-01-22T18:50:27.635010Z",
     "start_time": "2020-01-22T18:50:27.630031Z"
    }
   },
   "outputs": [
    {
     "name": "stdout",
     "output_type": "stream",
     "text": [
      "[[[0.07929771 0.98465016 0.55760834 0.25093112 0.98898993]\n",
      "  [0.53899574 0.61753057 0.6921061  0.23668187 0.7921209 ]\n",
      "  [0.31454251 0.78667226 0.41396666 0.40840653 0.17402584]]\n",
      "\n",
      " [[0.26897995 0.26539128 0.32765379 0.93686523 0.86008989]\n",
      "  [0.50449452 0.36260011 0.70015601 0.49701694 0.93441008]\n",
      "  [0.32715568 0.70930469 0.47004171 0.21444193 0.7489525 ]]]\n"
     ]
    }
   ],
   "source": [
    "# your code here\n",
    "print(a)"
   ]
  },
  {
   "cell_type": "markdown",
   "metadata": {},
   "source": [
    "#### 5. Create a 5x2x3 3-dimensional array with all values equaling 1. Assign the array to variable *b*."
   ]
  },
  {
   "cell_type": "code",
   "execution_count": 66,
   "metadata": {
    "ExecuteTime": {
     "end_time": "2020-01-22T18:57:14.283392Z",
     "start_time": "2020-01-22T18:57:14.279175Z"
    }
   },
   "outputs": [],
   "source": [
    "# your code here\n",
    "b = np.ones((5,3,2))"
   ]
  },
  {
   "cell_type": "markdown",
   "metadata": {},
   "source": [
    "#### 6. Print *b*.\n"
   ]
  },
  {
   "cell_type": "code",
   "execution_count": 67,
   "metadata": {
    "ExecuteTime": {
     "end_time": "2020-01-22T18:57:15.044646Z",
     "start_time": "2020-01-22T18:57:15.039309Z"
    }
   },
   "outputs": [
    {
     "name": "stdout",
     "output_type": "stream",
     "text": [
      "[[[1. 1.]\n",
      "  [1. 1.]\n",
      "  [1. 1.]]\n",
      "\n",
      " [[1. 1.]\n",
      "  [1. 1.]\n",
      "  [1. 1.]]\n",
      "\n",
      " [[1. 1.]\n",
      "  [1. 1.]\n",
      "  [1. 1.]]\n",
      "\n",
      " [[1. 1.]\n",
      "  [1. 1.]\n",
      "  [1. 1.]]\n",
      "\n",
      " [[1. 1.]\n",
      "  [1. 1.]\n",
      "  [1. 1.]]]\n"
     ]
    }
   ],
   "source": [
    "# your code here\n",
    "print(b)"
   ]
  },
  {
   "cell_type": "markdown",
   "metadata": {},
   "source": [
    "#### 7. Do *a* and *b* have the same size? How do you prove that in Python code?"
   ]
  },
  {
   "cell_type": "code",
   "execution_count": 68,
   "metadata": {
    "ExecuteTime": {
     "end_time": "2020-01-22T18:57:16.120652Z",
     "start_time": "2020-01-22T18:57:16.109655Z"
    }
   },
   "outputs": [
    {
     "name": "stdout",
     "output_type": "stream",
     "text": [
      "True\n"
     ]
    }
   ],
   "source": [
    "# your code here\n",
    "if np.size(a) == b.size:\n",
    "    print(True)\n",
    "else:\n",
    "    print(False)"
   ]
  },
  {
   "cell_type": "markdown",
   "metadata": {},
   "source": [
    "#### 8. Are you able to add *a* and *b*? Why or why not?\n"
   ]
  },
  {
   "cell_type": "code",
   "execution_count": 147,
   "metadata": {
    "ExecuteTime": {
     "end_time": "2020-01-25T08:13:22.885958Z",
     "start_time": "2020-01-25T08:13:22.836485Z"
    }
   },
   "outputs": [
    {
     "ename": "ValueError",
     "evalue": "operands could not be broadcast together with shapes (2,3,5) (5,3,2) ",
     "output_type": "error",
     "traceback": [
      "\u001b[0;31m---------------------------------------------------------------------------\u001b[0m",
      "\u001b[0;31mValueError\u001b[0m                                Traceback (most recent call last)",
      "\u001b[0;32m<ipython-input-147-267569ddc7f4>\u001b[0m in \u001b[0;36m<module>\u001b[0;34m\u001b[0m\n\u001b[1;32m      1\u001b[0m \u001b[0;31m# your answer here\u001b[0m\u001b[0;34m\u001b[0m\u001b[0;34m\u001b[0m\u001b[0;34m\u001b[0m\u001b[0m\n\u001b[1;32m      2\u001b[0m \u001b[0;31m#we can't add them because they aren't the same size\u001b[0m\u001b[0;34m\u001b[0m\u001b[0;34m\u001b[0m\u001b[0;34m\u001b[0m\u001b[0m\n\u001b[0;32m----> 3\u001b[0;31m \u001b[0mprint\u001b[0m\u001b[0;34m(\u001b[0m\u001b[0mnp\u001b[0m\u001b[0;34m.\u001b[0m\u001b[0madd\u001b[0m\u001b[0;34m(\u001b[0m\u001b[0ma\u001b[0m\u001b[0;34m,\u001b[0m \u001b[0mb\u001b[0m\u001b[0;34m)\u001b[0m\u001b[0;34m)\u001b[0m\u001b[0;34m\u001b[0m\u001b[0;34m\u001b[0m\u001b[0m\n\u001b[0m",
      "\u001b[0;31mValueError\u001b[0m: operands could not be broadcast together with shapes (2,3,5) (5,3,2) "
     ]
    }
   ],
   "source": [
    "# your answer here\n",
    "#we can't add them because they aren't the same size\n",
    "print(np.add(a, b))"
   ]
  },
  {
   "cell_type": "markdown",
   "metadata": {},
   "source": [
    "#### 9. Transpose *b* so that it has the same structure of *a* (i.e. become a 2x3x5 array). Assign the transposed array to variable *c*."
   ]
  },
  {
   "cell_type": "code",
   "execution_count": 70,
   "metadata": {
    "ExecuteTime": {
     "end_time": "2020-01-22T18:57:23.641746Z",
     "start_time": "2020-01-22T18:57:23.630682Z"
    }
   },
   "outputs": [
    {
     "name": "stdout",
     "output_type": "stream",
     "text": [
      "[[[1. 1. 1. 1. 1.]\n",
      "  [1. 1. 1. 1. 1.]\n",
      "  [1. 1. 1. 1. 1.]]\n",
      "\n",
      " [[1. 1. 1. 1. 1.]\n",
      "  [1. 1. 1. 1. 1.]\n",
      "  [1. 1. 1. 1. 1.]]]\n"
     ]
    },
    {
     "data": {
      "text/plain": [
       "(2, 3, 5)"
      ]
     },
     "execution_count": 70,
     "metadata": {},
     "output_type": "execute_result"
    },
    {
     "data": {
      "text/plain": [
       "(2, 3, 5)"
      ]
     },
     "execution_count": 70,
     "metadata": {},
     "output_type": "execute_result"
    }
   ],
   "source": [
    "# your code \n",
    "c = np.transpose(b)\n",
    "print(c)\n",
    "c.shape\n",
    "a.shape"
   ]
  },
  {
   "cell_type": "markdown",
   "metadata": {},
   "source": [
    "#### 10. Try to add *a* and *c*. Now it should work. Assign the sum to variable *d*. But why does it work now?"
   ]
  },
  {
   "cell_type": "code",
   "execution_count": 73,
   "metadata": {
    "ExecuteTime": {
     "end_time": "2020-01-22T18:57:49.236625Z",
     "start_time": "2020-01-22T18:57:49.233039Z"
    }
   },
   "outputs": [],
   "source": [
    "# your code/answer here\n",
    "d = np.add(a, c)"
   ]
  },
  {
   "cell_type": "markdown",
   "metadata": {},
   "source": [
    "#### 11. Print *a* and *d*. Notice the difference and relation of the two array in terms of the values? Explain."
   ]
  },
  {
   "cell_type": "code",
   "execution_count": 75,
   "metadata": {
    "ExecuteTime": {
     "end_time": "2020-01-22T18:58:03.479031Z",
     "start_time": "2020-01-22T18:58:03.470646Z"
    }
   },
   "outputs": [
    {
     "data": {
      "text/plain": [
       "array([[[0.07929771, 0.98465016, 0.55760834, 0.25093112, 0.98898993],\n",
       "        [0.53899574, 0.61753057, 0.6921061 , 0.23668187, 0.7921209 ],\n",
       "        [0.31454251, 0.78667226, 0.41396666, 0.40840653, 0.17402584]],\n",
       "\n",
       "       [[0.26897995, 0.26539128, 0.32765379, 0.93686523, 0.86008989],\n",
       "        [0.50449452, 0.36260011, 0.70015601, 0.49701694, 0.93441008],\n",
       "        [0.32715568, 0.70930469, 0.47004171, 0.21444193, 0.7489525 ]]])"
      ]
     },
     "execution_count": 75,
     "metadata": {},
     "output_type": "execute_result"
    },
    {
     "name": "stdout",
     "output_type": "stream",
     "text": [
      "[[[1.07929771 1.98465016 1.55760834 1.25093112 1.98898993]\n",
      "  [1.53899574 1.61753057 1.6921061  1.23668187 1.7921209 ]\n",
      "  [1.31454251 1.78667226 1.41396666 1.40840653 1.17402584]]\n",
      "\n",
      " [[1.26897995 1.26539128 1.32765379 1.93686523 1.86008989]\n",
      "  [1.50449452 1.36260011 1.70015601 1.49701694 1.93441008]\n",
      "  [1.32715568 1.70930469 1.47004171 1.21444193 1.7489525 ]]]\n"
     ]
    }
   ],
   "source": [
    "# your code/answer here ... it's random a + 1\n",
    "print(a)\n",
    "print(d)"
   ]
  },
  {
   "cell_type": "markdown",
   "metadata": {},
   "source": [
    "#### 12. Multiply *a* and *c*. Assign the result to *e*."
   ]
  },
  {
   "cell_type": "code",
   "execution_count": 77,
   "metadata": {
    "ExecuteTime": {
     "end_time": "2020-01-22T18:59:19.994417Z",
     "start_time": "2020-01-22T18:59:19.986123Z"
    }
   },
   "outputs": [
    {
     "data": {
      "text/plain": [
       "array([[[0.07929771, 0.98465016, 0.55760834, 0.25093112, 0.98898993],\n",
       "        [0.53899574, 0.61753057, 0.6921061 , 0.23668187, 0.7921209 ],\n",
       "        [0.31454251, 0.78667226, 0.41396666, 0.40840653, 0.17402584]],\n",
       "\n",
       "       [[0.26897995, 0.26539128, 0.32765379, 0.93686523, 0.86008989],\n",
       "        [0.50449452, 0.36260011, 0.70015601, 0.49701694, 0.93441008],\n",
       "        [0.32715568, 0.70930469, 0.47004171, 0.21444193, 0.7489525 ]]])"
      ]
     },
     "execution_count": 77,
     "metadata": {},
     "output_type": "execute_result"
    }
   ],
   "source": [
    "# your code here\n",
    "e = np.multiply(a, c)"
   ]
  },
  {
   "cell_type": "markdown",
   "metadata": {},
   "source": [
    "#### 13. Does *e* equal to *a*? Why or why not?\n"
   ]
  },
  {
   "cell_type": "code",
   "execution_count": 78,
   "metadata": {
    "ExecuteTime": {
     "end_time": "2020-01-22T18:59:42.230010Z",
     "start_time": "2020-01-22T18:59:42.226445Z"
    }
   },
   "outputs": [],
   "source": [
    "# your code/answer here... c = 1.. a = a * 1"
   ]
  },
  {
   "cell_type": "markdown",
   "metadata": {},
   "source": [
    "#### 14. Identify the max, min, and mean values in *d*. Assign those values to variables *d_max*, *d_min* and *d_mean*."
   ]
  },
  {
   "cell_type": "code",
   "execution_count": 83,
   "metadata": {
    "ExecuteTime": {
     "end_time": "2020-01-22T19:00:51.243530Z",
     "start_time": "2020-01-22T19:00:51.225698Z"
    }
   },
   "outputs": [],
   "source": [
    "# your code here\n",
    "d_max = d.max()\n",
    "d_min = d.min()\n",
    "d_mean = d.mean()"
   ]
  },
  {
   "cell_type": "markdown",
   "metadata": {},
   "source": [
    "#### 15. Now we want to label the values in *d*. First create an empty array *f* with the same shape (i.e. 2x3x5) as *d* using `np.empty`.\n"
   ]
  },
  {
   "cell_type": "code",
   "execution_count": 89,
   "metadata": {
    "ExecuteTime": {
     "end_time": "2020-01-22T19:02:51.914603Z",
     "start_time": "2020-01-22T19:02:51.910614Z"
    }
   },
   "outputs": [],
   "source": [
    "# your code here\n",
    "f = np.empty([2, 3, 5])"
   ]
  },
  {
   "cell_type": "markdown",
   "metadata": {},
   "source": [
    "#### 16. Populate the values in *f*. \n",
    "\n",
    "For each value in *d*, if it's larger than *d_min* but smaller than *d_mean*, assign 25 to the corresponding value in *f*. If a value in *d* is larger than *d_mean* but smaller than *d_max*, assign 75 to the corresponding value in *f*. If a value equals to *d_mean*, assign 50 to the corresponding value in *f*. Assign 0 to the corresponding value(s) in *f* for *d_min* in *d*. Assign 100 to the corresponding value(s) in *f* for *d_max* in *d*. In the end, f should have only the following values: 0, 25, 50, 75, and 100.\n",
    "\n",
    "**Note**: you don't have to use Numpy in this question."
   ]
  },
  {
   "cell_type": "code",
   "execution_count": 145,
   "metadata": {
    "ExecuteTime": {
     "end_time": "2020-01-25T08:12:50.463104Z",
     "start_time": "2020-01-25T08:12:50.378655Z"
    }
   },
   "outputs": [],
   "source": [
    "def xxx(array):\n",
    "    for y in range(len(array)):\n",
    "        for x in range(len(array[y])):\n",
    "            for z in range(len(array[y][x])):\n",
    "                if d_mean > array[y][x][z] > d_min:\n",
    "                    f[y][x][z] = 25\n",
    "                elif d_max > array[y][x][z] > d_mean:\n",
    "                    f[y][x][z] = 75\n",
    "                elif array[y][x][z] == d_mean:\n",
    "                    f[y][x][z] = 50\n",
    "                elif array[y][x][z] == d_min:\n",
    "                    f[y][x][z] = 0\n",
    "                elif array[y][x][z] == d_max:\n",
    "                    f[y][x][z] = 100\n",
    "    return f\n",
    "f = np.empty([2, 3, 5])\n",
    "d = np.array([[[1.85836099, 1.67064465, 1.62576044, 1.40243961, 1.88454931],\n",
    "[1.75354326, 1.69403643, 1.36729252, 1.61415071, 1.12104981],\n",
    "[1.72201435, 1.1862918 , 1.87078449, 1.7726778 , 1.88180042]],\n",
    "[[1.44747908, 1.31673383, 1.02000951, 1.52218947, 1.97066381],\n",
    "[1.79129243, 1.74983003, 1.96028037, 1.85166831, 1.65450881],\n",
    "[1.18068344, 1.9587381 , 1.00656599, 1.93402165, 1.73514584]]])\n",
    "d_max = d.max()\n",
    "d_min = d.min()\n",
    "d_mean = d.mean()"
   ]
  },
  {
   "cell_type": "markdown",
   "metadata": {},
   "source": [
    "#### 17. Print *d* and *f*. Do you have your expected *f*?\n",
    "For instance, if your *d* is:\n",
    "```python\n",
    "[[[1.85836099, 1.67064465, 1.62576044, 1.40243961, 1.88454931],\n",
    "[1.75354326, 1.69403643, 1.36729252, 1.61415071, 1.12104981],\n",
    "[1.72201435, 1.1862918 , 1.87078449, 1.7726778 , 1.88180042]],\n",
    "[[1.44747908, 1.31673383, 1.02000951, 1.52218947, 1.97066381],\n",
    "[1.79129243, 1.74983003, 1.96028037, 1.85166831, 1.65450881],\n",
    "[1.18068344, 1.9587381 , 1.00656599, 1.93402165, 1.73514584]]]\n",
    "```\n",
    "Your *f* should be:\n",
    "```python\n",
    "[[[ 75.,  75.,  75.,  25.,  75.],\n",
    "[ 75.,  75.,  25.,  25.,  25.],\n",
    "[ 75.,  25.,  75.,  75.,  75.]],\n",
    "[[ 25.,  25.,  25.,  25., 100.],\n",
    "[ 75.,  75.,  75.,  75.,  75.],\n",
    "[ 25.,  75.,   0.,  75.,  75.]]]\n",
    "```"
   ]
  },
  {
   "cell_type": "code",
   "execution_count": 146,
   "metadata": {
    "ExecuteTime": {
     "end_time": "2020-01-25T08:12:56.868588Z",
     "start_time": "2020-01-25T08:12:56.858385Z"
    }
   },
   "outputs": [
    {
     "name": "stdout",
     "output_type": "stream",
     "text": [
      "[[[ 75.  75.  75.  25.  75.]\n",
      "  [ 75.  75.  25.  25.  25.]\n",
      "  [ 75.  25.  75.  75.  75.]]\n",
      "\n",
      " [[ 25.  25.  25.  25. 100.]\n",
      "  [ 75.  75.  75.  75.  75.]\n",
      "  [ 25.  75.   0.  75.  75.]]]\n"
     ]
    }
   ],
   "source": [
    "# your code here\n",
    "print(xxx(d))"
   ]
  },
  {
   "cell_type": "markdown",
   "metadata": {},
   "source": [
    "#### 18. Bonus question: instead of using numbers (i.e. 0, 25, 50, 75, and 100), use string values  (\"A\", \"B\", \"C\", \"D\", and \"E\") to label the array elements. For the example above, the expected result is:\n",
    "\n",
    "```python\n",
    "[[[ 'D',  'D',  'D',  'B',  'D'],\n",
    "[ 'D',  'D',  'B',  'B',  'B'],\n",
    "[ 'D',  'B',  'D',  'D',  'D']],\n",
    "[[ 'B',  'B',  'B',  'B',  'E'],\n",
    "[ 'D',  'D',  'D',  'D',  'D'],\n",
    "[ 'B',  'D',   'A',  'D', 'D']]]\n",
    "```\n",
    "**Note**: you don't have to use Numpy in this question."
   ]
  },
  {
   "cell_type": "code",
   "execution_count": 143,
   "metadata": {
    "ExecuteTime": {
     "end_time": "2020-01-24T17:23:09.932887Z",
     "start_time": "2020-01-24T17:23:09.921826Z"
    }
   },
   "outputs": [],
   "source": [
    "# your code here\n",
    "def xxx(array):\n",
    "    for y in range(len(array)):\n",
    "        for x in range(len(array[y])):\n",
    "            for z in range(len(array[y][x])):\n",
    "                if d_mean > array[y][x][z] > d_min:\n",
    "                    f[y][x][z] = \"B\"\n",
    "                elif d_max > array[y][x][z] > d_mean:\n",
    "                    f[y][x][z] = \"D\"\n",
    "                elif array[y][x][z] == d_mean:\n",
    "                    f[y][x][z] = \"C\"\n",
    "                elif array[y][x][z] == d_min:\n",
    "                    f[y][x][z] = \"A\"\n",
    "                elif array[y][x][z] == d_max:\n",
    "                    f[y][x][z] = \"E\"\n",
    "    return f"
   ]
  },
  {
   "cell_type": "code",
   "execution_count": 144,
   "metadata": {
    "ExecuteTime": {
     "end_time": "2020-01-24T17:23:10.543463Z",
     "start_time": "2020-01-24T17:23:10.537742Z"
    }
   },
   "outputs": [
    {
     "name": "stdout",
     "output_type": "stream",
     "text": [
      "[[['D' 'D' 'D' 'B' 'D']\n",
      "  ['D' 'D' 'B' 'B' 'B']\n",
      "  ['D' 'B' 'D' 'D' 'D']]\n",
      "\n",
      " [['B' 'B' 'B' 'B' 'E']\n",
      "  ['D' 'D' 'D' 'D' 'D']\n",
      "  ['B' 'D' 'A' 'D' 'D']]]\n"
     ]
    }
   ],
   "source": [
    "f = np.empty([2, 3, 5], dtype = str ) \n",
    "print(xxx(d))"
   ]
  },
  {
   "cell_type": "code",
   "execution_count": null,
   "metadata": {},
   "outputs": [],
   "source": []
  }
 ],
 "metadata": {
  "kernelspec": {
   "display_name": "Python 3",
   "language": "python",
   "name": "python3"
  },
  "language_info": {
   "codemirror_mode": {
    "name": "ipython",
    "version": 3
   },
   "file_extension": ".py",
   "mimetype": "text/x-python",
   "name": "python",
   "nbconvert_exporter": "python",
   "pygments_lexer": "ipython3",
   "version": "3.7.5"
  }
 },
 "nbformat": 4,
 "nbformat_minor": 2
}
