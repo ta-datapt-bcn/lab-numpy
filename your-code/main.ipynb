{
 "cells": [
  {
   "cell_type": "markdown",
   "metadata": {},
   "source": [
    "# Intrduction to NumPy\n",
    "\n",
    "\n",
    "#### 1. Import NumPy under the name np."
   ]
  },
  {
   "cell_type": "code",
   "execution_count": 1,
   "metadata": {},
   "outputs": [],
   "source": [
    "# your code here\n",
    "import numpy as np"
   ]
  },
  {
   "cell_type": "markdown",
   "metadata": {},
   "source": [
    "#### 2. Print your NumPy version."
   ]
  },
  {
   "cell_type": "code",
   "execution_count": 2,
   "metadata": {},
   "outputs": [
    {
     "data": {
      "text/plain": [
       "'1.16.5'"
      ]
     },
     "execution_count": 2,
     "metadata": {},
     "output_type": "execute_result"
    }
   ],
   "source": [
    "# your code here\n",
    "np.version.version"
   ]
  },
  {
   "cell_type": "markdown",
   "metadata": {},
   "source": [
    "#### 3. Generate a 2x3x5 3-dimensional array with random values. Assign the array to variable *a*.\n",
    "**Challenge**: there are at least three easy ways that use numpy to generate random arrays. How many ways can you find?"
   ]
  },
  {
   "cell_type": "code",
   "execution_count": 7,
   "metadata": {},
   "outputs": [
    {
     "data": {
      "text/plain": [
       "array([[[0.25337112, 0.43529172, 0.21960268, 0.91619944, 0.65044147],\n",
       "        [0.34331553, 0.64744952, 0.48783694, 0.77798332, 0.03071858],\n",
       "        [0.27940933, 0.17281608, 0.07294435, 0.87943474, 0.69486075]],\n",
       "\n",
       "       [[0.94492577, 0.37304138, 0.06470798, 0.6511091 , 0.76015556],\n",
       "        [0.89247379, 0.34662719, 0.13481407, 0.85695184, 0.21487786],\n",
       "        [0.10687237, 0.56607192, 0.08050354, 0.5875455 , 0.25248449]]])"
      ]
     },
     "execution_count": 7,
     "metadata": {},
     "output_type": "execute_result"
    }
   ],
   "source": [
    "# Method 1\n",
    "a = np.random.rand(2,3,5)\n",
    "a"
   ]
  },
  {
   "cell_type": "code",
   "execution_count": 8,
   "metadata": {},
   "outputs": [
    {
     "data": {
      "text/plain": [
       "array([[[0.6560362 , 0.41546026, 0.25893093, 0.95523374, 0.60286842],\n",
       "        [0.48546471, 0.1640636 , 0.96078189, 0.50489893, 0.86750946],\n",
       "        [0.30778606, 0.89602537, 0.62208772, 0.42865074, 0.10179769]],\n",
       "\n",
       "       [[0.13695146, 0.52968149, 0.07810297, 0.43882939, 0.61847273],\n",
       "        [0.6568384 , 0.64683084, 0.31249458, 0.62538995, 0.78987802],\n",
       "        [0.2657642 , 0.61240587, 0.58477687, 0.4030445 , 0.17044751]]])"
      ]
     },
     "execution_count": 8,
     "metadata": {},
     "output_type": "execute_result"
    }
   ],
   "source": [
    "# Method 2\n",
    "a1 = np.random.random_sample((2,3,5))\n",
    "a1"
   ]
  },
  {
   "cell_type": "code",
   "execution_count": 9,
   "metadata": {},
   "outputs": [
    {
     "data": {
      "text/plain": [
       "array([[[0.6560362 , 0.41546026, 0.25893093, 0.95523374, 0.60286842],\n",
       "        [0.48546471, 0.1640636 , 0.96078189, 0.50489893, 0.86750946],\n",
       "        [0.30778606, 0.89602537, 0.62208772, 0.42865074, 0.10179769]],\n",
       "\n",
       "       [[0.13695146, 0.52968149, 0.07810297, 0.43882939, 0.61847273],\n",
       "        [0.6568384 , 0.64683084, 0.31249458, 0.62538995, 0.78987802],\n",
       "        [0.2657642 , 0.61240587, 0.58477687, 0.4030445 , 0.17044751]]])"
      ]
     },
     "execution_count": 9,
     "metadata": {},
     "output_type": "execute_result"
    }
   ],
   "source": [
    "# Method 3\n",
    "a2 = np.empty(shape=(2,3,5), dtype=float)\n",
    "a2"
   ]
  },
  {
   "cell_type": "code",
   "execution_count": 10,
   "metadata": {},
   "outputs": [
    {
     "data": {
      "text/plain": [
       "array([[[-1.25252867, -0.17439691, -0.10298595,  0.29581594,\n",
       "          0.61152035],\n",
       "        [ 0.72758467, -1.3778674 , -0.29891502, -2.10725117,\n",
       "         -0.14147039],\n",
       "        [ 2.02864975,  1.0506193 , -0.52630549,  0.18809631,\n",
       "          0.45211596]],\n",
       "\n",
       "       [[ 0.01550451,  1.77554232,  0.09662217, -0.21835299,\n",
       "          0.85204245],\n",
       "        [ 1.6535337 , -0.66971078, -0.01793358, -0.4557716 ,\n",
       "         -2.57448129],\n",
       "        [-0.81544851, -1.62028421, -0.95296578, -0.82976145,\n",
       "          0.46002792]]])"
      ]
     },
     "execution_count": 10,
     "metadata": {},
     "output_type": "execute_result"
    }
   ],
   "source": [
    "# Extra method\n",
    "a3 = np.random.randn(2,3,5)\n",
    "a3"
   ]
  },
  {
   "cell_type": "markdown",
   "metadata": {},
   "source": [
    "#### 4. Print *a*.\n"
   ]
  },
  {
   "cell_type": "code",
   "execution_count": 12,
   "metadata": {},
   "outputs": [
    {
     "name": "stdout",
     "output_type": "stream",
     "text": [
      "np.array a is: [[[0.25337112 0.43529172 0.21960268 0.91619944 0.65044147]\n",
      "  [0.34331553 0.64744952 0.48783694 0.77798332 0.03071858]\n",
      "  [0.27940933 0.17281608 0.07294435 0.87943474 0.69486075]]\n",
      "\n",
      " [[0.94492577 0.37304138 0.06470798 0.6511091  0.76015556]\n",
      "  [0.89247379 0.34662719 0.13481407 0.85695184 0.21487786]\n",
      "  [0.10687237 0.56607192 0.08050354 0.5875455  0.25248449]]]\n"
     ]
    }
   ],
   "source": [
    "# your code here\n",
    "print(f'np.array a is: {a}')"
   ]
  },
  {
   "cell_type": "markdown",
   "metadata": {},
   "source": [
    "#### 5. Create a 5x2x3 3-dimensional array with all values equaling 1. Assign the array to variable *b*."
   ]
  },
  {
   "cell_type": "code",
   "execution_count": 13,
   "metadata": {},
   "outputs": [],
   "source": [
    "# your code here\n",
    "b = np.ones((5,2,3))"
   ]
  },
  {
   "cell_type": "markdown",
   "metadata": {},
   "source": [
    "#### 6. Print *b*.\n"
   ]
  },
  {
   "cell_type": "code",
   "execution_count": 14,
   "metadata": {},
   "outputs": [
    {
     "name": "stdout",
     "output_type": "stream",
     "text": [
      "np.array b is: [[[1. 1. 1.]\n",
      "  [1. 1. 1.]]\n",
      "\n",
      " [[1. 1. 1.]\n",
      "  [1. 1. 1.]]\n",
      "\n",
      " [[1. 1. 1.]\n",
      "  [1. 1. 1.]]\n",
      "\n",
      " [[1. 1. 1.]\n",
      "  [1. 1. 1.]]\n",
      "\n",
      " [[1. 1. 1.]\n",
      "  [1. 1. 1.]]]\n"
     ]
    }
   ],
   "source": [
    "# your code here\n",
    "print(f'np.array b is: {b}')"
   ]
  },
  {
   "cell_type": "markdown",
   "metadata": {},
   "source": [
    "#### 7. Do *a* and *b* have the same size? How do you prove that in Python code?"
   ]
  },
  {
   "cell_type": "code",
   "execution_count": 15,
   "metadata": {},
   "outputs": [
    {
     "data": {
      "text/plain": [
       "False"
      ]
     },
     "execution_count": 15,
     "metadata": {},
     "output_type": "execute_result"
    }
   ],
   "source": [
    "# your code here\n",
    "a.shape == b.shape"
   ]
  },
  {
   "cell_type": "markdown",
   "metadata": {},
   "source": [
    "#### 8. Are you able to add *a* and *b*? Why or why not?\n"
   ]
  },
  {
   "cell_type": "code",
   "execution_count": 16,
   "metadata": {},
   "outputs": [
    {
     "ename": "ValueError",
     "evalue": "operands could not be broadcast together with shapes (2,3,5) (5,2,3) ",
     "output_type": "error",
     "traceback": [
      "\u001b[1;31m---------------------------------------------------------------------------\u001b[0m",
      "\u001b[1;31mValueError\u001b[0m                                Traceback (most recent call last)",
      "\u001b[1;32m<ipython-input-16-8fbf79836431>\u001b[0m in \u001b[0;36m<module>\u001b[1;34m\u001b[0m\n\u001b[0;32m      1\u001b[0m \u001b[1;31m# your answer here\u001b[0m\u001b[1;33m\u001b[0m\u001b[1;33m\u001b[0m\u001b[1;33m\u001b[0m\u001b[0m\n\u001b[1;32m----> 2\u001b[1;33m \u001b[0mresult\u001b[0m \u001b[1;33m=\u001b[0m \u001b[0ma\u001b[0m \u001b[1;33m+\u001b[0m \u001b[0mb\u001b[0m\u001b[1;33m\u001b[0m\u001b[1;33m\u001b[0m\u001b[0m\n\u001b[0m\u001b[0;32m      3\u001b[0m \u001b[0mresult\u001b[0m\u001b[1;33m\u001b[0m\u001b[1;33m\u001b[0m\u001b[0m\n",
      "\u001b[1;31mValueError\u001b[0m: operands could not be broadcast together with shapes (2,3,5) (5,2,3) "
     ]
    }
   ],
   "source": [
    "# your answer here\n",
    "result = a + b\n",
    "# It is not possible to sum the arrays because they don't have the same shapes."
   ]
  },
  {
   "cell_type": "markdown",
   "metadata": {},
   "source": [
    "#### 9. Transpose *b* so that it has the same structure of *a* (i.e. become a 2x3x5 array). Assign the transposed array to variable *c*."
   ]
  },
  {
   "cell_type": "code",
   "execution_count": 17,
   "metadata": {},
   "outputs": [
    {
     "data": {
      "text/plain": [
       "array([[[1., 1., 1., 1., 1.],\n",
       "        [1., 1., 1., 1., 1.],\n",
       "        [1., 1., 1., 1., 1.]],\n",
       "\n",
       "       [[1., 1., 1., 1., 1.],\n",
       "        [1., 1., 1., 1., 1.],\n",
       "        [1., 1., 1., 1., 1.]]])"
      ]
     },
     "execution_count": 17,
     "metadata": {},
     "output_type": "execute_result"
    }
   ],
   "source": [
    "# your code here\n",
    "c = np.transpose(b, axes=(1,2,0))\n",
    "c"
   ]
  },
  {
   "cell_type": "markdown",
   "metadata": {},
   "source": [
    "#### 10. Try to add *a* and *c*. Now it should work. Assign the sum to variable *d*. But why does it work now?"
   ]
  },
  {
   "cell_type": "code",
   "execution_count": 19,
   "metadata": {},
   "outputs": [
    {
     "data": {
      "text/plain": [
       "array([[[1.25337112, 1.43529172, 1.21960268, 1.91619944, 1.65044147],\n",
       "        [1.34331553, 1.64744952, 1.48783694, 1.77798332, 1.03071858],\n",
       "        [1.27940933, 1.17281608, 1.07294435, 1.87943474, 1.69486075]],\n",
       "\n",
       "       [[1.94492577, 1.37304138, 1.06470798, 1.6511091 , 1.76015556],\n",
       "        [1.89247379, 1.34662719, 1.13481407, 1.85695184, 1.21487786],\n",
       "        [1.10687237, 1.56607192, 1.08050354, 1.5875455 , 1.25248449]]])"
      ]
     },
     "execution_count": 19,
     "metadata": {},
     "output_type": "execute_result"
    }
   ],
   "source": [
    "# your code/answer here\n",
    "d = a + c\n",
    "d"
   ]
  },
  {
   "cell_type": "markdown",
   "metadata": {},
   "source": [
    "#### 11. Print *a* and *d*. Notice the difference and relation of the two array in terms of the values? Explain."
   ]
  },
  {
   "cell_type": "code",
   "execution_count": 21,
   "metadata": {},
   "outputs": [
    {
     "name": "stdout",
     "output_type": "stream",
     "text": [
      "np.array a is: [[[0.25337112 0.43529172 0.21960268 0.91619944 0.65044147]\n",
      "  [0.34331553 0.64744952 0.48783694 0.77798332 0.03071858]\n",
      "  [0.27940933 0.17281608 0.07294435 0.87943474 0.69486075]]\n",
      "\n",
      " [[0.94492577 0.37304138 0.06470798 0.6511091  0.76015556]\n",
      "  [0.89247379 0.34662719 0.13481407 0.85695184 0.21487786]\n",
      "  [0.10687237 0.56607192 0.08050354 0.5875455  0.25248449]]]\n",
      "np.array d is: [[[1.25337112 1.43529172 1.21960268 1.91619944 1.65044147]\n",
      "  [1.34331553 1.64744952 1.48783694 1.77798332 1.03071858]\n",
      "  [1.27940933 1.17281608 1.07294435 1.87943474 1.69486075]]\n",
      "\n",
      " [[1.94492577 1.37304138 1.06470798 1.6511091  1.76015556]\n",
      "  [1.89247379 1.34662719 1.13481407 1.85695184 1.21487786]\n",
      "  [1.10687237 1.56607192 1.08050354 1.5875455  1.25248449]]]\n"
     ]
    }
   ],
   "source": [
    "# your code/answer here\n",
    "print(f'np.array a is: {a}')\n",
    "print(f'np.array d is: {d}')\n",
    "\n",
    "#every value of d is equal to a+1"
   ]
  },
  {
   "cell_type": "markdown",
   "metadata": {},
   "source": [
    "#### 12. Multiply *a* and *c*. Assign the result to *e*."
   ]
  },
  {
   "cell_type": "code",
   "execution_count": 22,
   "metadata": {},
   "outputs": [
    {
     "name": "stdout",
     "output_type": "stream",
     "text": [
      "np.array e is: [[[0.25337112 0.43529172 0.21960268 0.91619944 0.65044147]\n",
      "  [0.34331553 0.64744952 0.48783694 0.77798332 0.03071858]\n",
      "  [0.27940933 0.17281608 0.07294435 0.87943474 0.69486075]]\n",
      "\n",
      " [[0.94492577 0.37304138 0.06470798 0.6511091  0.76015556]\n",
      "  [0.89247379 0.34662719 0.13481407 0.85695184 0.21487786]\n",
      "  [0.10687237 0.56607192 0.08050354 0.5875455  0.25248449]]]\n"
     ]
    }
   ],
   "source": [
    "# your code here\n",
    "e = a * c\n",
    "\n",
    "print(f'np.array e is: {e}')"
   ]
  },
  {
   "cell_type": "markdown",
   "metadata": {},
   "source": [
    "#### 13. Does *e* equal to *a*? Why or why not?\n"
   ]
  },
  {
   "cell_type": "code",
   "execution_count": 31,
   "metadata": {},
   "outputs": [
    {
     "name": "stdout",
     "output_type": "stream",
     "text": [
      "np.array a is: [[[0.25337112 0.43529172 0.21960268 0.91619944 0.65044147]\n",
      "  [0.34331553 0.64744952 0.48783694 0.77798332 0.03071858]\n",
      "  [0.27940933 0.17281608 0.07294435 0.87943474 0.69486075]]\n",
      "\n",
      " [[0.94492577 0.37304138 0.06470798 0.6511091  0.76015556]\n",
      "  [0.89247379 0.34662719 0.13481407 0.85695184 0.21487786]\n",
      "  [0.10687237 0.56607192 0.08050354 0.5875455  0.25248449]]]\n",
      "np.array e is: [[[0.25337112 0.43529172 0.21960268 0.91619944 0.65044147]\n",
      "  [0.34331553 0.64744952 0.48783694 0.77798332 0.03071858]\n",
      "  [0.27940933 0.17281608 0.07294435 0.87943474 0.69486075]]\n",
      "\n",
      " [[0.94492577 0.37304138 0.06470798 0.6511091  0.76015556]\n",
      "  [0.89247379 0.34662719 0.13481407 0.85695184 0.21487786]\n",
      "  [0.10687237 0.56607192 0.08050354 0.5875455  0.25248449]]]\n"
     ]
    }
   ],
   "source": [
    "# your code/answer here\n",
    "print(f'np.array a is: {a}')\n",
    "print(f'np.array e is: {e}')\n",
    "# a is equal to e because very value in a is multiplied by 1"
   ]
  },
  {
   "cell_type": "markdown",
   "metadata": {},
   "source": [
    "#### 14. Identify the max, min, and mean values in *d*. Assign those values to variables *d_max*, *d_min* and *d_mean*."
   ]
  },
  {
   "cell_type": "code",
   "execution_count": 24,
   "metadata": {},
   "outputs": [
    {
     "data": {
      "text/plain": [
       "1.9449257748886173"
      ]
     },
     "execution_count": 24,
     "metadata": {},
     "output_type": "execute_result"
    }
   ],
   "source": [
    "# your code here\n",
    "d_max = np.max(d)\n",
    "d_max"
   ]
  },
  {
   "cell_type": "code",
   "execution_count": 25,
   "metadata": {},
   "outputs": [
    {
     "data": {
      "text/plain": [
       "1.0307185762815134"
      ]
     },
     "execution_count": 25,
     "metadata": {},
     "output_type": "execute_result"
    }
   ],
   "source": [
    "d_min = np.min(d)\n",
    "d_min"
   ]
  },
  {
   "cell_type": "code",
   "execution_count": 26,
   "metadata": {},
   "outputs": [
    {
     "data": {
      "text/plain": [
       "1.4564945976085006"
      ]
     },
     "execution_count": 26,
     "metadata": {},
     "output_type": "execute_result"
    }
   ],
   "source": [
    "d_mean = np.mean(d)\n",
    "d_mean"
   ]
  },
  {
   "cell_type": "markdown",
   "metadata": {},
   "source": [
    "#### 15. Now we want to label the values in *d*. First create an empty array *f* with the same shape (i.e. 2x3x5) as *d* using `np.empty`.\n"
   ]
  },
  {
   "cell_type": "code",
   "execution_count": 29,
   "metadata": {},
   "outputs": [],
   "source": [
    "# your code here\n",
    "f = np.empty([2,3,5])"
   ]
  },
  {
   "cell_type": "markdown",
   "metadata": {},
   "source": [
    "#### 16. Populate the values in *f*. \n",
    "\n",
    "For each value in *d*, if it's larger than *d_min* but smaller than *d_mean*, assign 25 to the corresponding value in *f*. If a value in *d* is larger than *d_mean* but smaller than *d_max*, assign 75 to the corresponding value in *f*. If a value equals to *d_mean*, assign 50 to the corresponding value in *f*. Assign 0 to the corresponding value(s) in *f* for *d_min* in *d*. Assign 100 to the corresponding value(s) in *f* for *d_max* in *d*. In the end, f should have only the following values: 0, 25, 50, 75, and 100.\n",
    "\n",
    "**Note**: you don't have to use Numpy in this question."
   ]
  },
  {
   "cell_type": "code",
   "execution_count": 34,
   "metadata": {},
   "outputs": [],
   "source": [
    "# your code here\n",
    "f[(d > d_min) & (d < d_mean)] = 25\n",
    "f[(d > d_mean) & (d < d_max)] = 75\n",
    "f[d == d_mean] = 50\n",
    "f[d == d_min] = 0\n",
    "f[d == d_max] = 100"
   ]
  },
  {
   "cell_type": "markdown",
   "metadata": {},
   "source": [
    "#### 17. Print *d* and *f*. Do you have your expected *f*?\n",
    "For instance, if your *d* is:\n",
    "```python\n",
    "[[[1.85836099, 1.67064465, 1.62576044, 1.40243961, 1.88454931],\n",
    "[1.75354326, 1.69403643, 1.36729252, 1.61415071, 1.12104981],\n",
    "[1.72201435, 1.1862918 , 1.87078449, 1.7726778 , 1.88180042]],\n",
    "[[1.44747908, 1.31673383, 1.02000951, 1.52218947, 1.97066381],\n",
    "[1.79129243, 1.74983003, 1.96028037, 1.85166831, 1.65450881],\n",
    "[1.18068344, 1.9587381 , 1.00656599, 1.93402165, 1.73514584]]]\n",
    "```\n",
    "Your *f* should be:\n",
    "```python\n",
    "[[[ 75.,  75.,  75.,  25.,  75.],\n",
    "[ 75.,  75.,  25.,  25.,  25.],\n",
    "[ 75.,  25.,  75.,  75.,  75.]],\n",
    "[[ 25.,  25.,  25.,  25., 100.],\n",
    "[ 75.,  75.,  75.,  75.,  75.],\n",
    "[ 25.,  75.,   0.,  75.,  75.]]]\n",
    "```"
   ]
  },
  {
   "cell_type": "code",
   "execution_count": 35,
   "metadata": {},
   "outputs": [
    {
     "name": "stdout",
     "output_type": "stream",
     "text": [
      "np.array f is: [[[ 25.  25.  25.  75.  75.]\n",
      "  [ 25.  75.  75.  75.   0.]\n",
      "  [ 25.  25.  25.  75.  75.]]\n",
      "\n",
      " [[100.  25.  25.  75.  75.]\n",
      "  [ 75.  25.  25.  75.  25.]\n",
      "  [ 25.  75.  25.  75.  25.]]]\n"
     ]
    }
   ],
   "source": [
    "# your code here\n",
    "print(f'np.array f is: {f}')"
   ]
  },
  {
   "cell_type": "markdown",
   "metadata": {},
   "source": [
    "#### 18. Bonus question: instead of using numbers (i.e. 0, 25, 50, 75, and 100), use string values  (\"A\", \"B\", \"C\", \"D\", and \"E\") to label the array elements. For the example above, the expected result is:\n",
    "\n",
    "```python\n",
    "[[[ 'D',  'D',  'D',  'B',  'D'],\n",
    "[ 'D',  'D',  'B',  'B',  'B'],\n",
    "[ 'D',  'B',  'D',  'D',  'D']],\n",
    "[[ 'B',  'B',  'B',  'B',  'E'],\n",
    "[ 'D',  'D',  'D',  'D',  'D'],\n",
    "[ 'B',  'D',   'A',  'D', 'D']]]\n",
    "```\n",
    "**Note**: you don't have to use Numpy in this question."
   ]
  },
  {
   "cell_type": "code",
   "execution_count": 38,
   "metadata": {},
   "outputs": [],
   "source": [
    "# your code here\n",
    "\n",
    "letters = d.astype(str)\n",
    "letters[(d > d_min) & (d < d_mean)] = \"B\"\n",
    "letters[(d > d_mean) & (d < d_max)] = \"D\"\n",
    "letters[d == d_mean] = \"C\"\n",
    "letters[d == d_min] = \"A\"\n",
    "letters[d == d_max] = \"E\"\n"
   ]
  },
  {
   "cell_type": "code",
   "execution_count": 40,
   "metadata": {},
   "outputs": [
    {
     "name": "stdout",
     "output_type": "stream",
     "text": [
      "The transformed array is: [[['B' 'B' 'B' 'D' 'D']\n",
      "  ['B' 'D' 'D' 'D' 'A']\n",
      "  ['B' 'B' 'B' 'D' 'D']]\n",
      "\n",
      " [['E' 'B' 'B' 'D' 'D']\n",
      "  ['D' 'B' 'B' 'D' 'B']\n",
      "  ['B' 'D' 'B' 'D' 'B']]]\n"
     ]
    }
   ],
   "source": [
    "print(f'The transformed array is: {letters}')"
   ]
  },
  {
   "cell_type": "code",
   "execution_count": null,
   "metadata": {},
   "outputs": [],
   "source": []
  }
 ],
 "metadata": {
  "kernelspec": {
   "display_name": "Python 3",
   "language": "python",
   "name": "python3"
  },
  "language_info": {
   "codemirror_mode": {
    "name": "ipython",
    "version": 3
   },
   "file_extension": ".py",
   "mimetype": "text/x-python",
   "name": "python",
   "nbconvert_exporter": "python",
   "pygments_lexer": "ipython3",
   "version": "3.7.4"
  }
 },
 "nbformat": 4,
 "nbformat_minor": 2
}
