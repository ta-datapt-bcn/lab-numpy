{
 "cells": [
  {
   "cell_type": "markdown",
   "metadata": {},
   "source": [
    "# Intrduction to NumPy\n",
    "\n",
    "\n",
    "#### 1. Import NumPy under the name np."
   ]
  },
  {
   "cell_type": "code",
   "execution_count": 75,
   "metadata": {},
   "outputs": [],
   "source": [
    "# your code here\n",
    "\n",
    "import numpy as np"
   ]
  },
  {
   "cell_type": "markdown",
   "metadata": {},
   "source": [
    "#### 2. Print your NumPy version."
   ]
  },
  {
   "cell_type": "code",
   "execution_count": 76,
   "metadata": {},
   "outputs": [
    {
     "data": {
      "text/plain": [
       "'1.17.4'"
      ]
     },
     "execution_count": 76,
     "metadata": {},
     "output_type": "execute_result"
    }
   ],
   "source": [
    "# your code here\n",
    "\n",
    "np.version.version"
   ]
  },
  {
   "cell_type": "markdown",
   "metadata": {},
   "source": [
    "#### 3. Generate a 2x3x5 3-dimensional array with random values. Assign the array to variable *a*.\n",
    "**Challenge**: there are at least three easy ways that use numpy to generate random arrays. How many ways can you find?"
   ]
  },
  {
   "cell_type": "code",
   "execution_count": 77,
   "metadata": {},
   "outputs": [],
   "source": [
    "# Method 1\n",
    "\n",
    "a = np.zeros((2,3,5))"
   ]
  },
  {
   "cell_type": "code",
   "execution_count": 78,
   "metadata": {},
   "outputs": [
    {
     "name": "stdout",
     "output_type": "stream",
     "text": [
      "[[[0.12532103 0.98995293 0.15133425 0.09339042 0.88215894]\n",
      "  [0.07956828 0.77410045 0.40922965 0.80557533 0.62781973]\n",
      "  [0.2870458  0.18934345 0.68264005 0.3263454  0.38326642]]\n",
      "\n",
      " [[0.72156077 0.53296202 0.31161659 0.19377363 0.37741574]\n",
      "  [0.83477165 0.22837669 0.14157125 0.91852826 0.149235  ]\n",
      "  [0.56829226 0.75921457 0.36835628 0.45769648 0.2978517 ]]]\n"
     ]
    }
   ],
   "source": [
    "# Method 2\n",
    "\n",
    "a = np.random.random((2,3,5))\n",
    "\n",
    "b = np.array(a)\n",
    "\n",
    "print(b)"
   ]
  },
  {
   "cell_type": "code",
   "execution_count": 79,
   "metadata": {},
   "outputs": [],
   "source": [
    "# Method 3\n",
    "\n",
    "a = np.random.random((2,3,5))"
   ]
  },
  {
   "cell_type": "markdown",
   "metadata": {},
   "source": [
    "#### 4. Print *a*.\n"
   ]
  },
  {
   "cell_type": "code",
   "execution_count": 80,
   "metadata": {},
   "outputs": [
    {
     "name": "stdout",
     "output_type": "stream",
     "text": [
      "[[[0.15929141 0.93008629 0.67409274 0.04932686 0.02366843]\n",
      "  [0.96070536 0.96794842 0.94978144 0.05847438 0.88072725]\n",
      "  [0.89470037 0.49649442 0.75751886 0.4939472  0.10490941]]\n",
      "\n",
      " [[0.85394423 0.59093231 0.35181266 0.02128838 0.93850498]\n",
      "  [0.92756713 0.1788818  0.4008104  0.82141698 0.72837354]\n",
      "  [0.82792946 0.66433236 0.49122496 0.60434131 0.68934344]]]\n"
     ]
    }
   ],
   "source": [
    "# your code here\n",
    "print(a)"
   ]
  },
  {
   "cell_type": "markdown",
   "metadata": {},
   "source": [
    "#### 5. Create a 5x2x3 3-dimensional array with all values equaling 1. Assign the array to variable *b*."
   ]
  },
  {
   "cell_type": "code",
   "execution_count": 81,
   "metadata": {},
   "outputs": [],
   "source": [
    "# your code here\n",
    "\n",
    "# Shouldn't it be (5,3,2) so we can add them in the exercise 10 after transposing? \n",
    "\n",
    "b = np.ones((5,3,2))"
   ]
  },
  {
   "cell_type": "markdown",
   "metadata": {},
   "source": [
    "#### 6. Print *b*.\n"
   ]
  },
  {
   "cell_type": "code",
   "execution_count": 82,
   "metadata": {},
   "outputs": [
    {
     "name": "stdout",
     "output_type": "stream",
     "text": [
      "[[[1. 1.]\n",
      "  [1. 1.]\n",
      "  [1. 1.]]\n",
      "\n",
      " [[1. 1.]\n",
      "  [1. 1.]\n",
      "  [1. 1.]]\n",
      "\n",
      " [[1. 1.]\n",
      "  [1. 1.]\n",
      "  [1. 1.]]\n",
      "\n",
      " [[1. 1.]\n",
      "  [1. 1.]\n",
      "  [1. 1.]]\n",
      "\n",
      " [[1. 1.]\n",
      "  [1. 1.]\n",
      "  [1. 1.]]]\n"
     ]
    }
   ],
   "source": [
    "# your code here\n",
    "\n",
    "print(b)"
   ]
  },
  {
   "cell_type": "markdown",
   "metadata": {},
   "source": [
    "#### 7. Do *a* and *b* have the same size? How do you prove that in Python code?"
   ]
  },
  {
   "cell_type": "code",
   "execution_count": 83,
   "metadata": {},
   "outputs": [
    {
     "data": {
      "text/plain": [
       "True"
      ]
     },
     "execution_count": 83,
     "metadata": {},
     "output_type": "execute_result"
    }
   ],
   "source": [
    "# your code here\n",
    "\n",
    "np.size(a) == np.size(b)"
   ]
  },
  {
   "cell_type": "markdown",
   "metadata": {},
   "source": [
    "#### 8. Are you able to add *a* and *b*? Why or why not?\n"
   ]
  },
  {
   "cell_type": "code",
   "execution_count": 84,
   "metadata": {},
   "outputs": [
    {
     "ename": "ValueError",
     "evalue": "operands could not be broadcast together with shapes (2,3,5) (5,3,2) ",
     "output_type": "error",
     "traceback": [
      "\u001b[0;31m---------------------------------------------------------------------------\u001b[0m",
      "\u001b[0;31mValueError\u001b[0m                                Traceback (most recent call last)",
      "\u001b[0;32m<ipython-input-84-34f504f82bd5>\u001b[0m in \u001b[0;36m<module>\u001b[0;34m\u001b[0m\n\u001b[1;32m      1\u001b[0m \u001b[0;31m# your answer here\u001b[0m\u001b[0;34m\u001b[0m\u001b[0;34m\u001b[0m\u001b[0;34m\u001b[0m\u001b[0m\n\u001b[1;32m      2\u001b[0m \u001b[0;34m\u001b[0m\u001b[0m\n\u001b[0;32m----> 3\u001b[0;31m \u001b[0mnp\u001b[0m\u001b[0;34m.\u001b[0m\u001b[0madd\u001b[0m\u001b[0;34m(\u001b[0m\u001b[0ma\u001b[0m\u001b[0;34m,\u001b[0m\u001b[0mb\u001b[0m\u001b[0;34m)\u001b[0m\u001b[0;34m\u001b[0m\u001b[0;34m\u001b[0m\u001b[0m\n\u001b[0m\u001b[1;32m      4\u001b[0m \u001b[0;34m\u001b[0m\u001b[0m\n\u001b[1;32m      5\u001b[0m '''\n",
      "\u001b[0;31mValueError\u001b[0m: operands could not be broadcast together with shapes (2,3,5) (5,3,2) "
     ]
    }
   ],
   "source": [
    "# your answer here\n",
    "\n",
    "np.add(a,b) \n",
    "\n",
    "'''\n",
    "The operation is only possible (doesnt result in shape mismatch error) in three cases:\n",
    "\n",
    "- The arrays all have exactly the same shape.\n",
    "- The arrays all have the same number of dimensions and the length of each dimensions is either a common length or 1.\n",
    "- The arrays that have too few dimensions can have their shapes prepended with a dimension of length 1 to satisfy property 2.\n",
    "\n",
    "Even though a and b have the same dimensions, the length of each dimensions is not a common length nor 1.\n",
    "'''"
   ]
  },
  {
   "cell_type": "markdown",
   "metadata": {},
   "source": [
    "#### 9. Transpose *b* so that it has the same structure of *a* (i.e. become a 2x3x5 array). Assign the transposed array to variable *c*."
   ]
  },
  {
   "cell_type": "code",
   "execution_count": 85,
   "metadata": {},
   "outputs": [],
   "source": [
    "# your code here\n",
    "\n",
    "c = np.transpose(b)"
   ]
  },
  {
   "cell_type": "code",
   "execution_count": 86,
   "metadata": {},
   "outputs": [
    {
     "data": {
      "text/plain": [
       "(2, 3, 5)"
      ]
     },
     "execution_count": 86,
     "metadata": {},
     "output_type": "execute_result"
    }
   ],
   "source": [
    "c.shape"
   ]
  },
  {
   "cell_type": "code",
   "execution_count": 87,
   "metadata": {},
   "outputs": [
    {
     "data": {
      "text/plain": [
       "(2, 3, 5)"
      ]
     },
     "execution_count": 87,
     "metadata": {},
     "output_type": "execute_result"
    }
   ],
   "source": [
    "a.shape"
   ]
  },
  {
   "cell_type": "markdown",
   "metadata": {},
   "source": [
    "#### 10. Try to add *a* and *c*. Now it should work. Assign the sum to variable *d*. But why does it work now?"
   ]
  },
  {
   "cell_type": "code",
   "execution_count": 92,
   "metadata": {},
   "outputs": [
    {
     "data": {
      "text/plain": [
       "array([[[1.15929141, 1.93008629, 1.67409274, 1.04932686, 1.02366843],\n",
       "        [1.96070536, 1.96794842, 1.94978144, 1.05847438, 1.88072725],\n",
       "        [1.89470037, 1.49649442, 1.75751886, 1.4939472 , 1.10490941]],\n",
       "\n",
       "       [[1.85394423, 1.59093231, 1.35181266, 1.02128838, 1.93850498],\n",
       "        [1.92756713, 1.1788818 , 1.4008104 , 1.82141698, 1.72837354],\n",
       "        [1.82792946, 1.66433236, 1.49122496, 1.60434131, 1.68934344]]])"
      ]
     },
     "execution_count": 92,
     "metadata": {},
     "output_type": "execute_result"
    }
   ],
   "source": [
    "# your code/answer here\n",
    "\n",
    "'''\n",
    "Both arrays have the same structure so the operation is possbile\n",
    "'''\n",
    "\n",
    "d = np.add(a,c)\n",
    "d"
   ]
  },
  {
   "cell_type": "markdown",
   "metadata": {},
   "source": [
    "#### 11. Print *a* and *d*. Notice the difference and relation of the two array in terms of the values? Explain."
   ]
  },
  {
   "cell_type": "code",
   "execution_count": 93,
   "metadata": {},
   "outputs": [
    {
     "data": {
      "text/plain": [
       "(2, 3, 5)"
      ]
     },
     "execution_count": 93,
     "metadata": {},
     "output_type": "execute_result"
    }
   ],
   "source": [
    "np.shape(d)"
   ]
  },
  {
   "cell_type": "code",
   "execution_count": 94,
   "metadata": {},
   "outputs": [
    {
     "data": {
      "text/plain": [
       "array([[[1.31858281, 2.86017258, 2.34818549, 1.09865372, 1.04733686],\n",
       "        [2.92141071, 2.93589684, 2.89956289, 1.11694876, 2.7614545 ],\n",
       "        [2.78940075, 1.99298884, 2.51503771, 1.98789439, 1.20981883]],\n",
       "\n",
       "       [[2.70788846, 2.18186461, 1.70362532, 1.04257675, 2.87700997],\n",
       "        [2.85513425, 1.35776359, 1.80162081, 2.64283395, 2.45674707],\n",
       "        [2.65585892, 2.32866472, 1.98244992, 2.20868262, 2.37868689]]])"
      ]
     },
     "execution_count": 94,
     "metadata": {},
     "output_type": "execute_result"
    }
   ],
   "source": [
    "# your code/answer here\n",
    "\n",
    "np.add(a,d)"
   ]
  },
  {
   "cell_type": "markdown",
   "metadata": {},
   "source": [
    "#### 12. Multiply *a* and *c*. Assign the result to *e*."
   ]
  },
  {
   "cell_type": "code",
   "execution_count": 95,
   "metadata": {},
   "outputs": [
    {
     "data": {
      "text/plain": [
       "array([[[0.15929141, 0.93008629, 0.67409274, 0.04932686, 0.02366843],\n",
       "        [0.96070536, 0.96794842, 0.94978144, 0.05847438, 0.88072725],\n",
       "        [0.89470037, 0.49649442, 0.75751886, 0.4939472 , 0.10490941]],\n",
       "\n",
       "       [[0.85394423, 0.59093231, 0.35181266, 0.02128838, 0.93850498],\n",
       "        [0.92756713, 0.1788818 , 0.4008104 , 0.82141698, 0.72837354],\n",
       "        [0.82792946, 0.66433236, 0.49122496, 0.60434131, 0.68934344]]])"
      ]
     },
     "execution_count": 95,
     "metadata": {},
     "output_type": "execute_result"
    }
   ],
   "source": [
    "# your code here\n",
    "\n",
    "e = np.multiply(a,c)\n",
    "e"
   ]
  },
  {
   "cell_type": "markdown",
   "metadata": {},
   "source": [
    "#### 13. Does *e* equal to *a*? Why or why not?\n"
   ]
  },
  {
   "cell_type": "code",
   "execution_count": 97,
   "metadata": {},
   "outputs": [
    {
     "data": {
      "text/plain": [
       "array([[[ True,  True,  True,  True,  True],\n",
       "        [ True,  True,  True,  True,  True],\n",
       "        [ True,  True,  True,  True,  True]],\n",
       "\n",
       "       [[ True,  True,  True,  True,  True],\n",
       "        [ True,  True,  True,  True,  True],\n",
       "        [ True,  True,  True,  True,  True]]])"
      ]
     },
     "execution_count": 97,
     "metadata": {},
     "output_type": "execute_result"
    }
   ],
   "source": [
    "# your code/answer here\n",
    "\n",
    "'''\n",
    "Since c is an array composed by all ones, the multiplication of a for c returns an equivalent array\n",
    "'''\n",
    "\n",
    "e == a"
   ]
  },
  {
   "cell_type": "markdown",
   "metadata": {},
   "source": [
    "#### 14. Identify the max, min, and mean values in *d*. Assign those values to variables *d_max*, *d_min* and *d_mean*."
   ]
  },
  {
   "cell_type": "code",
   "execution_count": 98,
   "metadata": {},
   "outputs": [
    {
     "name": "stdout",
     "output_type": "stream",
     "text": [
      "The max value of d is 1.9679484202354238\n",
      "The min value of d is 1.021288377162748\n",
      "The mean value of d is 1.5830792259403599\n"
     ]
    }
   ],
   "source": [
    "# your code here\n",
    "\n",
    "d_max = np.max(d)\n",
    "print(f'The max value of d is {d_max}')\n",
    "\n",
    "d_min = np.min(d)\n",
    "print(f'The min value of d is {d_min}')\n",
    "\n",
    "d_mean = np.mean(d)\n",
    "print(f'The mean value of d is {d_mean}')"
   ]
  },
  {
   "cell_type": "markdown",
   "metadata": {},
   "source": [
    "#### 15. Now we want to label the values in *d*. First create an empty array *f* with the same shape (i.e. 2x3x5) as *d* using `np.empty`.\n"
   ]
  },
  {
   "cell_type": "code",
   "execution_count": 99,
   "metadata": {},
   "outputs": [
    {
     "data": {
      "text/plain": [
       "array([[[0.15929141, 0.93008629, 0.67409274, 0.04932686, 0.02366843],\n",
       "        [0.96070536, 0.96794842, 0.94978144, 0.05847438, 0.88072725],\n",
       "        [0.89470037, 0.49649442, 0.75751886, 0.4939472 , 0.10490941]],\n",
       "\n",
       "       [[0.85394423, 0.59093231, 0.35181266, 0.02128838, 0.93850498],\n",
       "        [0.92756713, 0.1788818 , 0.4008104 , 0.82141698, 0.72837354],\n",
       "        [0.82792946, 0.66433236, 0.49122496, 0.60434131, 0.68934344]]])"
      ]
     },
     "execution_count": 99,
     "metadata": {},
     "output_type": "execute_result"
    }
   ],
   "source": [
    "# your code here\n",
    "\n",
    "f = np.empty([2,3,5])\n",
    "f"
   ]
  },
  {
   "cell_type": "markdown",
   "metadata": {},
   "source": [
    "#### 16. Populate the values in *f*. \n",
    "\n",
    "For each value in *d*, if it's larger than *d_min* but smaller than *d_mean*, assign 25 to the corresponding value in *f*. If a value in *d* is larger than *d_mean* but smaller than *d_max*, assign 75 to the corresponding value in *f*. If a value equals to *d_mean*, assign 50 to the corresponding value in *f*. Assign 0 to the corresponding value(s) in *f* for *d_min* in *d*. Assign 100 to the corresponding value(s) in *f* for *d_max* in *d*. In the end, f should have only the following values: 0, 25, 50, 75, and 100.\n",
    "\n",
    "**Note**: you don't have to use Numpy in this question."
   ]
  },
  {
   "cell_type": "code",
   "execution_count": 101,
   "metadata": {},
   "outputs": [
    {
     "name": "stdout",
     "output_type": "stream",
     "text": [
      "[[[ 25.  75.  75.  25.  25.]\n",
      "  [ 75. 100.  75.  25.  75.]\n",
      "  [ 75.  25.  75.  25.  25.]]\n",
      "\n",
      " [[ 75.  75.  25.   0.  75.]\n",
      "  [ 75.  25.  25.  75.  75.]\n",
      "  [ 75.  75.  25.  75.  75.]]]\n"
     ]
    }
   ],
   "source": [
    "# your code here\n",
    "\n",
    "def populate(d):\n",
    "\n",
    "    for i in range(len(d)):\n",
    "        \n",
    "        for j in range(len(d[i])):\n",
    "            \n",
    "            for k in range(len(d[i][j])):\n",
    "                \n",
    "                x = d[i][j][k]\n",
    "                if x > d_min and x < d_mean:\n",
    "                    '''\n",
    "                     if it's larger than d_min but smaller than d_mean, assign 25\n",
    "                     '''\n",
    "                    f[i][j][k] = 25      \n",
    "                elif x > d_mean and x < d_max:\n",
    "                    '''\n",
    "                    if it's larger than d_mean but smaller than d_max, assign 75 \n",
    "                    '''\n",
    "                    f[i][j][k] = 75\n",
    "                elif x == d_mean:\n",
    "                    '''\n",
    "                    if it's equals to d_mean, assign 50 \n",
    "                    '''\n",
    "                    f[i][j][k] = 50\n",
    "                elif x == d_min:\n",
    "                    '''\n",
    "                    assign 0 to the corresponding value(s) in f for d_min \n",
    "                    '''\n",
    "                    f[i][j][k] = 0\n",
    "                else: \n",
    "                    '''\n",
    "                    assign 100 to the corresponding value(s) in f for d_max in d\n",
    "                    '''\n",
    "                    f[i][j][k] = 100\n",
    "    return f\n",
    "\n",
    "print(populate(d))"
   ]
  },
  {
   "cell_type": "markdown",
   "metadata": {},
   "source": [
    "#### 17. Print *d* and *f*. Do you have your expected *f*?\n",
    "For instance, if your *d* is:\n",
    "```python\n",
    "[[[1.85836099, 1.67064465, 1.62576044, 1.40243961, 1.88454931],\n",
    "[1.75354326, 1.69403643, 1.36729252, 1.61415071, 1.12104981],\n",
    "[1.72201435, 1.1862918 , 1.87078449, 1.7726778 , 1.88180042]],\n",
    "[[1.44747908, 1.31673383, 1.02000951, 1.52218947, 1.97066381],\n",
    "[1.79129243, 1.74983003, 1.96028037, 1.85166831, 1.65450881],\n",
    "[1.18068344, 1.9587381 , 1.00656599, 1.93402165, 1.73514584]]]\n",
    "```\n",
    "Your *f* should be:\n",
    "```python\n",
    "[[[ 75.,  75.,  75.,  25.,  75.],\n",
    "[ 75.,  75.,  25.,  25.,  25.],\n",
    "[ 75.,  25.,  75.,  75.,  75.]],\n",
    "[[ 25.,  25.,  25.,  25., 100.],\n",
    "[ 75.,  75.,  75.,  75.,  75.],\n",
    "[ 25.,  75.,   0.,  75.,  75.]]]\n",
    "```"
   ]
  },
  {
   "cell_type": "code",
   "execution_count": 103,
   "metadata": {},
   "outputs": [
    {
     "name": "stdout",
     "output_type": "stream",
     "text": [
      "[[[ 25.  75.  75.  25.  25.]\n",
      "  [ 75. 100.  75.  25.  75.]\n",
      "  [ 75.  25.  75.  25.  25.]]\n",
      "\n",
      " [[ 75.  75.  25.   0.  75.]\n",
      "  [ 75.  25.  25.  75.  75.]\n",
      "  [ 75.  75.  25.  75.  75.]]]\n"
     ]
    }
   ],
   "source": [
    "# your code here\n",
    "\n",
    "print(f)"
   ]
  },
  {
   "cell_type": "markdown",
   "metadata": {},
   "source": [
    "#### 18. Bonus question: instead of using numbers (i.e. 0, 25, 50, 75, and 100), use string values  (\"A\", \"B\", \"C\", \"D\", and \"E\") to label the array elements. For the example above, the expected result is:\n",
    "\n",
    "```python\n",
    "[[[ 'D',  'D',  'D',  'B',  'D'],\n",
    "[ 'D',  'D',  'B',  'B',  'B'],\n",
    "[ 'D',  'B',  'D',  'D',  'D']],\n",
    "[[ 'B',  'B',  'B',  'B',  'E'],\n",
    "[ 'D',  'D',  'D',  'D',  'D'],\n",
    "[ 'B',  'D',   'A',  'D', 'D']]]\n",
    "```\n",
    "**Note**: you don't have to use Numpy in this question."
   ]
  },
  {
   "cell_type": "code",
   "execution_count": 107,
   "metadata": {},
   "outputs": [],
   "source": [
    "# your code here\n",
    "\n",
    "def populate(d):\n",
    "\n",
    "    for i in range(len(d)):\n",
    "        \n",
    "        for j in range(len(d[i])):\n",
    "            \n",
    "            for k in range(len(d[i][j])):\n",
    "                \n",
    "                x = d[i][j][k]\n",
    "                if x > d_min and x < d_mean:\n",
    "                    '''\n",
    "                     if to assign 25 = B\n",
    "                     '''\n",
    "                    f[i][j][k] = B      \n",
    "                elif x > d_mean and x < d_max:\n",
    "                    '''\n",
    "                    if to assign 75 = D\n",
    "                    '''\n",
    "                    f[i][j][k] = D\n",
    "                elif x == d_mean:\n",
    "                    '''\n",
    "                    if to assign 50 = C\n",
    "                    '''\n",
    "                    f[i][j][k] = C\n",
    "                elif x == d_min:\n",
    "                    '''\n",
    "                    if to assign 0 = A \n",
    "                    '''\n",
    "                    f[i][j][k] = A\n",
    "                else: \n",
    "                    '''\n",
    "                    if to assign 100 = E\n",
    "                    '''\n",
    "                    f[i][j][k] = E\n",
    "    return f"
   ]
  }
 ],
 "metadata": {
  "kernelspec": {
   "display_name": "Python 3",
   "language": "python",
   "name": "python3"
  },
  "language_info": {
   "codemirror_mode": {
    "name": "ipython",
    "version": 3
   },
   "file_extension": ".py",
   "mimetype": "text/x-python",
   "name": "python",
   "nbconvert_exporter": "python",
   "pygments_lexer": "ipython3",
   "version": "3.7.5"
  }
 },
 "nbformat": 4,
 "nbformat_minor": 2
}
