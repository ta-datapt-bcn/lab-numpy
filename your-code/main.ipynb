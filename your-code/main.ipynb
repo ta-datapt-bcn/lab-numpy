{
 "cells": [
  {
   "cell_type": "markdown",
   "metadata": {},
   "source": [
    "# Intrduction to NumPy\n",
    "\n",
    "\n",
    "#### 1. Import NumPy under the name np."
   ]
  },
  {
   "cell_type": "code",
   "execution_count": 1,
   "metadata": {
    "ExecuteTime": {
     "end_time": "2020-01-22T12:18:28.654747Z",
     "start_time": "2020-01-22T12:18:28.649759Z"
    }
   },
   "outputs": [],
   "source": [
    "# your code here\n",
    "import numpy as np"
   ]
  },
  {
   "cell_type": "markdown",
   "metadata": {},
   "source": [
    "#### 2. Print your NumPy version."
   ]
  },
  {
   "cell_type": "code",
   "execution_count": 2,
   "metadata": {
    "ExecuteTime": {
     "end_time": "2020-01-22T12:18:29.398798Z",
     "start_time": "2020-01-22T12:18:29.378851Z"
    }
   },
   "outputs": [
    {
     "data": {
      "text/plain": [
       "'1.16.5'"
      ]
     },
     "execution_count": 2,
     "metadata": {},
     "output_type": "execute_result"
    }
   ],
   "source": [
    "# your code here\n",
    "np.version.version"
   ]
  },
  {
   "cell_type": "markdown",
   "metadata": {},
   "source": [
    "#### 3. Generate a 2x3x5 3-dimensional array with random values. Assign the array to variable *a*.\n",
    "**Challenge**: there are at least three easy ways that use numpy to generate random arrays. How many ways can you find?"
   ]
  },
  {
   "cell_type": "code",
   "execution_count": 3,
   "metadata": {
    "ExecuteTime": {
     "end_time": "2020-01-22T12:18:30.137211Z",
     "start_time": "2020-01-22T12:18:30.131230Z"
    }
   },
   "outputs": [
    {
     "name": "stdout",
     "output_type": "stream",
     "text": [
      "[[[0.27541678 0.72457167 0.83903072 0.12500636 0.15634535]\n",
      "  [0.71327345 0.70944182 0.99926794 0.8552511  0.44824109]\n",
      "  [0.87980515 0.58049082 0.11290801 0.51390935 0.30020199]]\n",
      "\n",
      " [[0.35669122 0.73318703 0.78425101 0.29590872 0.67078351]\n",
      "  [0.7953285  0.24042286 0.15838169 0.50962518 0.97610681]\n",
      "  [0.72281839 0.82514224 0.44269705 0.2720306  0.77945736]]]\n"
     ]
    }
   ],
   "source": [
    "# Method 1\n",
    "a = np.random.random((2,3,5))\n",
    "print(a)"
   ]
  },
  {
   "cell_type": "code",
   "execution_count": 4,
   "metadata": {
    "ExecuteTime": {
     "end_time": "2020-01-22T12:18:30.612983Z",
     "start_time": "2020-01-22T12:18:30.607000Z"
    }
   },
   "outputs": [
    {
     "name": "stdout",
     "output_type": "stream",
     "text": [
      "[[[0.14994729 0.77107476 0.83011959 0.3720137  0.64264477]\n",
      "  [0.54358261 0.25265682 0.18703612 0.66785964 0.32592139]\n",
      "  [0.02244905 0.51089713 0.6490647  0.60015992 0.80409599]]\n",
      "\n",
      " [[0.53330137 0.25759266 0.16090102 0.95150858 0.74787174]\n",
      "  [0.08497834 0.36447035 0.49880268 0.91168048 0.32828948]\n",
      "  [0.86812292 0.26034901 0.52495216 0.84685682 0.60333264]]]\n"
     ]
    }
   ],
   "source": [
    "# Method 2\n",
    "a = np.random.rand(2,3,5)\n",
    "print(a)"
   ]
  },
  {
   "cell_type": "code",
   "execution_count": 5,
   "metadata": {
    "ExecuteTime": {
     "end_time": "2020-01-22T12:18:31.068762Z",
     "start_time": "2020-01-22T12:18:31.061782Z"
    }
   },
   "outputs": [
    {
     "name": "stdout",
     "output_type": "stream",
     "text": [
      "[[[4 4 0 2 9]\n",
      "  [1 5 4 9 1]\n",
      "  [8 3 2 6 9]]\n",
      "\n",
      " [[0 9 3 9 6]\n",
      "  [6 4 7 8 6]\n",
      "  [3 8 7 9 4]]]\n"
     ]
    }
   ],
   "source": [
    "# Method 3\n",
    "a = np.random.randint(10,size=(2,3,5))\n",
    "print(a)"
   ]
  },
  {
   "cell_type": "markdown",
   "metadata": {},
   "source": [
    "#### 4. Print *a*.\n"
   ]
  },
  {
   "cell_type": "code",
   "execution_count": 6,
   "metadata": {
    "ExecuteTime": {
     "end_time": "2020-01-22T12:18:31.683365Z",
     "start_time": "2020-01-22T12:18:31.679388Z"
    }
   },
   "outputs": [],
   "source": [
    "# your code here"
   ]
  },
  {
   "cell_type": "markdown",
   "metadata": {},
   "source": [
    "#### 5. Create a 5x2x3 3-dimensional array with all values equaling 1. Assign the array to variable *b*."
   ]
  },
  {
   "cell_type": "code",
   "execution_count": 7,
   "metadata": {
    "ExecuteTime": {
     "end_time": "2020-01-22T12:18:32.379525Z",
     "start_time": "2020-01-22T12:18:32.374539Z"
    }
   },
   "outputs": [],
   "source": [
    "# your code here\n",
    "b = np.ones((5,2,3))\n"
   ]
  },
  {
   "cell_type": "markdown",
   "metadata": {},
   "source": [
    "#### 6. Print *b*.\n"
   ]
  },
  {
   "cell_type": "code",
   "execution_count": 8,
   "metadata": {
    "ExecuteTime": {
     "end_time": "2020-01-22T12:18:32.842243Z",
     "start_time": "2020-01-22T12:18:32.837256Z"
    }
   },
   "outputs": [
    {
     "name": "stdout",
     "output_type": "stream",
     "text": [
      "[[[1. 1. 1.]\n",
      "  [1. 1. 1.]]\n",
      "\n",
      " [[1. 1. 1.]\n",
      "  [1. 1. 1.]]\n",
      "\n",
      " [[1. 1. 1.]\n",
      "  [1. 1. 1.]]\n",
      "\n",
      " [[1. 1. 1.]\n",
      "  [1. 1. 1.]]\n",
      "\n",
      " [[1. 1. 1.]\n",
      "  [1. 1. 1.]]]\n"
     ]
    }
   ],
   "source": [
    "# your code here\n",
    "print(b)"
   ]
  },
  {
   "cell_type": "markdown",
   "metadata": {},
   "source": [
    "#### 7. Do *a* and *b* have the same size? How do you prove that in Python code?"
   ]
  },
  {
   "cell_type": "code",
   "execution_count": 9,
   "metadata": {
    "ExecuteTime": {
     "end_time": "2020-01-22T12:18:33.294022Z",
     "start_time": "2020-01-22T12:18:33.289036Z"
    }
   },
   "outputs": [
    {
     "name": "stdout",
     "output_type": "stream",
     "text": [
      "True\n",
      "False\n"
     ]
    }
   ],
   "source": [
    "# your code here\n",
    "print(a.size == b.size)\n",
    "print(a.shape == b.shape)"
   ]
  },
  {
   "cell_type": "markdown",
   "metadata": {},
   "source": [
    "#### 8. Are you able to add *a* and *b*? Why or why not?\n"
   ]
  },
  {
   "cell_type": "code",
   "execution_count": 10,
   "metadata": {
    "ExecuteTime": {
     "end_time": "2020-01-22T12:18:33.803504Z",
     "start_time": "2020-01-22T12:18:33.729672Z"
    }
   },
   "outputs": [
    {
     "ename": "ValueError",
     "evalue": "operands could not be broadcast together with shapes (2,3,5) (5,2,3) ",
     "output_type": "error",
     "traceback": [
      "\u001b[1;31m---------------------------------------------------------------------------\u001b[0m",
      "\u001b[1;31mValueError\u001b[0m                                Traceback (most recent call last)",
      "\u001b[1;32m<ipython-input-10-3a287df984bd>\u001b[0m in \u001b[0;36m<module>\u001b[1;34m\u001b[0m\n\u001b[0;32m      3\u001b[0m \u001b[0mNo\u001b[0m \u001b[0mse\u001b[0m \u001b[0mpueden\u001b[0m \u001b[0msumar\u001b[0m \u001b[0mporque\u001b[0m \u001b[0maunque\u001b[0m \u001b[0mtengan\u001b[0m \u001b[0mel\u001b[0m \u001b[0mmismo\u001b[0m \u001b[0mnumero\u001b[0m \u001b[0mde\u001b[0m \u001b[0melementos\u001b[0m\u001b[1;33m,\u001b[0m\u001b[1;33m\u001b[0m\u001b[1;33m\u001b[0m\u001b[0m\n\u001b[0;32m      4\u001b[0m las dimensiones de las matrices son diferentes\"\"\"\n\u001b[1;32m----> 5\u001b[1;33m \u001b[0ma\u001b[0m \u001b[1;33m+\u001b[0m \u001b[0mb\u001b[0m\u001b[1;33m\u001b[0m\u001b[1;33m\u001b[0m\u001b[0m\n\u001b[0m",
      "\u001b[1;31mValueError\u001b[0m: operands could not be broadcast together with shapes (2,3,5) (5,2,3) "
     ]
    }
   ],
   "source": [
    "# your answer here\n",
    "\"\"\"\n",
    "No se pueden sumar porque aunque tengan el mismo numero de elementos,\n",
    "las dimensiones de las matrices son diferentes\"\"\"\n",
    "a + b"
   ]
  },
  {
   "cell_type": "markdown",
   "metadata": {},
   "source": [
    "#### 9. Transpose *b* so that it has the same structure of *a* (i.e. become a 2x3x5 array). Assign the transposed array to variable *c*."
   ]
  },
  {
   "cell_type": "code",
   "execution_count": 11,
   "metadata": {
    "ExecuteTime": {
     "end_time": "2020-01-22T12:18:34.310886Z",
     "start_time": "2020-01-22T12:18:34.302909Z"
    }
   },
   "outputs": [
    {
     "name": "stdout",
     "output_type": "stream",
     "text": [
      "(2, 3, 5)\n",
      "(2, 3, 5)\n"
     ]
    }
   ],
   "source": [
    "# your code here\n",
    "c = np.transpose(b,(1,2,0))\n",
    "print(c.shape)\n",
    "c = np.reshape(b, (2,3,5))\n",
    "print(c.shape)"
   ]
  },
  {
   "cell_type": "markdown",
   "metadata": {},
   "source": [
    "#### 10. Try to add *a* and *c*. Now it should work. Assign the sum to variable *d*. But why does it work now?"
   ]
  },
  {
   "cell_type": "code",
   "execution_count": 12,
   "metadata": {
    "ExecuteTime": {
     "end_time": "2020-01-22T12:18:34.834486Z",
     "start_time": "2020-01-22T12:18:34.826507Z"
    }
   },
   "outputs": [
    {
     "name": "stdout",
     "output_type": "stream",
     "text": [
      "[[[ 5.  5.  1.  3. 10.]\n",
      "  [ 2.  6.  5. 10.  2.]\n",
      "  [ 9.  4.  3.  7. 10.]]\n",
      "\n",
      " [[ 1. 10.  4. 10.  7.]\n",
      "  [ 7.  5.  8.  9.  7.]\n",
      "  [ 4.  9.  8. 10.  5.]]]\n"
     ]
    }
   ],
   "source": [
    "# your code/answer here\n",
    "d = np.add(a,c)\n",
    "d = a + c\n",
    "print(d)"
   ]
  },
  {
   "cell_type": "markdown",
   "metadata": {},
   "source": [
    "#### 11. Print *a* and *d*. Notice the difference and relation of the two array in terms of the values? Explain."
   ]
  },
  {
   "cell_type": "code",
   "execution_count": 13,
   "metadata": {
    "ExecuteTime": {
     "end_time": "2020-01-22T12:18:35.455824Z",
     "start_time": "2020-01-22T12:18:35.444853Z"
    }
   },
   "outputs": [
    {
     "name": "stdout",
     "output_type": "stream",
     "text": [
      "[[[4 4 0 2 9]\n",
      "  [1 5 4 9 1]\n",
      "  [8 3 2 6 9]]\n",
      "\n",
      " [[0 9 3 9 6]\n",
      "  [6 4 7 8 6]\n",
      "  [3 8 7 9 4]]]\n",
      "[[[ 5.  5.  1.  3. 10.]\n",
      "  [ 2.  6.  5. 10.  2.]\n",
      "  [ 9.  4.  3.  7. 10.]]\n",
      "\n",
      " [[ 1. 10.  4. 10.  7.]\n",
      "  [ 7.  5.  8.  9.  7.]\n",
      "  [ 4.  9.  8. 10.  5.]]]\n"
     ]
    },
    {
     "data": {
      "text/plain": [
       "'\\nSuma 1 a todos los elementos de a.\\n'"
      ]
     },
     "execution_count": 13,
     "metadata": {},
     "output_type": "execute_result"
    }
   ],
   "source": [
    "# your code/answer here\n",
    "print(a)\n",
    "print(d)\n",
    "\"\"\"\n",
    "Suma 1 a todos los elementos de a.\n",
    "\"\"\""
   ]
  },
  {
   "cell_type": "markdown",
   "metadata": {},
   "source": [
    "#### 12. Multiply *a* and *c*. Assign the result to *e*."
   ]
  },
  {
   "cell_type": "code",
   "execution_count": 14,
   "metadata": {
    "ExecuteTime": {
     "end_time": "2020-01-22T12:18:37.409554Z",
     "start_time": "2020-01-22T12:18:37.403571Z"
    }
   },
   "outputs": [
    {
     "name": "stdout",
     "output_type": "stream",
     "text": [
      "[[[4. 4. 0. 2. 9.]\n",
      "  [1. 5. 4. 9. 1.]\n",
      "  [8. 3. 2. 6. 9.]]\n",
      "\n",
      " [[0. 9. 3. 9. 6.]\n",
      "  [6. 4. 7. 8. 6.]\n",
      "  [3. 8. 7. 9. 4.]]]\n"
     ]
    }
   ],
   "source": [
    "# your code here\n",
    "e = np.multiply(a,c)\n",
    "e = a * c\n",
    "print(e)"
   ]
  },
  {
   "cell_type": "markdown",
   "metadata": {},
   "source": [
    "#### 13. Does *e* equal to *a*? Why or why not?\n"
   ]
  },
  {
   "cell_type": "code",
   "execution_count": 15,
   "metadata": {
    "ExecuteTime": {
     "end_time": "2020-01-22T12:18:38.455885Z",
     "start_time": "2020-01-22T12:18:38.448906Z"
    }
   },
   "outputs": [
    {
     "data": {
      "text/plain": [
       "'\\na and e are equal because we are multiplying each element of a by one\\n'"
      ]
     },
     "execution_count": 15,
     "metadata": {},
     "output_type": "execute_result"
    }
   ],
   "source": [
    "# your code/answer here\n",
    "\"\"\"\n",
    "a and e are equal because we are multiplying each element of a by one\n",
    "\"\"\""
   ]
  },
  {
   "cell_type": "markdown",
   "metadata": {},
   "source": [
    "#### 14. Identify the max, min, and mean values in *d*. Assign those values to variables *d_max*, *d_min* and *d_mean*."
   ]
  },
  {
   "cell_type": "code",
   "execution_count": 16,
   "metadata": {
    "ExecuteTime": {
     "end_time": "2020-01-22T12:18:40.771567Z",
     "start_time": "2020-01-22T12:18:40.763621Z"
    }
   },
   "outputs": [
    {
     "name": "stdout",
     "output_type": "stream",
     "text": [
      "10.0\n",
      "1.0\n",
      "6.2\n"
     ]
    }
   ],
   "source": [
    "# your code here\n",
    "d_max = np.max(d)\n",
    "print(d_max)\n",
    "d_min = np.min(d)\n",
    "print(d_min)\n",
    "d_mean = np.mean(d)\n",
    "print(d_mean)"
   ]
  },
  {
   "cell_type": "markdown",
   "metadata": {},
   "source": [
    "#### 15. Now we want to label the values in *d*. First create an empty array *f* with the same shape (i.e. 2x3x5) as *d* using `np.empty`.\n"
   ]
  },
  {
   "cell_type": "code",
   "execution_count": 17,
   "metadata": {
    "ExecuteTime": {
     "end_time": "2020-01-22T12:18:41.874513Z",
     "start_time": "2020-01-22T12:18:41.869527Z"
    }
   },
   "outputs": [],
   "source": [
    "# your code here\n",
    "f = np.empty([2,3,5])"
   ]
  },
  {
   "cell_type": "markdown",
   "metadata": {},
   "source": [
    "#### 16. Populate the values in *f*. \n",
    "\n",
    "For each value in *d*, if it's larger than *d_min* but smaller than *d_mean*, assign 25 to the corresponding value in *f*. If a value in *d* is larger than *d_mean* but smaller than *d_max*, assign 75 to the corresponding value in *f*. If a value equals to *d_mean*, assign 50 to the corresponding value in *f*. Assign 0 to the corresponding value(s) in *f* for *d_min* in *d*. Assign 100 to the corresponding value(s) in *f* for *d_max* in *d*. In the end, f should have only the following values: 0, 25, 50, 75, and 100.\n",
    "\n",
    "**Note**: you don't have to use Numpy in this question."
   ]
  },
  {
   "cell_type": "code",
   "execution_count": 18,
   "metadata": {
    "ExecuteTime": {
     "end_time": "2020-01-22T12:18:50.930987Z",
     "start_time": "2020-01-22T12:18:50.914029Z"
    }
   },
   "outputs": [
    {
     "name": "stdout",
     "output_type": "stream",
     "text": [
      "[[[ 25.  25.   0.  25. 100.]\n",
      "  [ 25.  25.  25. 100.  25.]\n",
      "  [ 75.  25.  25.  75. 100.]]\n",
      "\n",
      " [[  0. 100.  25. 100.  75.]\n",
      "  [ 75.  25.  75.  75.  75.]\n",
      "  [ 25.  75.  75. 100.  25.]]]\n"
     ]
    }
   ],
   "source": [
    "# your code here\n",
    "def populate(d):\n",
    "    for i in range(len(d)):\n",
    "        for j in range(len(d[i])):\n",
    "            for k in range(len(d[i][j])):\n",
    "                x = d[i][j][k]\n",
    "                if x > d_min and x < d_mean:\n",
    "                    f[i][j][k] = 25\n",
    "                elif x > d_mean and x < d_max:\n",
    "                    f[i][j][k] = 75\n",
    "                elif x == d_mean:\n",
    "                    f[i][j][k] = 50\n",
    "                elif x == d_min:\n",
    "                    f[i][j][k] = 0\n",
    "                else: \n",
    "                    f[i][j][k] = 100\n",
    "    return f\n",
    "print(populate(d))"
   ]
  },
  {
   "cell_type": "markdown",
   "metadata": {},
   "source": [
    "#### 17. Print *d* and *f*. Do you have your expected *f*?\n",
    "For instance, if your *d* is:\n",
    "```python\n",
    "[[[1.85836099, 1.67064465, 1.62576044, 1.40243961, 1.88454931],\n",
    "[1.75354326, 1.69403643, 1.36729252, 1.61415071, 1.12104981],\n",
    "[1.72201435, 1.1862918 , 1.87078449, 1.7726778 , 1.88180042]],\n",
    "[[1.44747908, 1.31673383, 1.02000951, 1.52218947, 1.97066381],\n",
    "[1.79129243, 1.74983003, 1.96028037, 1.85166831, 1.65450881],\n",
    "[1.18068344, 1.9587381 , 1.00656599, 1.93402165, 1.73514584]]]\n",
    "```\n",
    "Your *f* should be:\n",
    "```python\n",
    "[[[ 75.,  75.,  75.,  25.,  75.],\n",
    "[ 75.,  75.,  25.,  25.,  25.],\n",
    "[ 75.,  25.,  75.,  75.,  75.]],\n",
    "[[ 25.,  25.,  25.,  25., 100.],\n",
    "[ 75.,  75.,  75.,  75.,  75.],\n",
    "[ 25.,  75.,   0.,  75.,  75.]]]\n",
    "```"
   ]
  },
  {
   "cell_type": "code",
   "execution_count": 20,
   "metadata": {
    "ExecuteTime": {
     "end_time": "2020-01-22T12:19:35.215551Z",
     "start_time": "2020-01-22T12:19:35.203582Z"
    }
   },
   "outputs": [
    {
     "name": "stdout",
     "output_type": "stream",
     "text": [
      "1.97066381\n",
      "1.00656599\n",
      "1.6175069086666667\n",
      "[[[ 75.  75.  75.  25.  75.]\n",
      "  [ 75.  75.  25.  25.  25.]\n",
      "  [ 75.  25.  75.  75.  75.]]\n",
      "\n",
      " [[ 25.  25.  25.  25. 100.]\n",
      "  [ 75.  75.  75.  75.  75.]\n",
      "  [ 25.  75.   0.  75.  75.]]]\n"
     ]
    }
   ],
   "source": [
    "# your code here\n",
    "d = np.array([[[1.85836099, 1.67064465, 1.62576044, 1.40243961, 1.88454931],\n",
    "[1.75354326, 1.69403643, 1.36729252, 1.61415071, 1.12104981],\n",
    "[1.72201435, 1.1862918 , 1.87078449, 1.7726778 , 1.88180042]],\n",
    "[[1.44747908, 1.31673383, 1.02000951, 1.52218947, 1.97066381],\n",
    "[1.79129243, 1.74983003, 1.96028037, 1.85166831, 1.65450881],\n",
    "[1.18068344, 1.9587381 , 1.00656599, 1.93402165, 1.73514584]]])\n",
    "d_max = np.max(d)\n",
    "print(d_max)\n",
    "d_min = np.min(d)\n",
    "print(d_min)\n",
    "d_mean = np.mean(d)\n",
    "print(d_mean)\n",
    "print(populate(d))"
   ]
  },
  {
   "cell_type": "markdown",
   "metadata": {},
   "source": [
    "#### 18. Bonus question: instead of using numbers (i.e. 0, 25, 50, 75, and 100), use string values  (\"A\", \"B\", \"C\", \"D\", and \"E\") to label the array elements. For the example above, the expected result is:\n",
    "\n",
    "```python\n",
    "[[[ 'D',  'D',  'D',  'B',  'D'],\n",
    "[ 'D',  'D',  'B',  'B',  'B'],\n",
    "[ 'D',  'B',  'D',  'D',  'D']],\n",
    "[[ 'B',  'B',  'B',  'B',  'E'],\n",
    "[ 'D',  'D',  'D',  'D',  'D'],\n",
    "[ 'B',  'D',   'A',  'D', 'D']]]\n",
    "```\n",
    "**Note**: you don't have to use Numpy in this question."
   ]
  },
  {
   "cell_type": "code",
   "execution_count": 21,
   "metadata": {
    "ExecuteTime": {
     "end_time": "2020-01-22T12:19:48.964068Z",
     "start_time": "2020-01-22T12:19:48.952130Z"
    }
   },
   "outputs": [
    {
     "name": "stdout",
     "output_type": "stream",
     "text": [
      "[[['D' 'D' 'D' 'B' 'D']\n",
      "  ['D' 'D' 'B' 'B' 'B']\n",
      "  ['D' 'B' 'D' 'D' 'D']]\n",
      "\n",
      " [['B' 'B' 'B' 'B' 'E']\n",
      "  ['D' 'D' 'D' 'D' 'D']\n",
      "  ['B' 'D' 'A' 'D' 'D']]]\n"
     ]
    }
   ],
   "source": [
    "# your code here\n",
    "g = np.empty([2,3,5] , dtype = str)\n",
    "for i in range(len(d)):\n",
    "    for j in range(len(d[i])):\n",
    "        for k in range(len(d[i][j])):\n",
    "            x = d[i][j][k]\n",
    "            if x > d_min and x < d_mean:\n",
    "                g[i][j][k] = 'B'\n",
    "            elif x > d_mean and x < d_max:\n",
    "                g[i][j][k] = 'D'\n",
    "            elif x == d_mean:\n",
    "                g[i][j][k] = 'C'\n",
    "            elif x == d_min:\n",
    "                g[i][j][k] = 'A'\n",
    "            else: \n",
    "                g[i][j][k] = 'E'\n",
    "print(g)"
   ]
  },
  {
   "cell_type": "code",
   "execution_count": null,
   "metadata": {},
   "outputs": [],
   "source": []
  },
  {
   "cell_type": "code",
   "execution_count": null,
   "metadata": {},
   "outputs": [],
   "source": []
  }
 ],
 "metadata": {
  "kernelspec": {
   "display_name": "Python 3",
   "language": "python",
   "name": "python3"
  },
  "language_info": {
   "codemirror_mode": {
    "name": "ipython",
    "version": 3
   },
   "file_extension": ".py",
   "mimetype": "text/x-python",
   "name": "python",
   "nbconvert_exporter": "python",
   "pygments_lexer": "ipython3",
   "version": "3.7.4"
  },
  "varInspector": {
   "cols": {
    "lenName": 16,
    "lenType": 16,
    "lenVar": 40
   },
   "kernels_config": {
    "python": {
     "delete_cmd_postfix": "",
     "delete_cmd_prefix": "del ",
     "library": "var_list.py",
     "varRefreshCmd": "print(var_dic_list())"
    },
    "r": {
     "delete_cmd_postfix": ") ",
     "delete_cmd_prefix": "rm(",
     "library": "var_list.r",
     "varRefreshCmd": "cat(var_dic_list()) "
    }
   },
   "types_to_exclude": [
    "module",
    "function",
    "builtin_function_or_method",
    "instance",
    "_Feature"
   ],
   "window_display": false
  }
 },
 "nbformat": 4,
 "nbformat_minor": 2
}
