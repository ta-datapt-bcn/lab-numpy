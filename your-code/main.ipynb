{
 "cells": [
  {
   "cell_type": "markdown",
   "metadata": {},
   "source": [
    "# Intrduction to NumPy\n",
    "\n",
    "\n",
    "#### 1. Import NumPy under the name np."
   ]
  },
  {
   "cell_type": "code",
   "execution_count": 1,
   "metadata": {
    "ExecuteTime": {
     "end_time": "2020-01-28T17:42:05.660811Z",
     "start_time": "2020-01-28T17:42:05.502237Z"
    }
   },
   "outputs": [],
   "source": [
    "# your code here\n",
    "import numpy as np"
   ]
  },
  {
   "cell_type": "markdown",
   "metadata": {},
   "source": [
    "#### 2. Print your NumPy version."
   ]
  },
  {
   "cell_type": "code",
   "execution_count": 2,
   "metadata": {
    "ExecuteTime": {
     "end_time": "2020-01-28T17:42:05.699707Z",
     "start_time": "2020-01-28T17:42:05.683752Z"
    }
   },
   "outputs": [
    {
     "data": {
      "text/plain": [
       "'1.15.4'"
      ]
     },
     "execution_count": 2,
     "metadata": {},
     "output_type": "execute_result"
    }
   ],
   "source": [
    "# your code here\n",
    "np.version.version"
   ]
  },
  {
   "cell_type": "markdown",
   "metadata": {},
   "source": [
    "#### 3. Generate a 2x3x5 3-dimensional array with random values. Assign the array to variable *a*.\n",
    "**Challenge**: there are at least three easy ways that use numpy to generate random arrays. How many ways can you find?"
   ]
  },
  {
   "cell_type": "code",
   "execution_count": 3,
   "metadata": {
    "ExecuteTime": {
     "end_time": "2020-01-28T17:42:05.861277Z",
     "start_time": "2020-01-28T17:42:05.850307Z"
    }
   },
   "outputs": [
    {
     "name": "stdout",
     "output_type": "stream",
     "text": [
      "[[[0.87583857 0.71705901 0.54363043 0.99937676 0.26627085]\n",
      "  [0.49918449 0.45028178 0.91984655 0.52499252 0.27566848]\n",
      "  [0.13386611 0.89907832 0.07826988 0.30767068 0.81048993]]\n",
      "\n",
      " [[0.59559033 0.73506225 0.41293936 0.53227759 0.36533632]\n",
      "  [0.19169641 0.84774224 0.74013581 0.55365394 0.08477151]\n",
      "  [0.90080827 0.04766969 0.52174596 0.80341556 0.89949777]]]\n"
     ]
    }
   ],
   "source": [
    "# Method 1\n",
    "a=np.random.random((2,3,5))\n",
    "print(a)"
   ]
  },
  {
   "cell_type": "code",
   "execution_count": 4,
   "metadata": {
    "ExecuteTime": {
     "end_time": "2020-01-28T17:42:05.883216Z",
     "start_time": "2020-01-28T17:42:05.865267Z"
    }
   },
   "outputs": [
    {
     "name": "stdout",
     "output_type": "stream",
     "text": [
      "[[[0.12553463 0.8032412  0.99553402 0.17708457 0.46299138]\n",
      "  [0.32003624 0.99769382 0.06848294 0.0641709  0.74381818]\n",
      "  [0.28252984 0.35836699 0.27557455 0.06456867 0.87237022]]\n",
      "\n",
      " [[0.12100227 0.76510891 0.1225766  0.68191773 0.00696833]\n",
      "  [0.52968938 0.08891121 0.43512474 0.47875775 0.33567699]\n",
      "  [0.39673041 0.5208139  0.61221336 0.65306099 0.78063913]]]\n"
     ]
    }
   ],
   "source": [
    "# Method 2\n",
    "a=np.random.rand(2,3,5)\n",
    "print(a)"
   ]
  },
  {
   "cell_type": "code",
   "execution_count": 5,
   "metadata": {
    "ExecuteTime": {
     "end_time": "2020-01-28T17:42:05.889201Z",
     "start_time": "2020-01-28T17:42:05.885211Z"
    }
   },
   "outputs": [],
   "source": [
    "# Method 3\n",
    "a=np.random.random(30).reshape(2,3,5)"
   ]
  },
  {
   "cell_type": "markdown",
   "metadata": {},
   "source": [
    "#### 4. Print *a*.\n"
   ]
  },
  {
   "cell_type": "code",
   "execution_count": 6,
   "metadata": {
    "ExecuteTime": {
     "end_time": "2020-01-28T17:42:06.009879Z",
     "start_time": "2020-01-28T17:42:06.004892Z"
    }
   },
   "outputs": [
    {
     "name": "stdout",
     "output_type": "stream",
     "text": [
      "[[[0.06594682 0.65345288 0.21117616 0.14978104 0.96721138]\n",
      "  [0.49986635 0.12024609 0.54600892 0.92537541 0.73995933]\n",
      "  [0.15665762 0.41260468 0.98953054 0.25550813 0.57943686]]\n",
      "\n",
      " [[0.04588124 0.84358223 0.51313114 0.56039531 0.51026117]\n",
      "  [0.71765731 0.69390032 0.30441076 0.90940372 0.13195458]\n",
      "  [0.38513549 0.40689287 0.11638382 0.08796338 0.02965124]]]\n"
     ]
    }
   ],
   "source": [
    "# your code here\n",
    "print(a)"
   ]
  },
  {
   "cell_type": "markdown",
   "metadata": {},
   "source": [
    "#### 5. Create a 5x2x3 3-dimensional array with all values equaling 1. Assign the array to variable *b*."
   ]
  },
  {
   "cell_type": "code",
   "execution_count": 7,
   "metadata": {
    "ExecuteTime": {
     "end_time": "2020-01-28T17:42:06.139531Z",
     "start_time": "2020-01-28T17:42:06.134544Z"
    }
   },
   "outputs": [],
   "source": [
    "# your code here\n",
    "b=np.ones((5,2,3))"
   ]
  },
  {
   "cell_type": "markdown",
   "metadata": {},
   "source": [
    "#### 6. Print *b*.\n"
   ]
  },
  {
   "cell_type": "code",
   "execution_count": 8,
   "metadata": {
    "ExecuteTime": {
     "end_time": "2020-01-28T17:42:06.347044Z",
     "start_time": "2020-01-28T17:42:06.341063Z"
    }
   },
   "outputs": [
    {
     "name": "stdout",
     "output_type": "stream",
     "text": [
      "[[[1. 1. 1.]\n",
      "  [1. 1. 1.]]\n",
      "\n",
      " [[1. 1. 1.]\n",
      "  [1. 1. 1.]]\n",
      "\n",
      " [[1. 1. 1.]\n",
      "  [1. 1. 1.]]\n",
      "\n",
      " [[1. 1. 1.]\n",
      "  [1. 1. 1.]]\n",
      "\n",
      " [[1. 1. 1.]\n",
      "  [1. 1. 1.]]]\n"
     ]
    }
   ],
   "source": [
    "# your code here\n",
    "print(b)"
   ]
  },
  {
   "cell_type": "markdown",
   "metadata": {},
   "source": [
    "#### 7. Do *a* and *b* have the same size? How do you prove that in Python code?"
   ]
  },
  {
   "cell_type": "code",
   "execution_count": 9,
   "metadata": {
    "ExecuteTime": {
     "end_time": "2020-01-28T17:42:06.484679Z",
     "start_time": "2020-01-28T17:42:06.479688Z"
    }
   },
   "outputs": [
    {
     "name": "stdout",
     "output_type": "stream",
     "text": [
      "True\n"
     ]
    }
   ],
   "source": [
    "# your code here\n",
    "print(a.size==b.size)"
   ]
  },
  {
   "cell_type": "markdown",
   "metadata": {},
   "source": [
    "#### 8. Are you able to add *a* and *b*? Why or why not?\n"
   ]
  },
  {
   "cell_type": "code",
   "execution_count": 10,
   "metadata": {
    "ExecuteTime": {
     "end_time": "2020-01-28T17:42:06.687134Z",
     "start_time": "2020-01-28T17:42:06.618323Z"
    }
   },
   "outputs": [
    {
     "ename": "ValueError",
     "evalue": "operands could not be broadcast together with shapes (2,3,5) (5,2,3) ",
     "output_type": "error",
     "traceback": [
      "\u001b[1;31m---------------------------------------------------------------------------\u001b[0m",
      "\u001b[1;31mValueError\u001b[0m                                Traceback (most recent call last)",
      "\u001b[1;32m<ipython-input-10-f4bc0b0971df>\u001b[0m in \u001b[0;36m<module>\u001b[1;34m\u001b[0m\n\u001b[0;32m      1\u001b[0m \u001b[1;31m# your answer here\u001b[0m\u001b[1;33m\u001b[0m\u001b[1;33m\u001b[0m\u001b[1;33m\u001b[0m\u001b[0m\n\u001b[1;32m----> 2\u001b[1;33m \u001b[0mprint\u001b[0m\u001b[1;33m(\u001b[0m\u001b[0ma\u001b[0m\u001b[1;33m+\u001b[0m\u001b[0mb\u001b[0m\u001b[1;33m)\u001b[0m\u001b[1;33m\u001b[0m\u001b[1;33m\u001b[0m\u001b[0m\n\u001b[0m\u001b[0;32m      3\u001b[0m \u001b[1;31m#No porque no tienen las mismas dimensiones\u001b[0m\u001b[1;33m\u001b[0m\u001b[1;33m\u001b[0m\u001b[1;33m\u001b[0m\u001b[0m\n",
      "\u001b[1;31mValueError\u001b[0m: operands could not be broadcast together with shapes (2,3,5) (5,2,3) "
     ]
    }
   ],
   "source": [
    "# your answer here\n",
    "print(a+b)\n",
    "#No porque no tienen las mismas dimensiones"
   ]
  },
  {
   "cell_type": "markdown",
   "metadata": {},
   "source": [
    "#### 9. Transpose *b* so that it has the same structure of *a* (i.e. become a 2x3x5 array). Assign the transposed array to variable *c*."
   ]
  },
  {
   "cell_type": "code",
   "execution_count": 11,
   "metadata": {
    "ExecuteTime": {
     "end_time": "2020-01-28T17:42:06.803821Z",
     "start_time": "2020-01-28T17:42:06.796841Z"
    }
   },
   "outputs": [
    {
     "name": "stdout",
     "output_type": "stream",
     "text": [
      "[[[1. 1. 1. 1. 1.]\n",
      "  [1. 1. 1. 1. 1.]\n",
      "  [1. 1. 1. 1. 1.]]\n",
      "\n",
      " [[1. 1. 1. 1. 1.]\n",
      "  [1. 1. 1. 1. 1.]\n",
      "  [1. 1. 1. 1. 1.]]]\n"
     ]
    }
   ],
   "source": [
    "# your code here\n",
    "c=np.moveaxis(b,0,-1)\n",
    "print(c)"
   ]
  },
  {
   "cell_type": "markdown",
   "metadata": {},
   "source": [
    "#### 10. Try to add *a* and *c*. Now it should work. Assign the sum to variable *d*. But why does it work now?"
   ]
  },
  {
   "cell_type": "code",
   "execution_count": 12,
   "metadata": {
    "ExecuteTime": {
     "end_time": "2020-01-28T17:42:06.944448Z",
     "start_time": "2020-01-28T17:42:06.937464Z"
    }
   },
   "outputs": [
    {
     "name": "stdout",
     "output_type": "stream",
     "text": [
      "[[[1.06594682 1.65345288 1.21117616 1.14978104 1.96721138]\n",
      "  [1.49986635 1.12024609 1.54600892 1.92537541 1.73995933]\n",
      "  [1.15665762 1.41260468 1.98953054 1.25550813 1.57943686]]\n",
      "\n",
      " [[1.04588124 1.84358223 1.51313114 1.56039531 1.51026117]\n",
      "  [1.71765731 1.69390032 1.30441076 1.90940372 1.13195458]\n",
      "  [1.38513549 1.40689287 1.11638382 1.08796338 1.02965124]]]\n"
     ]
    }
   ],
   "source": [
    "# your code/answer here\n",
    "d=a+c\n",
    "print(d)"
   ]
  },
  {
   "cell_type": "markdown",
   "metadata": {},
   "source": [
    "#### 11. Print *a* and *d*. Notice the difference and relation of the two array in terms of the values? Explain."
   ]
  },
  {
   "cell_type": "code",
   "execution_count": 13,
   "metadata": {
    "ExecuteTime": {
     "end_time": "2020-01-28T17:42:07.085069Z",
     "start_time": "2020-01-28T17:42:07.077091Z"
    }
   },
   "outputs": [
    {
     "name": "stdout",
     "output_type": "stream",
     "text": [
      "[[[0.06594682 0.65345288 0.21117616 0.14978104 0.96721138]\n",
      "  [0.49986635 0.12024609 0.54600892 0.92537541 0.73995933]\n",
      "  [0.15665762 0.41260468 0.98953054 0.25550813 0.57943686]]\n",
      "\n",
      " [[0.04588124 0.84358223 0.51313114 0.56039531 0.51026117]\n",
      "  [0.71765731 0.69390032 0.30441076 0.90940372 0.13195458]\n",
      "  [0.38513549 0.40689287 0.11638382 0.08796338 0.02965124]]]\n",
      "[[[1.06594682 1.65345288 1.21117616 1.14978104 1.96721138]\n",
      "  [1.49986635 1.12024609 1.54600892 1.92537541 1.73995933]\n",
      "  [1.15665762 1.41260468 1.98953054 1.25550813 1.57943686]]\n",
      "\n",
      " [[1.04588124 1.84358223 1.51313114 1.56039531 1.51026117]\n",
      "  [1.71765731 1.69390032 1.30441076 1.90940372 1.13195458]\n",
      "  [1.38513549 1.40689287 1.11638382 1.08796338 1.02965124]]]\n"
     ]
    }
   ],
   "source": [
    "# your code/answer here\n",
    "print(a)\n",
    "print(d)\n",
    "#se ha sumado 1 a todos los valores"
   ]
  },
  {
   "cell_type": "markdown",
   "metadata": {},
   "source": [
    "#### 12. Multiply *a* and *c*. Assign the result to *e*."
   ]
  },
  {
   "cell_type": "code",
   "execution_count": 14,
   "metadata": {
    "ExecuteTime": {
     "end_time": "2020-01-28T17:42:07.219712Z",
     "start_time": "2020-01-28T17:42:07.212728Z"
    }
   },
   "outputs": [
    {
     "name": "stdout",
     "output_type": "stream",
     "text": [
      "[[[0.06594682 0.65345288 0.21117616 0.14978104 0.96721138]\n",
      "  [0.49986635 0.12024609 0.54600892 0.92537541 0.73995933]\n",
      "  [0.15665762 0.41260468 0.98953054 0.25550813 0.57943686]]\n",
      "\n",
      " [[0.04588124 0.84358223 0.51313114 0.56039531 0.51026117]\n",
      "  [0.71765731 0.69390032 0.30441076 0.90940372 0.13195458]\n",
      "  [0.38513549 0.40689287 0.11638382 0.08796338 0.02965124]]]\n"
     ]
    }
   ],
   "source": [
    "# your code here\n",
    "e=a*c\n",
    "print(e)"
   ]
  },
  {
   "cell_type": "markdown",
   "metadata": {},
   "source": [
    "#### 13. Does *e* equal to *a*? Why or why not?\n"
   ]
  },
  {
   "cell_type": "code",
   "execution_count": 15,
   "metadata": {
    "ExecuteTime": {
     "end_time": "2020-01-28T17:42:07.358337Z",
     "start_time": "2020-01-28T17:42:07.352356Z"
    }
   },
   "outputs": [
    {
     "name": "stdout",
     "output_type": "stream",
     "text": [
      "[[[ True  True  True  True  True]\n",
      "  [ True  True  True  True  True]\n",
      "  [ True  True  True  True  True]]\n",
      "\n",
      " [[ True  True  True  True  True]\n",
      "  [ True  True  True  True  True]\n",
      "  [ True  True  True  True  True]]]\n"
     ]
    }
   ],
   "source": [
    "# your code/answer here\n",
    "print(e==a)\n",
    "#Es igual porque se han multiplicado los valores por 1"
   ]
  },
  {
   "cell_type": "markdown",
   "metadata": {},
   "source": [
    "#### 14. Identify the max, min, and mean values in *d*. Assign those values to variables *d_max*, *d_min* and *d_mean*."
   ]
  },
  {
   "cell_type": "code",
   "execution_count": 16,
   "metadata": {
    "ExecuteTime": {
     "end_time": "2020-01-28T17:42:07.500956Z",
     "start_time": "2020-01-28T17:42:07.494976Z"
    }
   },
   "outputs": [
    {
     "name": "stdout",
     "output_type": "stream",
     "text": [
      "1.9895305430944163\n",
      "1.0296512363081463\n",
      "1.450978891846638\n"
     ]
    }
   ],
   "source": [
    "# your code here\n",
    "d_max=d.max()\n",
    "d_min=d.min()\n",
    "d_mean=d.mean()\n",
    "print(d_max)\n",
    "print(d_min)\n",
    "print(d_mean)"
   ]
  },
  {
   "cell_type": "markdown",
   "metadata": {},
   "source": [
    "#### 15. Now we want to label the values in *d*. First create an empty array *f* with the same shape (i.e. 2x3x5) as *d* using `np.empty`.\n"
   ]
  },
  {
   "cell_type": "code",
   "execution_count": 17,
   "metadata": {
    "ExecuteTime": {
     "end_time": "2020-01-28T17:42:07.643579Z",
     "start_time": "2020-01-28T17:42:07.636596Z"
    }
   },
   "outputs": [
    {
     "name": "stdout",
     "output_type": "stream",
     "text": [
      "[[[0.06594682 0.65345288 0.21117616 0.14978104 0.96721138]\n",
      "  [0.49986635 0.12024609 0.54600892 0.92537541 0.73995933]\n",
      "  [0.15665762 0.41260468 0.98953054 0.25550813 0.57943686]]\n",
      "\n",
      " [[0.04588124 0.84358223 0.51313114 0.56039531 0.51026117]\n",
      "  [0.71765731 0.69390032 0.30441076 0.90940372 0.13195458]\n",
      "  [0.38513549 0.40689287 0.11638382 0.08796338 0.02965124]]]\n"
     ]
    }
   ],
   "source": [
    "# your code here\n",
    "f=np.empty((2,3,5))\n",
    "print(f)"
   ]
  },
  {
   "cell_type": "markdown",
   "metadata": {},
   "source": [
    "#### 16. Populate the values in *f*. \n",
    "\n",
    "For each value in *d*, if it's larger than *d_min* but smaller than *d_mean*, assign 25 to the corresponding value in *f*. If a value in *d* is larger than *d_mean* but smaller than *d_max*, assign 75 to the corresponding value in *f*. If a value equals to *d_mean*, assign 50 to the corresponding value in *f*. Assign 0 to the corresponding value(s) in *f* for *d_min* in *d*. Assign 100 to the corresponding value(s) in *f* for *d_max* in *d*. In the end, f should have only the following values: 0, 25, 50, 75, and 100.\n",
    "\n",
    "**Note**: you don't have to use Numpy in this question."
   ]
  },
  {
   "cell_type": "code",
   "execution_count": 18,
   "metadata": {
    "ExecuteTime": {
     "end_time": "2020-01-28T17:42:07.774224Z",
     "start_time": "2020-01-28T17:42:07.767245Z"
    }
   },
   "outputs": [
    {
     "name": "stdout",
     "output_type": "stream",
     "text": [
      "[[[ 25  75  25  25  75]\n",
      "  [ 75  25  75  75  75]\n",
      "  [ 25  25 100  25  75]]\n",
      "\n",
      " [[ 25  75  75  75  75]\n",
      "  [ 75  75  25  75  25]\n",
      "  [ 25  25  25  25   0]]]\n"
     ]
    }
   ],
   "source": [
    "# your code here\n",
    "f=np.where((d>d_min) & (d<d_mean), 25, np.where((d>d_mean) & (d<d_max), 75, np.where(d==d_mean, 50, np.where(d<=d_min, 0, 100))))\n",
    "print(f)"
   ]
  },
  {
   "cell_type": "markdown",
   "metadata": {},
   "source": [
    "#### 17. Print *d* and *f*. Do you have your expected *f*?\n",
    "For instance, if your *d* is:\n",
    "```python\n",
    "[[[1.85836099, 1.67064465, 1.62576044, 1.40243961, 1.88454931],\n",
    "[1.75354326, 1.69403643, 1.36729252, 1.61415071, 1.12104981],\n",
    "[1.72201435, 1.1862918 , 1.87078449, 1.7726778 , 1.88180042]],\n",
    "[[1.44747908, 1.31673383, 1.02000951, 1.52218947, 1.97066381],\n",
    "[1.79129243, 1.74983003, 1.96028037, 1.85166831, 1.65450881],\n",
    "[1.18068344, 1.9587381 , 1.00656599, 1.93402165, 1.73514584]]]\n",
    "```\n",
    "Your *f* should be:\n",
    "```python\n",
    "[[[ 75.,  75.,  75.,  25.,  75.],\n",
    "[ 75.,  75.,  25.,  25.,  25.],\n",
    "[ 75.,  25.,  75.,  75.,  75.]],\n",
    "[[ 25.,  25.,  25.,  25., 100.],\n",
    "[ 75.,  75.,  75.,  75.,  75.],\n",
    "[ 25.,  75.,   0.,  75.,  75.]]]\n",
    "```"
   ]
  },
  {
   "cell_type": "code",
   "execution_count": 19,
   "metadata": {
    "ExecuteTime": {
     "end_time": "2020-01-28T17:42:07.961723Z",
     "start_time": "2020-01-28T17:42:07.953744Z"
    }
   },
   "outputs": [
    {
     "name": "stdout",
     "output_type": "stream",
     "text": [
      "[[[1.06594682 1.65345288 1.21117616 1.14978104 1.96721138]\n",
      "  [1.49986635 1.12024609 1.54600892 1.92537541 1.73995933]\n",
      "  [1.15665762 1.41260468 1.98953054 1.25550813 1.57943686]]\n",
      "\n",
      " [[1.04588124 1.84358223 1.51313114 1.56039531 1.51026117]\n",
      "  [1.71765731 1.69390032 1.30441076 1.90940372 1.13195458]\n",
      "  [1.38513549 1.40689287 1.11638382 1.08796338 1.02965124]]]\n",
      "[[[ 25  75  25  25  75]\n",
      "  [ 75  25  75  75  75]\n",
      "  [ 25  25 100  25  75]]\n",
      "\n",
      " [[ 25  75  75  75  75]\n",
      "  [ 75  75  25  75  25]\n",
      "  [ 25  25  25  25   0]]]\n"
     ]
    }
   ],
   "source": [
    "# your code here\n",
    "print(d)\n",
    "print(f)"
   ]
  },
  {
   "cell_type": "markdown",
   "metadata": {},
   "source": [
    "#### 18. Bonus question: instead of using numbers (i.e. 0, 25, 50, 75, and 100), use string values  (\"A\", \"B\", \"C\", \"D\", and \"E\") to label the array elements. For the example above, the expected result is:\n",
    "\n",
    "```python\n",
    "[[[ 'D',  'D',  'D',  'B',  'D'],\n",
    "[ 'D',  'D',  'B',  'B',  'B'],\n",
    "[ 'D',  'B',  'D',  'D',  'D']],\n",
    "[[ 'B',  'B',  'B',  'B',  'E'],\n",
    "[ 'D',  'D',  'D',  'D',  'D'],\n",
    "[ 'B',  'D',   'A',  'D', 'D']]]\n",
    "```\n",
    "**Note**: you don't have to use Numpy in this question."
   ]
  },
  {
   "cell_type": "code",
   "execution_count": 20,
   "metadata": {
    "ExecuteTime": {
     "end_time": "2020-01-28T17:42:08.123291Z",
     "start_time": "2020-01-28T17:42:08.115313Z"
    }
   },
   "outputs": [],
   "source": [
    "# your code here\n",
    "g=np.where((d>d_min) & (d<d_mean), 'B', np.where((d>d_mean) & (d<d_max), 'D', np.where(d==d_mean, 'C', np.where(d<=d_min, 'A', 'E'))))"
   ]
  },
  {
   "cell_type": "code",
   "execution_count": 21,
   "metadata": {
    "ExecuteTime": {
     "end_time": "2020-01-28T17:42:08.134261Z",
     "start_time": "2020-01-28T17:42:08.127280Z"
    }
   },
   "outputs": [
    {
     "name": "stdout",
     "output_type": "stream",
     "text": [
      "[[['B' 'D' 'B' 'B' 'D']\n",
      "  ['D' 'B' 'D' 'D' 'D']\n",
      "  ['B' 'B' 'E' 'B' 'D']]\n",
      "\n",
      " [['B' 'D' 'D' 'D' 'D']\n",
      "  ['D' 'D' 'B' 'D' 'B']\n",
      "  ['B' 'B' 'B' 'B' 'A']]]\n"
     ]
    }
   ],
   "source": [
    "print(g)"
   ]
  },
  {
   "cell_type": "code",
   "execution_count": null,
   "metadata": {},
   "outputs": [],
   "source": []
  }
 ],
 "metadata": {
  "kernelspec": {
   "display_name": "Python 3",
   "language": "python",
   "name": "python3"
  },
  "language_info": {
   "codemirror_mode": {
    "name": "ipython",
    "version": 3
   },
   "file_extension": ".py",
   "mimetype": "text/x-python",
   "name": "python",
   "nbconvert_exporter": "python",
   "pygments_lexer": "ipython3",
   "version": "3.7.1"
  },
  "latex_envs": {
   "LaTeX_envs_menu_present": true,
   "autoclose": false,
   "autocomplete": true,
   "bibliofile": "biblio.bib",
   "cite_by": "apalike",
   "current_citInitial": 1,
   "eqLabelWithNumbers": true,
   "eqNumInitial": 1,
   "hotkeys": {
    "equation": "Ctrl-E",
    "itemize": "Ctrl-I"
   },
   "labels_anchors": false,
   "latex_user_defs": false,
   "report_style_numbering": false,
   "user_envs_cfg": false
  },
  "toc": {
   "base_numbering": 1,
   "nav_menu": {},
   "number_sections": true,
   "sideBar": true,
   "skip_h1_title": false,
   "title_cell": "Table of Contents",
   "title_sidebar": "Contents",
   "toc_cell": false,
   "toc_position": {},
   "toc_section_display": true,
   "toc_window_display": false
  },
  "varInspector": {
   "cols": {
    "lenName": 16,
    "lenType": 16,
    "lenVar": 40
   },
   "kernels_config": {
    "python": {
     "delete_cmd_postfix": "",
     "delete_cmd_prefix": "del ",
     "library": "var_list.py",
     "varRefreshCmd": "print(var_dic_list())"
    },
    "r": {
     "delete_cmd_postfix": ") ",
     "delete_cmd_prefix": "rm(",
     "library": "var_list.r",
     "varRefreshCmd": "cat(var_dic_list()) "
    }
   },
   "types_to_exclude": [
    "module",
    "function",
    "builtin_function_or_method",
    "instance",
    "_Feature"
   ],
   "window_display": false
  }
 },
 "nbformat": 4,
 "nbformat_minor": 2
}
