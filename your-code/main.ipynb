{
 "cells": [
  {
   "cell_type": "markdown",
   "metadata": {},
   "source": [
    "# Intrduction to NumPy\n",
    "\n",
    "\n",
    "#### 1. Import NumPy under the name np."
   ]
  },
  {
   "cell_type": "code",
   "execution_count": 4,
   "metadata": {
    "ExecuteTime": {
     "end_time": "2020-01-25T16:07:21.804161Z",
     "start_time": "2020-01-25T16:07:21.800811Z"
    }
   },
   "outputs": [],
   "source": [
    "# your code here\n",
    "import numpy as np"
   ]
  },
  {
   "cell_type": "markdown",
   "metadata": {},
   "source": [
    "#### 2. Print your NumPy version."
   ]
  },
  {
   "cell_type": "code",
   "execution_count": 5,
   "metadata": {
    "ExecuteTime": {
     "end_time": "2020-01-25T16:07:22.615762Z",
     "start_time": "2020-01-25T16:07:22.594946Z"
    }
   },
   "outputs": [
    {
     "data": {
      "text/plain": [
       "'1.17.2'"
      ]
     },
     "execution_count": 5,
     "metadata": {},
     "output_type": "execute_result"
    }
   ],
   "source": [
    "# your code here\n",
    "np.version.version"
   ]
  },
  {
   "cell_type": "markdown",
   "metadata": {},
   "source": [
    "#### 3. Generate a 2x3x5 3-dimensional array with random values. Assign the array to variable *a*.\n",
    "**Challenge**: there are at least three easy ways that use numpy to generate random arrays. How many ways can you find?"
   ]
  },
  {
   "cell_type": "code",
   "execution_count": 6,
   "metadata": {
    "ExecuteTime": {
     "end_time": "2020-01-25T16:07:23.440648Z",
     "start_time": "2020-01-25T16:07:23.428293Z"
    }
   },
   "outputs": [
    {
     "name": "stdout",
     "output_type": "stream",
     "text": [
      "[[[0.63479762 0.69697411 0.76582238 0.38992623 0.2183214 ]\n",
      "  [0.8928772  0.14510176 0.25490616 0.46570928 0.98680531]\n",
      "  [0.88005954 0.39307049 0.45844099 0.7309187  0.85874002]]\n",
      "\n",
      " [[0.01805593 0.67263989 0.49861734 0.7918751  0.58499465]\n",
      "  [0.48236232 0.99667569 0.57022863 0.03672344 0.62270127]\n",
      "  [0.74734089 0.37583555 0.14152583 0.6558676  0.84066512]]]\n"
     ]
    }
   ],
   "source": [
    "# Method 1\n",
    "a1 = np.random.random((2,3,5))\n",
    "print (a1)"
   ]
  },
  {
   "cell_type": "code",
   "execution_count": 7,
   "metadata": {
    "ExecuteTime": {
     "end_time": "2020-01-25T16:07:23.915918Z",
     "start_time": "2020-01-25T16:07:23.909910Z"
    }
   },
   "outputs": [
    {
     "name": "stdout",
     "output_type": "stream",
     "text": [
      "[[[4603892968220816677 4604453004185589302 4605073134331286210\n",
      "   4600695906442618420 4597033877699499284]\n",
      "  [4606217542374642710 4594395862125102196 4598263601000420712\n",
      "   4602061092528051078 4607063571627015598]\n",
      "  [4606102091186670690 4600752548430146938 4601930158646287850\n",
      "   4604758749920977351 4605910062046506806]]\n",
      "\n",
      " [[4580861490036848608 4604233821046637791 4602653911440377720\n",
      "   4605307796371562964 4603444382921567260]\n",
      "  [4602361087027429114 4607152476088582078 4603311382474414581\n",
      "   4585453226937778128 4603784013916346037]\n",
      "  [4604906667828282877 4600442071338405126 4594267025684921436\n",
      "   4604082749690549238 4605747257766103489]]]\n"
     ]
    }
   ],
   "source": [
    "# Method 2\n",
    "#Con \"dtype\" puedo decirle si quiero int o float.\n",
    "a2 = np.empty((2,3,5), dtype=int)\n",
    "print(a2)"
   ]
  },
  {
   "cell_type": "code",
   "execution_count": 8,
   "metadata": {
    "ExecuteTime": {
     "end_time": "2020-01-25T16:07:24.216510Z",
     "start_time": "2020-01-25T16:07:24.205304Z"
    }
   },
   "outputs": [
    {
     "name": "stdout",
     "output_type": "stream",
     "text": [
      "[[[16 17  8 12 13]\n",
      "  [19  5  7  3 22]\n",
      "  [29 28  4 36 26]]\n",
      "\n",
      " [[ 2 39 17 21  4]\n",
      "  [32 29 29 25 38]\n",
      "  [21 27 15  4 39]]]\n"
     ]
    }
   ],
   "source": [
    "#Method 3\n",
    "#Con este consigo limitar el número más alto y salen enteros a partir del 0\n",
    "a3 = np.random.randint(40, size=(2, 3, 5))\n",
    "print(a3)"
   ]
  },
  {
   "cell_type": "code",
   "execution_count": 9,
   "metadata": {
    "ExecuteTime": {
     "end_time": "2020-01-25T16:07:24.700440Z",
     "start_time": "2020-01-25T16:07:24.692898Z"
    }
   },
   "outputs": [
    {
     "name": "stdout",
     "output_type": "stream",
     "text": [
      "[[[ 0  1  2  3  4]\n",
      "  [ 5  6  7  8  9]\n",
      "  [10 11 12 13 14]]\n",
      "\n",
      " [[15 16 17 18 19]\n",
      "  [20 21 22 23 24]\n",
      "  [25 26 27 28 29]]]\n"
     ]
    }
   ],
   "source": [
    "# Method 4\n",
    "#Con este consigo limitar el número más alto y salen enteros ordenados a partir del 0\n",
    "a4 = np.arange(30).reshape(2,3,5)\n",
    "print(a4)"
   ]
  },
  {
   "cell_type": "markdown",
   "metadata": {},
   "source": [
    "#### 4. Print *a*.\n"
   ]
  },
  {
   "cell_type": "code",
   "execution_count": 10,
   "metadata": {
    "ExecuteTime": {
     "end_time": "2020-01-25T16:07:25.487443Z",
     "start_time": "2020-01-25T16:07:25.481984Z"
    }
   },
   "outputs": [
    {
     "name": "stdout",
     "output_type": "stream",
     "text": [
      "[[[0.63479762 0.69697411 0.76582238 0.38992623 0.2183214 ]\n",
      "  [0.8928772  0.14510176 0.25490616 0.46570928 0.98680531]\n",
      "  [0.88005954 0.39307049 0.45844099 0.7309187  0.85874002]]\n",
      "\n",
      " [[0.01805593 0.67263989 0.49861734 0.7918751  0.58499465]\n",
      "  [0.48236232 0.99667569 0.57022863 0.03672344 0.62270127]\n",
      "  [0.74734089 0.37583555 0.14152583 0.6558676  0.84066512]]]\n"
     ]
    }
   ],
   "source": [
    "# your code here\n",
    "print(a1)"
   ]
  },
  {
   "cell_type": "markdown",
   "metadata": {},
   "source": [
    "#### 5. Create a 5x2x3 3-dimensional array with all values equaling 1. Assign the array to variable *b*."
   ]
  },
  {
   "cell_type": "code",
   "execution_count": 11,
   "metadata": {
    "ExecuteTime": {
     "end_time": "2020-01-25T16:07:26.266141Z",
     "start_time": "2020-01-25T16:07:26.258725Z"
    }
   },
   "outputs": [],
   "source": [
    "# your code here\n",
    "b = np.ones((5,3,2))"
   ]
  },
  {
   "cell_type": "markdown",
   "metadata": {},
   "source": [
    "#### 6. Print *b*.\n"
   ]
  },
  {
   "cell_type": "code",
   "execution_count": 12,
   "metadata": {
    "ExecuteTime": {
     "end_time": "2020-01-25T16:07:27.092993Z",
     "start_time": "2020-01-25T16:07:27.086939Z"
    }
   },
   "outputs": [
    {
     "name": "stdout",
     "output_type": "stream",
     "text": [
      "[[[1. 1.]\n",
      "  [1. 1.]\n",
      "  [1. 1.]]\n",
      "\n",
      " [[1. 1.]\n",
      "  [1. 1.]\n",
      "  [1. 1.]]\n",
      "\n",
      " [[1. 1.]\n",
      "  [1. 1.]\n",
      "  [1. 1.]]\n",
      "\n",
      " [[1. 1.]\n",
      "  [1. 1.]\n",
      "  [1. 1.]]\n",
      "\n",
      " [[1. 1.]\n",
      "  [1. 1.]\n",
      "  [1. 1.]]]\n"
     ]
    }
   ],
   "source": [
    "# your code here\n",
    "print(b)"
   ]
  },
  {
   "cell_type": "markdown",
   "metadata": {},
   "source": [
    "#### 7. Do *a* and *b* have the same size? How do you prove that in Python code?"
   ]
  },
  {
   "cell_type": "code",
   "execution_count": 13,
   "metadata": {
    "ExecuteTime": {
     "end_time": "2020-01-25T16:07:27.893125Z",
     "start_time": "2020-01-25T16:07:27.885747Z"
    }
   },
   "outputs": [
    {
     "data": {
      "text/plain": [
       "True"
      ]
     },
     "execution_count": 13,
     "metadata": {},
     "output_type": "execute_result"
    }
   ],
   "source": [
    "# your code here\n",
    "#Con un operador booleano podemos comprobar si ambas matrizes tienen el mismo tamaño.\n",
    "a1.size == b.size"
   ]
  },
  {
   "cell_type": "markdown",
   "metadata": {},
   "source": [
    "#### 8. Are you able to add *a* and *b*? Why or why not?\n"
   ]
  },
  {
   "cell_type": "code",
   "execution_count": 14,
   "metadata": {
    "ExecuteTime": {
     "end_time": "2020-01-25T16:07:28.819240Z",
     "start_time": "2020-01-25T16:07:28.803566Z"
    }
   },
   "outputs": [
    {
     "ename": "ValueError",
     "evalue": "operands could not be broadcast together with shapes (2,3,5) (5,3,2) ",
     "output_type": "error",
     "traceback": [
      "\u001b[0;31m---------------------------------------------------------------------------\u001b[0m",
      "\u001b[0;31mValueError\u001b[0m                                Traceback (most recent call last)",
      "\u001b[0;32m<ipython-input-14-3bcf3e27e169>\u001b[0m in \u001b[0;36m<module>\u001b[0;34m\u001b[0m\n\u001b[1;32m      1\u001b[0m \u001b[0;31m# your answer here\u001b[0m\u001b[0;34m\u001b[0m\u001b[0;34m\u001b[0m\u001b[0;34m\u001b[0m\u001b[0m\n\u001b[0;32m----> 2\u001b[0;31m \u001b[0mnp\u001b[0m\u001b[0;34m.\u001b[0m\u001b[0madd\u001b[0m\u001b[0;34m(\u001b[0m\u001b[0ma1\u001b[0m\u001b[0;34m,\u001b[0m \u001b[0mb\u001b[0m\u001b[0;34m)\u001b[0m\u001b[0;34m\u001b[0m\u001b[0;34m\u001b[0m\u001b[0m\n\u001b[0m\u001b[1;32m      3\u001b[0m \u001b[0;34m\u001b[0m\u001b[0m\n\u001b[1;32m      4\u001b[0m \u001b[0;31m#ValueError : operands could not be broadcast together with shapes (2,3,5) (5,2,3).\u001b[0m\u001b[0;34m\u001b[0m\u001b[0;34m\u001b[0m\u001b[0;34m\u001b[0m\u001b[0m\n\u001b[1;32m      5\u001b[0m \u001b[0;31m#Ambas matrices tienen el mismo tamaño total de valores* pero no la misma estructura, por lo tanto no es posible\u001b[0m\u001b[0;34m\u001b[0m\u001b[0;34m\u001b[0m\u001b[0;34m\u001b[0m\u001b[0m\n",
      "\u001b[0;31mValueError\u001b[0m: operands could not be broadcast together with shapes (2,3,5) (5,3,2) "
     ]
    }
   ],
   "source": [
    "# your answer here\n",
    "np.add(a1, b)\n",
    "\n",
    "#ValueError : operands could not be broadcast together with shapes (2,3,5) (5,2,3).\n",
    "#Ambas matrices tienen el mismo tamaño total de valores* pero no la misma estructura, por lo tanto no es posible\n",
    "#sumarlas."
   ]
  },
  {
   "cell_type": "markdown",
   "metadata": {},
   "source": [
    "#### 9. Transpose *b* so that it has the same structure of *a* (i.e. become a 2x3x5 array). Assign the transposed array to variable *c*."
   ]
  },
  {
   "cell_type": "code",
   "execution_count": 15,
   "metadata": {
    "ExecuteTime": {
     "end_time": "2020-01-25T16:07:29.932435Z",
     "start_time": "2020-01-25T16:07:29.926539Z"
    }
   },
   "outputs": [],
   "source": [
    "# your code here\n",
    "c = np.transpose(b)"
   ]
  },
  {
   "cell_type": "markdown",
   "metadata": {},
   "source": [
    "#### 10. Try to add *a* and *c*. Now it should work. Assign the sum to variable *d*. But why does it work now?"
   ]
  },
  {
   "cell_type": "code",
   "execution_count": 16,
   "metadata": {
    "ExecuteTime": {
     "end_time": "2020-01-25T16:07:30.984430Z",
     "start_time": "2020-01-25T16:07:30.980155Z"
    }
   },
   "outputs": [],
   "source": [
    "# your code/answer here\n",
    "\n",
    "d = np.add(a1, c)\n"
   ]
  },
  {
   "cell_type": "markdown",
   "metadata": {},
   "source": [
    "#### 11. Print *a* and *d*. Notice the difference and relation of the two array in terms of the values? Explain."
   ]
  },
  {
   "cell_type": "code",
   "execution_count": 17,
   "metadata": {
    "ExecuteTime": {
     "end_time": "2020-01-25T16:07:36.687155Z",
     "start_time": "2020-01-25T16:07:36.670776Z"
    }
   },
   "outputs": [
    {
     "name": "stdout",
     "output_type": "stream",
     "text": [
      "[[[0.63479762 0.69697411 0.76582238 0.38992623 0.2183214 ]\n",
      "  [0.8928772  0.14510176 0.25490616 0.46570928 0.98680531]\n",
      "  [0.88005954 0.39307049 0.45844099 0.7309187  0.85874002]]\n",
      "\n",
      " [[0.01805593 0.67263989 0.49861734 0.7918751  0.58499465]\n",
      "  [0.48236232 0.99667569 0.57022863 0.03672344 0.62270127]\n",
      "  [0.74734089 0.37583555 0.14152583 0.6558676  0.84066512]]]\n",
      "[[[1.63479762 1.69697411 1.76582238 1.38992623 1.2183214 ]\n",
      "  [1.8928772  1.14510176 1.25490616 1.46570928 1.98680531]\n",
      "  [1.88005954 1.39307049 1.45844099 1.7309187  1.85874002]]\n",
      "\n",
      " [[1.01805593 1.67263989 1.49861734 1.7918751  1.58499465]\n",
      "  [1.48236232 1.99667569 1.57022863 1.03672344 1.62270127]\n",
      "  [1.74734089 1.37583555 1.14152583 1.6558676  1.84066512]]]\n"
     ]
    }
   ],
   "source": [
    "# your code/answer here\n",
    "print(a1)\n",
    "print(d)\n",
    "\n",
    "#Al ser d una matriz que solo contiene 1, d es igual que a1 pero añadiendo 1 a todos los valores"
   ]
  },
  {
   "cell_type": "markdown",
   "metadata": {},
   "source": [
    "#### 12. Multiply *a* and *c*. Assign the result to *e*."
   ]
  },
  {
   "cell_type": "code",
   "execution_count": 18,
   "metadata": {
    "ExecuteTime": {
     "end_time": "2020-01-25T16:07:37.932773Z",
     "start_time": "2020-01-25T16:07:37.924061Z"
    }
   },
   "outputs": [
    {
     "name": "stdout",
     "output_type": "stream",
     "text": [
      "[[[0.63479762 0.69697411 0.76582238 0.38992623 0.2183214 ]\n",
      "  [0.8928772  0.14510176 0.25490616 0.46570928 0.98680531]\n",
      "  [0.88005954 0.39307049 0.45844099 0.7309187  0.85874002]]\n",
      "\n",
      " [[0.01805593 0.67263989 0.49861734 0.7918751  0.58499465]\n",
      "  [0.48236232 0.99667569 0.57022863 0.03672344 0.62270127]\n",
      "  [0.74734089 0.37583555 0.14152583 0.6558676  0.84066512]]]\n"
     ]
    }
   ],
   "source": [
    "# your code here\n",
    "e = np.multiply(a1, c)\n",
    "print(e)"
   ]
  },
  {
   "cell_type": "markdown",
   "metadata": {},
   "source": [
    "#### 13. Does *e* equal to *a*? Why or why not?\n"
   ]
  },
  {
   "cell_type": "code",
   "execution_count": 19,
   "metadata": {
    "ExecuteTime": {
     "end_time": "2020-01-25T16:07:39.056384Z",
     "start_time": "2020-01-25T16:07:39.047899Z"
    }
   },
   "outputs": [
    {
     "name": "stdout",
     "output_type": "stream",
     "text": [
      "[[[0.63479762 0.69697411 0.76582238 0.38992623 0.2183214 ]\n",
      "  [0.8928772  0.14510176 0.25490616 0.46570928 0.98680531]\n",
      "  [0.88005954 0.39307049 0.45844099 0.7309187  0.85874002]]\n",
      "\n",
      " [[0.01805593 0.67263989 0.49861734 0.7918751  0.58499465]\n",
      "  [0.48236232 0.99667569 0.57022863 0.03672344 0.62270127]\n",
      "  [0.74734089 0.37583555 0.14152583 0.6558676  0.84066512]]]\n",
      "[[[0.63479762 0.69697411 0.76582238 0.38992623 0.2183214 ]\n",
      "  [0.8928772  0.14510176 0.25490616 0.46570928 0.98680531]\n",
      "  [0.88005954 0.39307049 0.45844099 0.7309187  0.85874002]]\n",
      "\n",
      " [[0.01805593 0.67263989 0.49861734 0.7918751  0.58499465]\n",
      "  [0.48236232 0.99667569 0.57022863 0.03672344 0.62270127]\n",
      "  [0.74734089 0.37583555 0.14152583 0.6558676  0.84066512]]]\n"
     ]
    }
   ],
   "source": [
    "# your code/answer here\n",
    "print(a1)\n",
    "print(e)\n",
    "#Son iguales. Multiplicar por 1 devuelve siempre el mismo valor."
   ]
  },
  {
   "cell_type": "markdown",
   "metadata": {},
   "source": [
    "#### 14. Identify the max, min, and mean values in *d*. Assign those values to variables *d_max*, *d_min* and *d_mean*."
   ]
  },
  {
   "cell_type": "code",
   "execution_count": 20,
   "metadata": {
    "ExecuteTime": {
     "end_time": "2020-01-25T16:07:40.144967Z",
     "start_time": "2020-01-25T16:07:40.137823Z"
    }
   },
   "outputs": [],
   "source": [
    "# your code here\n",
    "d_max = np.max(d)\n",
    "d_min = np.min(d)\n",
    "d_mean = np.mean(d)"
   ]
  },
  {
   "cell_type": "markdown",
   "metadata": {},
   "source": [
    "#### 15. Now we want to label the values in *d*. First create an empty array *f* with the same shape (i.e. 2x3x5) as *d* using `np.empty`.\n"
   ]
  },
  {
   "cell_type": "code",
   "execution_count": 21,
   "metadata": {
    "ExecuteTime": {
     "end_time": "2020-01-25T16:07:41.099957Z",
     "start_time": "2020-01-25T16:07:41.089309Z"
    }
   },
   "outputs": [
    {
     "name": "stdout",
     "output_type": "stream",
     "text": [
      "[[[1.63479762 1.69697411 1.76582238 1.38992623 1.2183214 ]\n",
      "  [1.8928772  1.14510176 1.25490616 1.46570928 1.98680531]\n",
      "  [1.88005954 1.39307049 1.45844099 1.7309187  1.85874002]]\n",
      "\n",
      " [[1.01805593 1.67263989 1.49861734 1.7918751  1.58499465]\n",
      "  [1.48236232 1.99667569 1.57022863 1.03672344 1.62270127]\n",
      "  [1.74734089 1.37583555 1.14152583 1.6558676  1.84066512]]]\n",
      "[[[1.63479762 1.69697411 1.76582238 1.38992623 1.2183214 ]\n",
      "  [1.8928772  1.14510176 1.25490616 1.46570928 1.98680531]\n",
      "  [1.88005954 1.39307049 1.45844099 1.7309187  1.85874002]]\n",
      "\n",
      " [[1.01805593 1.67263989 1.49861734 1.7918751  1.58499465]\n",
      "  [1.48236232 1.99667569 1.57022863 1.03672344 1.62270127]\n",
      "  [1.74734089 1.37583555 1.14152583 1.6558676  1.84066512]]]\n"
     ]
    }
   ],
   "source": [
    "# your code here\n",
    "print(d)\n",
    "f = np.empty([2,3,5])\n",
    "print(f)"
   ]
  },
  {
   "cell_type": "markdown",
   "metadata": {},
   "source": [
    "#### 16. Populate the values in *f*. \n",
    "\n",
    "For each value in *d*, if it's larger than *d_min* but smaller than *d_mean*, assign 25 to the corresponding value in *f*. If a value in *d* is larger than *d_mean* but smaller than *d_max*, assign 75 to the corresponding value in *f*. If a value equals to *d_mean*, assign 50 to the corresponding value in *f*. Assign 0 to the corresponding value(s) in *f* for *d_min* in *d*. Assign 100 to the corresponding value(s) in *f* for *d_max* in *d*. In the end, f should have only the following values: 0, 25, 50, 75, and 100.\n",
    "\n",
    "**Note**: you don't have to use Numpy in this question."
   ]
  },
  {
   "cell_type": "code",
   "execution_count": 35,
   "metadata": {
    "ExecuteTime": {
     "end_time": "2020-01-25T16:26:22.205522Z",
     "start_time": "2020-01-25T16:26:22.181303Z"
    }
   },
   "outputs": [
    {
     "name": "stdout",
     "output_type": "stream",
     "text": [
      "[[[1.63479762 1.69697411 1.76582238 1.38992623 1.2183214 ]\n",
      "  [1.8928772  1.14510176 1.25490616 1.46570928 1.98680531]\n",
      "  [1.88005954 1.39307049 1.45844099 1.7309187  1.85874002]]\n",
      "\n",
      " [[1.01805593 1.67263989 1.49861734 1.7918751  1.58499465]\n",
      "  [1.48236232 1.99667569 1.57022863 1.03672344 1.62270127]\n",
      "  [1.74734089 1.37583555 1.14152583 1.6558676  1.84066512]]]\n",
      "1.996675691234479\n",
      "1.018055933930036\n",
      "1.5602860153833775\n",
      "[[[ 75.  75.  75.  25.  25.]\n",
      "  [ 75.  25.  25.  25.  75.]\n",
      "  [ 75.  25.  25.  75.  75.]]\n",
      "\n",
      " [[  0.  75.  25.  75.  75.]\n",
      "  [ 25. 100.  75.  25.  75.]\n",
      "  [ 75.  25.  25.  75.  75.]]]\n"
     ]
    }
   ],
   "source": [
    "# your code here\n",
    "\n",
    "for x in range(len(d)):\n",
    "    for y in range(len(d[x])):\n",
    "        for k in range (len(d[x][y])):\n",
    "            if d[x][y][k] > d_min and d[x][y][k] < d_mean:\n",
    "                f[x][y][k]= 25\n",
    "            elif d[x][y][k] > d_mean and d[x][y][k] < d_max:\n",
    "                f[x][y][k]= 75\n",
    "            elif d[x][y][k] == d_mean: \n",
    "                f[x][y][k]= 50\n",
    "            elif d[x][y][k] == d_max:\n",
    "                f[x][y][k]= 100\n",
    "            elif d[x][y][k] == d_min:\n",
    "                f[x][y][k]= 0\n",
    "                \n",
    "print(f)"
   ]
  },
  {
   "cell_type": "markdown",
   "metadata": {},
   "source": [
    "#### 17. Print *d* and *f*. Do you have your expected *f*?\n",
    "For instance, if your *d* is:\n",
    "```python\n",
    "[[[1.85836099, 1.67064465, 1.62576044, 1.40243961, 1.88454931],\n",
    "[1.75354326, 1.69403643, 1.36729252, 1.61415071, 1.12104981],\n",
    "[1.72201435, 1.1862918 , 1.87078449, 1.7726778 , 1.88180042]],\n",
    "[[1.44747908, 1.31673383, 1.02000951, 1.52218947, 1.97066381],\n",
    "[1.79129243, 1.74983003, 1.96028037, 1.85166831, 1.65450881],\n",
    "[1.18068344, 1.9587381 , 1.00656599, 1.93402165, 1.73514584]]]\n",
    "```\n",
    "Your *f* should be:\n",
    "```python\n",
    "[[[ 75.,  75.,  75.,  25.,  75.],\n",
    "[ 75.,  75.,  25.,  25.,  25.],\n",
    "[ 75.,  25.,  75.,  75.,  75.]],\n",
    "[[ 25.,  25.,  25.,  25., 100.],\n",
    "[ 75.,  75.,  75.,  75.,  75.],\n",
    "[ 25.,  75.,   0.,  75.,  75.]]]\n",
    "```"
   ]
  },
  {
   "cell_type": "code",
   "execution_count": 36,
   "metadata": {
    "ExecuteTime": {
     "end_time": "2020-01-25T16:26:56.662435Z",
     "start_time": "2020-01-25T16:26:56.655546Z"
    }
   },
   "outputs": [
    {
     "name": "stdout",
     "output_type": "stream",
     "text": [
      "[[[1.63479762 1.69697411 1.76582238 1.38992623 1.2183214 ]\n",
      "  [1.8928772  1.14510176 1.25490616 1.46570928 1.98680531]\n",
      "  [1.88005954 1.39307049 1.45844099 1.7309187  1.85874002]]\n",
      "\n",
      " [[1.01805593 1.67263989 1.49861734 1.7918751  1.58499465]\n",
      "  [1.48236232 1.99667569 1.57022863 1.03672344 1.62270127]\n",
      "  [1.74734089 1.37583555 1.14152583 1.6558676  1.84066512]]]\n",
      "[[[ 75.  75.  75.  25.  25.]\n",
      "  [ 75.  25.  25.  25.  75.]\n",
      "  [ 75.  25.  25.  75.  75.]]\n",
      "\n",
      " [[  0.  75.  25.  75.  75.]\n",
      "  [ 25. 100.  75.  25.  75.]\n",
      "  [ 75.  25.  25.  75.  75.]]]\n"
     ]
    }
   ],
   "source": [
    "# your code here\n",
    "print(d)\n",
    "print(f)"
   ]
  },
  {
   "cell_type": "markdown",
   "metadata": {},
   "source": [
    "#### 18. Bonus question: instead of using numbers (i.e. 0, 25, 50, 75, and 100), use string values  (\"A\", \"B\", \"C\", \"D\", and \"E\") to label the array elements. For the example above, the expected result is:\n",
    "\n",
    "```python\n",
    "[[[ 'D',  'D',  'D',  'B',  'D'],\n",
    "[ 'D',  'D',  'B',  'B',  'B'],\n",
    "[ 'D',  'B',  'D',  'D',  'D']],\n",
    "[[ 'B',  'B',  'B',  'B',  'E'],\n",
    "[ 'D',  'D',  'D',  'D',  'D'],\n",
    "[ 'B',  'D',   'A',  'D', 'D']]]\n",
    "```\n",
    "**Note**: you don't have to use Numpy in this question."
   ]
  },
  {
   "cell_type": "code",
   "execution_count": 39,
   "metadata": {
    "ExecuteTime": {
     "end_time": "2020-01-25T16:30:20.261328Z",
     "start_time": "2020-01-25T16:30:20.248265Z"
    }
   },
   "outputs": [
    {
     "name": "stdout",
     "output_type": "stream",
     "text": [
      "[[['D' 'D' 'D' 'B' 'B']\n",
      "  ['D' 'B' 'B' 'B' 'D']\n",
      "  ['D' 'B' 'B' 'D' 'D']]\n",
      "\n",
      " [['A' 'D' 'B' 'D' 'D']\n",
      "  ['B' 'E' 'D' 'B' 'D']\n",
      "  ['D' 'B' 'B' 'D' 'D']]]\n"
     ]
    }
   ],
   "source": [
    "# your code here\n",
    "\n",
    "f = np.empty([2,3,5], dtype = str)\n",
    "\n",
    "for x in range(len(d)):\n",
    "    for y in range(len(d[x])):\n",
    "        for k in range (len(d[x][y])):\n",
    "            if d[x][y][k] > d_min and d[x][y][k] < d_mean:\n",
    "                f[x][y][k]= \"B\"\n",
    "            elif d[x][y][k] > d_mean and d[x][y][k] < d_max:\n",
    "                f[x][y][k]= \"D\"\n",
    "            elif d[x][y][k] == d_mean: \n",
    "                f[x][y][k]= \"C\"\n",
    "            elif d[x][y][k] == d_max:\n",
    "                f[x][y][k]= \"E\"\n",
    "            elif d[x][y][k] == d_min:\n",
    "                f[x][y][k]= \"A\"\n",
    "                \n",
    "print(f)"
   ]
  },
  {
   "cell_type": "code",
   "execution_count": null,
   "metadata": {},
   "outputs": [],
   "source": []
  }
 ],
 "metadata": {
  "kernelspec": {
   "display_name": "Python 3",
   "language": "python",
   "name": "python3"
  },
  "language_info": {
   "codemirror_mode": {
    "name": "ipython",
    "version": 3
   },
   "file_extension": ".py",
   "mimetype": "text/x-python",
   "name": "python",
   "nbconvert_exporter": "python",
   "pygments_lexer": "ipython3",
   "version": "3.7.4"
  },
  "toc": {
   "base_numbering": 1,
   "nav_menu": {},
   "number_sections": true,
   "sideBar": true,
   "skip_h1_title": false,
   "title_cell": "Table of Contents",
   "title_sidebar": "Contents",
   "toc_cell": false,
   "toc_position": {},
   "toc_section_display": true,
   "toc_window_display": false
  },
  "varInspector": {
   "cols": {
    "lenName": 16,
    "lenType": 16,
    "lenVar": 40
   },
   "kernels_config": {
    "python": {
     "delete_cmd_postfix": "",
     "delete_cmd_prefix": "del ",
     "library": "var_list.py",
     "varRefreshCmd": "print(var_dic_list())"
    },
    "r": {
     "delete_cmd_postfix": ") ",
     "delete_cmd_prefix": "rm(",
     "library": "var_list.r",
     "varRefreshCmd": "cat(var_dic_list()) "
    }
   },
   "types_to_exclude": [
    "module",
    "function",
    "builtin_function_or_method",
    "instance",
    "_Feature"
   ],
   "window_display": false
  }
 },
 "nbformat": 4,
 "nbformat_minor": 2
}
